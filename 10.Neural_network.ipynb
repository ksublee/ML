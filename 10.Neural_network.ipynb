{
 "cells": [
  {
   "cell_type": "markdown",
   "metadata": {},
   "source": [
    "### 신경망\n",
    "\n",
    "인공 신경망 (ANN, artificial neural network)은 생물학적 뉴런의 네트워크에서 영감을 받은 머신러닝 모델이다.\n",
    "\n",
    "인공 신경망은 딥러닝의 핵심이며 다재다능하고 강력하고 확장성이 좋다.\n",
    "\n",
    "요즘 많이 사용하는 다층 퍼셉트론 (MLP, multi-layer perceptron)부터 살펴본다."
   ]
  },
  {
   "cell_type": "markdown",
   "metadata": {},
   "source": [
    "### 퍼셉트론\n",
    "\n",
    "퍼셉트론은 가장 간단한 인공 신경망 구조로 TLU (threshold logic unit) 또는 LTU (linear threshold unit)라고 불리는 인공 뉴런 (유닛)을 기반으로 한다.\n",
    "\n",
    "TLU는 입력 $x_1, \\cdots, x_n$의 가중치 합\n",
    "\n",
    "$$ z = w_1 x_1 + w_2 x_2 + \\cdots + w_n x_n = \\mathbf{x}^{\\top} \\mathbf{w} $$\n",
    "\n",
    "을 계산한 뒤 step function을 적용하여 결과를 출력한다.\n",
    "\n",
    "$h_{\\mathbf{w}}(\\mathbf{x}) = \\mathrm{step}(z) $로 나타낸다.\n",
    "\n",
    "step function으로는 다음을 이용한다.\n",
    "\n",
    "$$ \\mathrm{heaviside}(z)  = \\left \\{ \\begin{array}{ll} 0 & z<0 \\\\ 1 & z \\geq 0 \\end{array} \\right.$$\n",
    "\n",
    "혹은\n",
    "\n",
    "$$ \\mathrm{sgn}(z)  = \\left \\{ \\begin{array}{lll} -1 & z<0 \\\\  0 & z = 0 \\\\ 1 & z > 0 \\end{array} \\right.$$\n",
    "\n",
    "TLU를 훈련한다는 것은 최적의 $w$들을 찾는 것이다.\n",
    "\n",
    "퍼셉트론은 layer가 하나뿐인 TLU로 구성된다.\n",
    "\n",
    "퍼셉트론에서 입력층은 입력 뉴런인 $x_i$들과 항상 1을 출력하는 bias nueron으로 구성된다.\n",
    "\n",
    "여러 샘플에 대한 인공 뉴런 층의 출력을 다음과 같이 나타낼 수 있다.\n",
    "\n",
    "$$ h_{\\mathbf{w}, \\mathbf{b}}(\\mathbf{X}) = \\phi(\\mathbf{X}\\mathbf{W} + \\mathbf{b}) $$\n",
    "\n",
    "여기서 $\\mathbf{W}$는 비펺향 뉴런에 대한 가중치이고, $\\mathbf{b}$는 편향 뉴런에 대한 가중치이다.\n",
    "\n",
    "$\\phi$는 활성화 함수로 비선형적인 결과를 얻기 위해 도입되었다.\n",
    "\n",
    "초창기에는 계단 함수 등이 사용되었으나, 나중에 살펴볼 역전파 알고리즘이 잘 작동하도록 작동하도록, 활성화 함수를 계단함수가 아닌 시그모이드 함수 등으로 바꾸어 이용한다.\n",
    "\n",
    "$$ \\sigma(z) = \\frac{1}{1 + \\exp(-z)}$$\n",
    "\n",
    "그 외에 하이퍼볼릭 탄젠트 함수, ReLU 함수 등이 많이 사용된다.\n",
    "\n",
    "$$ \\tanh(z) = 2 \\sigma (2z) - 1$$\n",
    "\n",
    "$$ \\mathrm{ReLU}(z) = \\max(0, z) $$"
   ]
  },
  {
   "cell_type": "markdown",
   "metadata": {},
   "source": [
    "### 다층 퍼셉트론\n",
    "\n",
    "퍼셉트론을 여러 층 쌓아올린 다층 퍼셉트론 (MLP)은 단층 퍼셉트론의 여러 제약을 줄일 수 있다.\n",
    "\n",
    "MLP는 input layer 하나와 hidden layer라 불리우는 하나 이상의 TLU 층과 마지막 output layer로 구성된다.\n",
    "\n",
    "hidden layer를 여러 개 쌓아 올린 인공 신경망을 심층 신경망 (DNN, deep neural network)이라고 한다.\n",
    "\n",
    "다층 퍼셉트론은 역전파 (backpropagation) 알고리즘이라 불리우는 경사하강법을 이용하여 훈련한다."
   ]
  },
  {
   "cell_type": "markdown",
   "metadata": {},
   "source": [
    "### Back propagation\n",
    "\n",
    "역전파 알고리즘을 요약하자면, 각 훈련 샘플에 대해 역전파 알고리즘이 먼저 예측을 만들고 오차를 계산한다.\n",
    "\n",
    "그 다음 역방향으로 각 층을 거치면서 각 연결이 오차에 기여한 정도를 측정한다. \n",
    "\n",
    "마지막으로 이 오차가 감소하도록 경사하강법을 이용하여 가중치를 조정한다.\n",
    "\n",
    "$L$개의 hidden layer가 있다고 하자. \n",
    "\n",
    "layer 0는 input layer를 뜻하고, layer 1부터 L까지는 hidden layer, layer L+1은 output layer를 뜻한다.\n",
    "\n",
    "각 layer $\\ell$에는 $s_{\\ell}$개의 유닛들이 있고, $s_L = K$인 $K$-분류 문제를 생각해 보자.\n",
    "\n",
    "output layer에서는 softmax 함수를 이용하여 클래스를 결정한다.\n",
    "\n",
    "파라미터 $w_{ij}^{(\\ell)}$는 다음의 두 값들의 관계에 대한 모수이다.\n",
    "\n",
    "* $\\ell-1$번째 layer의 유닛 $j$의 output인 $a_{j}^{(\\ell-1)}$과\n",
    "\n",
    "* $\\ell$번째 layer의 유닛 $i$의 중간 output인 $z_{i}^{(\\ell)}$ (중간 output이라 함은 활성 함수 적용 전)\n",
    "\n",
    "즉,\n",
    "\n",
    "$$ z_{i}^{(\\ell)} = \\sum_{j=1}^{s_{\\ell - 1}} w_{ij}^{(\\ell)} a_j^{(\\ell-1)}.$$\n",
    "\n",
    "활성함수 $\\phi$는 $z$에 적용된다. 즉,\n",
    "\n",
    "$$ a_{i}^{(\\ell)} = \\phi (z_i^{(\\ell)}).$$\n",
    "\n",
    "미분을 통해 다음의 결과를 얻는다.\n",
    "\n",
    "$$ \\frac{\\partial z_i^{(\\ell)}}{\\partial a_j^{(\\ell - 1)}} = w_{ij}^{(\\ell)}, \\quad  \\frac{\\partial z_i^{(\\ell)}}{\\partial w_{ij}^{(\\ell)}} = a_j^{(\\ell - 1)} $$\n",
    "\n",
    "Output layer의 소프트맥스 함수에 의해 cost function $J$는 다음과 같이 나타낼 수 있다.\n",
    "\n",
    "$$ J = - \\sum_{i=1}^{K} y_i \\log p_i$$\n",
    "\n",
    "여기서 $y_i$는 현재 input이 class $i$에 속하면 1이고 그렇지 않으면 0이다.\n",
    "\n",
    "또한, \n",
    "\n",
    "$$ p_i = \\frac{\\exp(a_i^{(L)})}{\\sum_{k=1}^{K} \\exp(a_k^{(L)})} $$\n",
    "\n",
    "우리의 목적은 cost function $J$에 대해 다음의 값을 계산하는 것이다.\n",
    "\n",
    "$$ \\frac{\\partial J}{\\partial w_{ij}^{(\\ell)}} $$\n",
    "\n",
    "이를 위해\n",
    "\n",
    "$$ \\delta_{i}^{(\\ell)} =  \\frac{\\partial J}{\\partial z_i^{(\\ell)}} $$\n",
    "\n",
    "라고 정의하면, 몇가지 계산 결과\n",
    "\n",
    "$$ \\frac{\\partial J}{\\partial a_i^{(L)}} = p_i - y_i $$\n",
    "\n",
    "이고,\n",
    "\n",
    "$$ \\delta_{i}^{(L)} = \\frac{\\partial J}{\\partial z_i^{(L)}} = (p_i - y_i) \\phi' \\left(z_i^{(L)} \\right) $$\n",
    "\n",
    "이다. hidden layer들에 대해\n",
    "\n",
    "$$\n",
    "\\delta_{i}^{(\\ell)} = \\frac{\\partial J}{\\partial z_{i}^{(\\ell)}}= \\left( \\sum_{j=1}^{s_{\\ell + 1}} \\frac{\\partial J}{\\partial z_{j}^{(\\ell + 1)}} \\frac{\\partial z_j^{(\\ell + 1)}}{\\partial a_i^{(\\ell)}} \\right) \\frac{\\partial a_i^{(\\ell)}}{\\partial z_i^{(\\ell)}} = \\left( \\sum_{j=1}^{s_{\\ell + 1}} \\delta_i^{(\\ell + 1)} w_{ji}^{(\\ell + 1)} \\right) \\phi' (z_i^{(\\ell)}).\n",
    "$$\n",
    "\n",
    "마지막으로\n",
    "\n",
    "$$ \\frac{\\partial J}{\\partial w_{ij}^{(\\ell)}} = \\frac{\\partial J}{\\partial z_i^{(\\ell)}} \\frac{\\partial z_i^{(\\ell)}}{\\partial w_{ij}^{(\\ell)}} =  \\delta_i^{(\\ell)} a_j^{(\\ell - 1)}.$$\n",
    "\n",
    "Matrix notation을 이용하면\n",
    "\n",
    "$$ \\delta^{(\\ell)} = \\left( {\\mathbf{W}^{(\\ell + 1)}}^{\\top} \\delta^{(\\ell + 1)} \\right) \\circ \\phi'(z^{(\\ell)}) $$\n",
    "\n",
    "$$ \\nabla_{\\mathbf{W}^{(\\ell)}} J  = \\delta^{(\\ell + 1)} {a^{(\\ell)}}^{\\top} $$\n",
    "\n",
    "$$ \\nabla_{\\mathbf{b}^{(\\ell)}} J  = \\delta^{(\\ell + 1)}  $$\n",
    "\n",
    "여기서 $\\circ$는 elementwise multiplication이다.\n",
    "\n",
    "위 방법을 이용하면 모든 layer에 대해 gradient 벡터를 구할 수 있고, 이를 통해 경사 하강 업데이트를 적용하여 parameter들을 업데이트 한다.\n",
    "\n",
    "예를 들어 학습률 $\\eta$를 가지고 있으면\n",
    "\n",
    "$$ w^{(\\ell)}_{ij} \\leftarrow w_{ij}^{(\\ell)} - \\eta \\frac{\\partial J}{\\partial w_{ij}^{(\\ell)}} $$"
   ]
  },
  {
   "cell_type": "markdown",
   "metadata": {},
   "source": [
    "### 케라스\n",
    "\n",
    "Keras는 머신 러닝 플랫폼 TensorFlow에서 실행되는 Python으로 작성된 딥 러닝 API이다. \n",
    "\n",
    "빠른 실험을 가능하게 하는 데 중점을 두고 개발되었으며, 아이디어로부터 결과를 가능한 한 빨리 도출할 수 있도록 개발된 툴이다.\n",
    "\n",
    "한편, TensorFlow 2는 end-to-end 오픈 소스 머신 러닝 플랫폼으로, 다음과 같은 네 가지 주요 기능을 가진다.\n",
    "\n",
    "* CPU, GPU 또는 TPU에서 낮은 수준의 텐서 작업을 효율적으로 실행한다.\n",
    "\n",
    "* 임의의 미분 표현식의 기울기를 계산할 수 있다.\n",
    "\n",
    "* 계산을 multi-gpu 등 여러 장치로 확장한다. \n",
    "\n",
    "* 프로그램 (\"그래프\")을 서버, 브라우저, 모바일 및 임베디드 장치와 같은 외부 플랫폼으로 보낼 수 있음.\n",
    "\n",
    "Keras는 TensorFlow 2의 고수준 API이며, 현대 딥 러닝에 중점을 두고 있으며, 접근하기 쉽고 생산성이 높은 인터페이스로서 머신 러닝 문제를 해결하기 할 수 있다.\n",
    "\n",
    "반복 속도가 빠른 기계 학습 솔루션을 개발하고 제공하기위한 필수 추상화 및 빌딩 블록을 제공한다.\n",
    "\n",
    "Keras는 엔지니어와 연구원이 TensorFlow 2의 확장성과 교차 플랫폼 기능을 최대한 활용할 수 있도록 지원한다. \n",
    "\n",
    "TPU 또는 대규모 GPU 클러스터에서 Keras를 실행할 수 있으며 Keras 모델을 내보내 브라우저 또는 모바일에서 실행할 수 있다."
   ]
  },
  {
   "cell_type": "markdown",
   "metadata": {},
   "source": [
    "### 케라스 처음 다루기\n",
    "\n",
    "Keras의 핵심 데이터 구조는 layer와 model이다.\n",
    "\n",
    "가장 간단한 모델 유형은 계층의 선형 스택인 Sequential 모델이다. \n",
    "\n",
    "더 복잡한 아키텍처의 경우 계층의 임의 그래프를 작성하거나 서브 클래스를 통해 처음부터 완전히 모델을 작성할 수있는 Keras 기능 API를 사용해야 한다.\n",
    "\n",
    "다음은 sequential 모델이다."
   ]
  },
  {
   "cell_type": "code",
   "execution_count": 4,
   "metadata": {},
   "outputs": [],
   "source": [
    "from tensorflow.keras.models import Sequential\n",
    "\n",
    "model = Sequential()"
   ]
  },
  {
   "cell_type": "markdown",
   "metadata": {},
   "source": [
    "```.add()```를 이용하여 layer들을 쌓는 것이 가능하다.\n",
    "\n",
    "레이어는 Keras에서 신경망의 기본 구성 요소이다. \n",
    "\n",
    "* Input object  \n",
    "* Dense layer  \n",
    "* Activation layer  \n",
    "* Embedding layer  \n",
    "* Masking layer  \n",
    "* Lambda layer\n",
    "\n",
    "#### Dense layer\n",
    "\n",
    "가장 기본적인 NN 레이어.\n",
    "\n",
    "Dense는 다음 작업을 구현한다. \n",
    "\n",
    "```output = activation(dot(input, kernel) + bias)```\n"
   ]
  },
  {
   "cell_type": "code",
   "execution_count": 5,
   "metadata": {},
   "outputs": [],
   "source": [
    "from tensorflow.keras.layers import Dense\n",
    "\n",
    "model.add(Dense(units=12, activation='relu'))\n",
    "model.add(Dense(units=8, activation='relu'))\n",
    "model.add(Dense(units=1, activation='softmax'))"
   ]
  },
  {
   "cell_type": "markdown",
   "metadata": {},
   "source": [
    "모델이 좋아 보이면 ```.compile()```을 사용하여 학습 프로세스를 구성한다.\n",
    "\n",
    "컴파일은 모델 생성의 마지막 단계로 컴파일이 완료되면 훈련 단계로 넘어갈 수 있다."
   ]
  },
  {
   "cell_type": "code",
   "execution_count": 6,
   "metadata": {},
   "outputs": [],
   "source": [
    "model.compile(loss='binary_crossentropy',\n",
    "              optimizer='adam',\n",
    "              metrics=['accuracy'])"
   ]
  },
  {
   "cell_type": "markdown",
   "metadata": {},
   "source": [
    "#### Loss\n",
    "머신러닝에서 Loss 함수는 학습 과정에서 오류나 편차를 찾는 데 사용되며, Keras는 모델 컴파일 과정에서 loss function이 필요하다.\n",
    "\n",
    "Keras는 상당히 많은 종류의 loss function을 제공한다.\n",
    "\n",
    "* mean_squared_error  \n",
    "* mean_absolute_error  \n",
    "* mean_absolute_percentage_error  \n",
    "* mean_squared_logarithmic_error  \n",
    "* squared_hinge  \n",
    "* hinge  \n",
    "* categorical_hinge  \n",
    "* logcosh  \n",
    "* huber_loss  \n",
    "* categorical_crossentropy  \n",
    "* sparse_categorical_crossentropy  \n",
    "* binary_crossentropy  \n",
    "* kullback_leibler_divergence  \n",
    "* poisson  \n",
    "* cosine_proximity  \n",
    "* is_categorical_crossentropy\n",
    "\n",
    "#### Optimizer\n",
    "\n",
    "기계학습에서 최적화는 예측과 손실 함수를 비교하여 입력 가중치를 최적화하는 중요한 프로세스이다.  \n",
    "Keras는 다양한 optimaizer를 제공한다.\n",
    "\n",
    "* SGD − Stochastic gradient descent optimizer.\n",
    "\n",
    "* RMSprop − RMSProp optimizer.\n",
    "\n",
    "* Adagrad − Adagrad optimizer.\n",
    "\n",
    "* Adadelta − Adadelta optimizer.\n",
    "\n",
    "* Adam − Adam optimizer.\n",
    "\n",
    "* Adamax − Adamax optimizer from Adam.\n",
    "\n",
    "* Nadam − Nesterov Adam optimizer.\n",
    "\n",
    "####  Metrics\n",
    "\n",
    "기계학습에서 Metrics는 모델의 성능을 평가하는 데 사용되며, 손실 함수와 유사하지만 훈련 과정에서는 사용되지 않는다. \n",
    "\n",
    "* accuracy\n",
    "* binary_accuracy\n",
    "* categorical_accuracy\n",
    "* sparse_categorical_accuracy\n",
    "* top_k_categorical_accuracy\n",
    "* sparse_top_k_categorical_accuracy\n",
    "* cosine_proximity\n",
    "* clone_metric"
   ]
  },
  {
   "cell_type": "markdown",
   "metadata": {},
   "source": [
    "필요한 경우 최적화 프로그램을 추가로 구성할 수 있다. \n",
    "Keras의 철학은 단순한 것을 단순하게 유지하면서 사용자가 필요할 때 완전히 제어 할 수 있도록 하는 것이다. "
   ]
  },
  {
   "cell_type": "code",
   "execution_count": 7,
   "metadata": {},
   "outputs": [],
   "source": [
    "from sklearn.datasets import make_circles\n",
    "\n",
    "X, targets = make_circles(n_samples = 1000, factor=0.1)\n",
    "X_training = X[250:, :]\n",
    "X_testing = X[:250, :]\n",
    "Targets_training = targets[250:]\n",
    "Targets_testing = targets[:250]"
   ]
  },
  {
   "cell_type": "code",
   "execution_count": 8,
   "metadata": {},
   "outputs": [
    {
     "data": {
      "image/png": "[encoded data removed]",
      "text/plain": [
       "<Figure size 432x288 with 1 Axes>"
      ]
     },
     "metadata": {
      "needs_background": "light"
     },
     "output_type": "display_data"
    }
   ],
   "source": [
    "import matplotlib.pyplot as plt\n",
    "plt.scatter(X_training[:,0], X_training[:,1], Targets_training == 0, color='red')\n",
    "plt.scatter(X_training[:,0], X_training[:,1], Targets_training == 1, color='blue')\n",
    "\n",
    "plt.xlabel('X1')\n",
    "plt.ylabel('X2')\n",
    "plt.show()"
   ]
  },
  {
   "cell_type": "markdown",
   "metadata": {},
   "source": [
    "이제 훈련 데이터를 학습할 수 있다.\n",
    "\n",
    "numpy array들을 이용하여 학습할 수 있으며, ```.fit()``` method를 이용한다.\n",
    "\n",
    "다음의 문법 구조를 가진다.\n",
    "\n",
    "```model.fit(X, y, epochs = , batch_size = )```\n"
   ]
  },
  {
   "cell_type": "code",
   "execution_count": 9,
   "metadata": {
    "scrolled": true
   },
   "outputs": [
    {
     "name": "stdout",
     "output_type": "stream",
     "text": [
      "Epoch 1/30\n",
      "150/150 [==============================] - 1s 785us/step - loss: 0.6808 - accuracy: 0.4867\n",
      "Epoch 2/30\n",
      "150/150 [==============================] - 0s 812us/step - loss: 0.5782 - accuracy: 0.4924\n",
      "Epoch 3/30\n",
      "150/150 [==============================] - 0s 872us/step - loss: 0.4279 - accuracy: 0.5044\n",
      "Epoch 4/30\n",
      "150/150 [==============================] - 0s 960us/step - loss: 0.2653 - accuracy: 0.4984\n",
      "Epoch 5/30\n",
      "150/150 [==============================] - 0s 846us/step - loss: 0.1397 - accuracy: 0.5164\n",
      "Epoch 6/30\n",
      "150/150 [==============================] - 0s 879us/step - loss: 0.0610 - accuracy: 0.4888\n",
      "Epoch 7/30\n",
      "150/150 [==============================] - 0s 859us/step - loss: 0.0305 - accuracy: 0.4846\n",
      "Epoch 8/30\n",
      "150/150 [==============================] - 0s 1ms/step - loss: 0.0177 - accuracy: 0.4923\n",
      "Epoch 9/30\n",
      "150/150 [==============================] - 0s 819us/step - loss: 0.0113 - accuracy: 0.4852\n",
      "Epoch 10/30\n",
      "150/150 [==============================] - 0s 812us/step - loss: 0.0077 - accuracy: 0.4770\n",
      "Epoch 11/30\n",
      "150/150 [==============================] - 0s 805us/step - loss: 0.0056 - accuracy: 0.4811\n",
      "Epoch 12/30\n",
      "150/150 [==============================] - 0s 792us/step - loss: 0.0042 - accuracy: 0.4861\n",
      "Epoch 13/30\n",
      "150/150 [==============================] - 0s 792us/step - loss: 0.0033 - accuracy: 0.4969\n",
      "Epoch 14/30\n",
      "150/150 [==============================] - 0s 919us/step - loss: 0.0026 - accuracy: 0.4766\n",
      "Epoch 15/30\n",
      "150/150 [==============================] - 0s 852us/step - loss: 0.0021 - accuracy: 0.5045\n",
      "Epoch 16/30\n",
      "150/150 [==============================] - 0s 765us/step - loss: 0.0017 - accuracy: 0.4921\n",
      "Epoch 17/30\n",
      "150/150 [==============================] - 0s 732us/step - loss: 0.0014 - accuracy: 0.4797\n",
      "Epoch 18/30\n",
      "150/150 [==============================] - 0s 752us/step - loss: 0.0012 - accuracy: 0.4688\n",
      "Epoch 19/30\n",
      "150/150 [==============================] - 0s 826us/step - loss: 0.0010 - accuracy: 0.4811\n",
      "Epoch 20/30\n",
      "150/150 [==============================] - 0s 852us/step - loss: 8.7054e-04 - accuracy: 0.4797\n",
      "Epoch 21/30\n",
      "150/150 [==============================] - 0s 725us/step - loss: 7.2541e-04 - accuracy: 0.4702\n",
      "Epoch 22/30\n",
      "150/150 [==============================] - 0s 819us/step - loss: 6.6068e-04 - accuracy: 0.5106\n",
      "Epoch 23/30\n",
      "150/150 [==============================] - 0s 879us/step - loss: 5.5397e-04 - accuracy: 0.4797\n",
      "Epoch 24/30\n",
      "150/150 [==============================] - 0s 799us/step - loss: 4.9545e-04 - accuracy: 0.4958\n",
      "Epoch 25/30\n",
      "150/150 [==============================] - 0s 906us/step - loss: 4.2245e-04 - accuracy: 0.4826\n",
      "Epoch 26/30\n",
      "150/150 [==============================] - 0s 886us/step - loss: 3.7683e-04 - accuracy: 0.4842\n",
      "Epoch 27/30\n",
      "150/150 [==============================] - 0s 785us/step - loss: 3.5862e-04 - accuracy: 0.5324\n",
      "Epoch 28/30\n",
      "150/150 [==============================] - 0s 846us/step - loss: 2.9823e-04 - accuracy: 0.4865\n",
      "Epoch 29/30\n",
      "150/150 [==============================] - 0s 859us/step - loss: 2.6154e-04 - accuracy: 0.4940\n",
      "Epoch 30/30\n",
      "150/150 [==============================] - 0s 839us/step - loss: 2.3913e-04 - accuracy: 0.5240\n"
     ]
    }
   ],
   "source": [
    "history = model.fit(X_training, Targets_training, epochs=30, batch_size=5)"
   ]
  },
  {
   "cell_type": "code",
   "execution_count": 11,
   "metadata": {},
   "outputs": [
    {
     "name": "stdout",
     "output_type": "stream",
     "text": [
      "8/8 [==============================] - 0s 1ms/step - loss: 2.3693e-04 - accuracy: 0.5400\n",
      "[0.0002369283902226016, 0.5400000214576721]\n"
     ]
    }
   ],
   "source": [
    "test_results = model.evaluate(X_testing, Targets_testing, verbose=1)\n",
    "print(test_results)"
   ]
  },
  {
   "cell_type": "markdown",
   "metadata": {},
   "source": [
    "### 케라스를 이용한 다층 퍼셉트론 구현 예제"
   ]
  },
  {
   "cell_type": "code",
   "execution_count": 2,
   "metadata": {},
   "outputs": [],
   "source": [
    "import tensorflow as tf\n",
    "from tensorflow import keras\n",
    "import matplotlib.pyplot as plt"
   ]
  },
  {
   "cell_type": "code",
   "execution_count": 13,
   "metadata": {},
   "outputs": [],
   "source": [
    "fashion_mnist = keras.datasets.fashion_mnist\n",
    "(X_train_full, y_train_full), (X_test, y_test) = fashion_mnist.load_data()"
   ]
  },
  {
   "cell_type": "markdown",
   "metadata": {},
   "source": [
    "훈련 세트는 60,000개의 흑백 이미지이며, 각 이미지의 크기는 28x28 픽셀이다."
   ]
  },
  {
   "cell_type": "code",
   "execution_count": 10,
   "metadata": {},
   "outputs": [
    {
     "data": {
      "text/plain": [
       "(60000, 28, 28)"
      ]
     },
     "execution_count": 10,
     "metadata": {},
     "output_type": "execute_result"
    }
   ],
   "source": [
    "X_train_full.shape"
   ]
  },
  {
   "cell_type": "code",
   "execution_count": 11,
   "metadata": {},
   "outputs": [
    {
     "data": {
      "text/plain": [
       "(60000,)"
      ]
     },
     "execution_count": 11,
     "metadata": {},
     "output_type": "execute_result"
    }
   ],
   "source": [
    "y_train_full.shape"
   ]
  },
  {
   "cell_type": "code",
   "execution_count": 15,
   "metadata": {},
   "outputs": [
    {
     "data": {
      "text/plain": [
       "array([9, 0, 0, ..., 3, 0, 5], dtype=uint8)"
      ]
     },
     "execution_count": 15,
     "metadata": {},
     "output_type": "execute_result"
    }
   ],
   "source": [
    "y_train_full"
   ]
  },
  {
   "cell_type": "markdown",
   "metadata": {},
   "source": [
    "전체 훈련 세트를 검증 세트와 (조금 더 작은) 훈련 세트로 나누고, 픽셀 강도를 255로 나누어 0~1 범위의 실수로 바꾼다."
   ]
  },
  {
   "cell_type": "code",
   "execution_count": 17,
   "metadata": {},
   "outputs": [],
   "source": [
    "X_valid, X_train = X_train_full[:5000] / 255., X_train_full[5000:] / 255.\n",
    "y_valid, y_train = y_train_full[:5000], y_train_full[5000:]\n",
    "X_test = X_test / 255."
   ]
  },
  {
   "cell_type": "code",
   "execution_count": 54,
   "metadata": {},
   "outputs": [
    {
     "data": {
      "image/png": "[encoded data removed]",
      "text/plain": [
       "<Figure size 432x288 with 1 Axes>"
      ]
     },
     "metadata": {
      "needs_background": "light"
     },
     "output_type": "display_data"
    }
   ],
   "source": [
    "plt.imshow(X_train[0], cmap=\"binary\")\n",
    "plt.axis('off')\n",
    "plt.show()"
   ]
  },
  {
   "cell_type": "code",
   "execution_count": 14,
   "metadata": {},
   "outputs": [
    {
     "data": {
      "text/plain": [
       "array([4, 0, 7, ..., 3, 0, 5], dtype=uint8)"
      ]
     },
     "execution_count": 14,
     "metadata": {},
     "output_type": "execute_result"
    }
   ],
   "source": [
    "y_train"
   ]
  },
  {
   "cell_type": "markdown",
   "metadata": {},
   "source": [
    "레이블(label)은 0에서 9까지의 정수 배열로, 이 값은 이미지에 있는 옷의 클래스(class)를 나타낸다."
   ]
  },
  {
   "cell_type": "code",
   "execution_count": 24,
   "metadata": {},
   "outputs": [],
   "source": [
    "class_names = [\"T-shirt/top\", \"Trouser\", \"Pullover\", \"Dress\", \"Coat\",\n",
    "               \"Sandal\", \"Shirt\", \"Sneaker\", \"Bag\", \"Ankle boot\"]"
   ]
  },
  {
   "cell_type": "code",
   "execution_count": 28,
   "metadata": {},
   "outputs": [],
   "source": [
    "# 두 개의 은닉층이 있는 분류용 다층 퍼셉트론 \n",
    "model = keras.models.Sequential()\n",
    "model.add(keras.layers.Flatten(input_shape=[28, 28]))\n",
    "model.add(keras.layers.Dense(300, activation=\"relu\"))\n",
    "model.add(keras.layers.Dense(100, activation=\"relu\"))\n",
    "model.add(keras.layers.Dense(10, activation=\"softmax\"))"
   ]
  },
  {
   "cell_type": "markdown",
   "metadata": {},
   "source": [
    "* 첫번째 라인은 Sequential 모델을 만든다. 이 모델은 케라스의 가장 간단한 신경망 모형이다. 순서대로 연결된 층을 일렬로 쌓아 구성한다.\n",
    "* 그 다음 첫 번째 층을 만들어 추가한다. Flatten 층은 입력 이미지를 1D 배열로 변환한다.\n",
    "* 그 다음은 뉴런(유닛) 300개를 가진 Dense 층을 추가한다. Dense 층은 각자 가중치 행렬을 관리한다.\n",
    "* 그 다음은 100개의 유닛을 가진 두 번째 은닉층을 추가한다.\n",
    "* 마지막으로 소프트맥스 함수를 가진 10개의 Dense 출력층을 추가한다."
   ]
  },
  {
   "cell_type": "code",
   "execution_count": 29,
   "metadata": {},
   "outputs": [],
   "source": [
    "# 혹은 아래와 같이 표현할 수도 있다.\n",
    "\n",
    "model = keras.models.Sequential([\n",
    "    keras.layers.Flatten(input_shape=[28, 28]),\n",
    "    keras.layers.Dense(300, activation=\"relu\"),\n",
    "    keras.layers.Dense(100, activation=\"relu\"),\n",
    "    keras.layers.Dense(10, activation=\"softmax\")\n",
    "])"
   ]
  },
  {
   "cell_type": "code",
   "execution_count": 30,
   "metadata": {},
   "outputs": [
    {
     "data": {
      "text/plain": [
       "[<tensorflow.python.keras.layers.core.Flatten at 0x294412486c8>,\n",
       " <tensorflow.python.keras.layers.core.Dense at 0x29441239808>,\n",
       " <tensorflow.python.keras.layers.core.Dense at 0x29441239b88>,\n",
       " <tensorflow.python.keras.layers.core.Dense at 0x29441246108>]"
      ]
     },
     "execution_count": 30,
     "metadata": {},
     "output_type": "execute_result"
    }
   ],
   "source": [
    "model.layers"
   ]
  },
  {
   "cell_type": "code",
   "execution_count": 31,
   "metadata": {},
   "outputs": [
    {
     "name": "stdout",
     "output_type": "stream",
     "text": [
      "Model: \"sequential_2\"\n",
      "_________________________________________________________________\n",
      "Layer (type)                 Output Shape              Param #   \n",
      "=================================================================\n",
      "flatten_1 (Flatten)          (None, 784)               0         \n",
      "_________________________________________________________________\n",
      "dense_6 (Dense)              (None, 300)               235500    \n",
      "_________________________________________________________________\n",
      "dense_7 (Dense)              (None, 100)               30100     \n",
      "_________________________________________________________________\n",
      "dense_8 (Dense)              (None, 10)                1010      \n",
      "=================================================================\n",
      "Total params: 266,610\n",
      "Trainable params: 266,610\n",
      "Non-trainable params: 0\n",
      "_________________________________________________________________\n"
     ]
    }
   ],
   "source": [
    "model.summary()"
   ]
  },
  {
   "cell_type": "code",
   "execution_count": 32,
   "metadata": {},
   "outputs": [
    {
     "data": {
      "image/png": "[encoded data removed]",
      "text/plain": [
       "<IPython.core.display.Image object>"
      ]
     },
     "execution_count": 32,
     "metadata": {},
     "output_type": "execute_result"
    }
   ],
   "source": [
    "keras.utils.plot_model(model, \"my_fashion_mnist_model.png\", show_shapes=True)"
   ]
  },
  {
   "cell_type": "code",
   "execution_count": 33,
   "metadata": {},
   "outputs": [
    {
     "data": {
      "text/plain": [
       "array([[-0.03912357,  0.00970527,  0.06963827, ..., -0.01621204,\n",
       "         0.05539408,  0.00997073],\n",
       "       [-0.010015  , -0.0145905 ,  0.0034804 , ...,  0.01932115,\n",
       "        -0.05546685,  0.07317901],\n",
       "       [-0.02689612, -0.0302739 , -0.04787768, ..., -0.06615918,\n",
       "         0.03764585,  0.05228804],\n",
       "       ...,\n",
       "       [-0.04413144, -0.0133359 , -0.06296924, ..., -0.00500234,\n",
       "         0.02469081,  0.02409837],\n",
       "       [-0.0090028 ,  0.05961081, -0.06812663, ...,  0.07195847,\n",
       "        -0.02779939, -0.07223895],\n",
       "       [ 0.02804466, -0.04999815, -0.01186527, ...,  0.02160724,\n",
       "        -0.00989679, -0.06156046]], dtype=float32)"
      ]
     },
     "execution_count": 33,
     "metadata": {},
     "output_type": "execute_result"
    }
   ],
   "source": [
    "weights, biases = model.layers[1].get_weights()\n",
    "weights"
   ]
  },
  {
   "cell_type": "code",
   "execution_count": 34,
   "metadata": {},
   "outputs": [],
   "source": [
    "model.compile(loss=\"sparse_categorical_crossentropy\",\n",
    "              optimizer=\"sgd\",\n",
    "              metrics=[\"accuracy\"])"
   ]
  },
  {
   "cell_type": "markdown",
   "metadata": {},
   "source": [
    "* sparse_categorical_crossentropy는 레이블이 0에서 9까지 정수로 되어 있어 클래스가 베타적이므로 이 손실 함수를 이용하였다.\n",
    "* 만약 원-핫 벡터로 이루어져 있다면 categorical_crossentropy를 이용한다.\n",
    "* sgd는 가장 기본적인 확률적 경사 하강법으로 역전파 알고리즘을 수행한다.\n",
    "* 분류기의 경우 정확도측정을 위해 accuracy를 사용한다."
   ]
  },
  {
   "cell_type": "code",
   "execution_count": 35,
   "metadata": {},
   "outputs": [
    {
     "name": "stdout",
     "output_type": "stream",
     "text": [
      "Epoch 1/30\n",
      "1719/1719 [==============================] - 6s 3ms/step - loss: 1.0164 - accuracy: 0.6796 - val_loss: 0.6265 - val_accuracy: 0.7786\n",
      "Epoch 2/30\n",
      "1719/1719 [==============================] - 6s 3ms/step - loss: 0.5038 - accuracy: 0.8249 - val_loss: 0.4526 - val_accuracy: 0.8426\n",
      "Epoch 3/30\n",
      "1719/1719 [==============================] - 5s 3ms/step - loss: 0.4502 - accuracy: 0.8406 - val_loss: 0.4159 - val_accuracy: 0.8560\n",
      "Epoch 4/30\n",
      "1719/1719 [==============================] - 5s 3ms/step - loss: 0.4223 - accuracy: 0.8526 - val_loss: 0.4046 - val_accuracy: 0.8602\n",
      "Epoch 5/30\n",
      "1719/1719 [==============================] - 5s 3ms/step - loss: 0.4032 - accuracy: 0.8603 - val_loss: 0.3794 - val_accuracy: 0.8684\n",
      "Epoch 6/30\n",
      "1719/1719 [==============================] - 5s 3ms/step - loss: 0.3800 - accuracy: 0.8658 - val_loss: 0.3841 - val_accuracy: 0.8658\n",
      "Epoch 7/30\n",
      "1719/1719 [==============================] - 6s 3ms/step - loss: 0.3665 - accuracy: 0.8708 - val_loss: 0.3737 - val_accuracy: 0.8686\n",
      "Epoch 8/30\n",
      "1719/1719 [==============================] - 5s 3ms/step - loss: 0.3556 - accuracy: 0.8755 - val_loss: 0.3831 - val_accuracy: 0.8624\n",
      "Epoch 9/30\n",
      "1719/1719 [==============================] - 5s 3ms/step - loss: 0.3450 - accuracy: 0.8785 - val_loss: 0.3625 - val_accuracy: 0.8730\n",
      "Epoch 10/30\n",
      "1719/1719 [==============================] - 5s 3ms/step - loss: 0.3418 - accuracy: 0.8787 - val_loss: 0.3538 - val_accuracy: 0.8740\n",
      "Epoch 11/30\n",
      "1719/1719 [==============================] - 5s 3ms/step - loss: 0.3239 - accuracy: 0.8852 - val_loss: 0.3467 - val_accuracy: 0.8766\n",
      "Epoch 12/30\n",
      "1719/1719 [==============================] - 5s 3ms/step - loss: 0.3167 - accuracy: 0.8878 - val_loss: 0.3438 - val_accuracy: 0.8794\n",
      "Epoch 13/30\n",
      "1719/1719 [==============================] - 6s 4ms/step - loss: 0.3124 - accuracy: 0.8895 - val_loss: 0.3348 - val_accuracy: 0.8806\n",
      "Epoch 14/30\n",
      "1719/1719 [==============================] - 6s 3ms/step - loss: 0.3031 - accuracy: 0.8903 - val_loss: 0.3370 - val_accuracy: 0.8814\n",
      "Epoch 15/30\n",
      "1719/1719 [==============================] - 6s 4ms/step - loss: 0.2958 - accuracy: 0.8955 - val_loss: 0.3265 - val_accuracy: 0.8870\n",
      "Epoch 16/30\n",
      "1719/1719 [==============================] - 6s 3ms/step - loss: 0.2871 - accuracy: 0.8977 - val_loss: 0.3316 - val_accuracy: 0.8826\n",
      "Epoch 17/30\n",
      "1719/1719 [==============================] - 5s 3ms/step - loss: 0.2844 - accuracy: 0.8992 - val_loss: 0.3206 - val_accuracy: 0.8842\n",
      "Epoch 18/30\n",
      "1719/1719 [==============================] - 5s 3ms/step - loss: 0.2767 - accuracy: 0.9002 - val_loss: 0.3147 - val_accuracy: 0.8852\n",
      "Epoch 19/30\n",
      "1719/1719 [==============================] - 5s 3ms/step - loss: 0.2717 - accuracy: 0.9029 - val_loss: 0.3205 - val_accuracy: 0.8890\n",
      "Epoch 20/30\n",
      "1719/1719 [==============================] - 5s 3ms/step - loss: 0.2715 - accuracy: 0.9042 - val_loss: 0.3130 - val_accuracy: 0.8874\n",
      "Epoch 21/30\n",
      "1719/1719 [==============================] - 5s 3ms/step - loss: 0.2657 - accuracy: 0.9036 - val_loss: 0.3028 - val_accuracy: 0.8902\n",
      "Epoch 22/30\n",
      "1719/1719 [==============================] - 5s 3ms/step - loss: 0.2568 - accuracy: 0.9102 - val_loss: 0.3248 - val_accuracy: 0.8798\n",
      "Epoch 23/30\n",
      "1719/1719 [==============================] - 5s 3ms/step - loss: 0.2551 - accuracy: 0.9087 - val_loss: 0.3152 - val_accuracy: 0.8880\n",
      "Epoch 24/30\n",
      "1719/1719 [==============================] - 5s 3ms/step - loss: 0.2520 - accuracy: 0.9096 - val_loss: 0.2996 - val_accuracy: 0.8930\n",
      "Epoch 25/30\n",
      "1719/1719 [==============================] - 5s 3ms/step - loss: 0.2400 - accuracy: 0.9129 - val_loss: 0.3049 - val_accuracy: 0.8866\n",
      "Epoch 26/30\n",
      "1719/1719 [==============================] - 6s 3ms/step - loss: 0.2442 - accuracy: 0.9126 - val_loss: 0.2965 - val_accuracy: 0.8908\n",
      "Epoch 27/30\n",
      "1719/1719 [==============================] - 5s 3ms/step - loss: 0.2365 - accuracy: 0.9156 - val_loss: 0.3045 - val_accuracy: 0.8902\n",
      "Epoch 28/30\n",
      "1719/1719 [==============================] - 5s 3ms/step - loss: 0.2354 - accuracy: 0.9163 - val_loss: 0.2968 - val_accuracy: 0.8916\n",
      "Epoch 29/30\n",
      "1719/1719 [==============================] - 6s 3ms/step - loss: 0.2237 - accuracy: 0.9200 - val_loss: 0.3215 - val_accuracy: 0.8872\n",
      "Epoch 30/30\n",
      "1719/1719 [==============================] - 6s 4ms/step - loss: 0.2252 - accuracy: 0.9196 - val_loss: 0.3160 - val_accuracy: 0.8878\n"
     ]
    }
   ],
   "source": [
    "# 신경망 훈련\n",
    "history = model.fit(X_train, y_train, epochs=30,\n",
    "                    validation_data=(X_valid, y_valid))"
   ]
  },
  {
   "cell_type": "code",
   "execution_count": 36,
   "metadata": {},
   "outputs": [
    {
     "data": {
      "text/plain": [
       "{'verbose': 1, 'epochs': 30, 'steps': 1719}"
      ]
     },
     "execution_count": 36,
     "metadata": {},
     "output_type": "execute_result"
    }
   ],
   "source": [
    "history.params"
   ]
  },
  {
   "cell_type": "code",
   "execution_count": 38,
   "metadata": {},
   "outputs": [
    {
     "data": {
      "text/plain": [
       "<tensorflow.python.keras.callbacks.History at 0x29441243548>"
      ]
     },
     "execution_count": 38,
     "metadata": {},
     "output_type": "execute_result"
    }
   ],
   "source": [
    "history"
   ]
  },
  {
   "cell_type": "code",
   "execution_count": 37,
   "metadata": {},
   "outputs": [
    {
     "data": {
      "image/png": "[encoded data removed]",
      "text/plain": [
       "<Figure size 576x360 with 1 Axes>"
      ]
     },
     "metadata": {
      "needs_background": "light"
     },
     "output_type": "display_data"
    }
   ],
   "source": [
    "import pandas as pd\n",
    "\n",
    "pd.DataFrame(history.history).plot(figsize=(8, 5))\n",
    "plt.grid(True)\n",
    "plt.gca().set_ylim(0, 1)\n",
    "plt.show()"
   ]
  },
  {
   "cell_type": "code",
   "execution_count": 39,
   "metadata": {},
   "outputs": [
    {
     "name": "stdout",
     "output_type": "stream",
     "text": [
      "313/313 [==============================] - 1s 2ms/step - loss: 0.3493 - accuracy: 0.8776\n"
     ]
    },
    {
     "data": {
      "text/plain": [
       "[0.3493482172489166, 0.8776000142097473]"
      ]
     },
     "execution_count": 39,
     "metadata": {},
     "output_type": "execute_result"
    }
   ],
   "source": [
    "model.evaluate(X_test, y_test)"
   ]
  },
  {
   "cell_type": "code",
   "execution_count": 50,
   "metadata": {
    "scrolled": true
   },
   "outputs": [
    {
     "data": {
      "text/plain": [
       "array([[0.        , 0.        , 0.        , 0.        , 0.        ,\n",
       "        0.        , 0.        , 0.        , 0.00392157, 0.        ,\n",
       "        0.2627451 , 0.69411765, 0.50588235, 0.6       , 0.45882353,\n",
       "        0.50588235, 0.57254902, 0.55294118, 0.68627451, 0.        ,\n",
       "        0.        , 0.        , 0.        , 0.        , 0.        ,\n",
       "        0.        , 0.        , 0.        ],\n",
       "       [0.        , 0.        , 0.        , 0.        , 0.        ,\n",
       "        0.        , 0.        , 0.        , 0.00784314, 0.        ,\n",
       "        0.76862745, 1.        , 1.        , 1.        , 0.94509804,\n",
       "        0.98431373, 1.        , 0.96078431, 1.        , 0.29803922,\n",
       "        0.        , 0.        , 0.        , 0.        , 0.        ,\n",
       "        0.        , 0.        , 0.        ],\n",
       "       [0.        , 0.        , 0.        , 0.        , 0.        ,\n",
       "        0.        , 0.        , 0.        , 0.        , 0.        ,\n",
       "        0.95294118, 0.92941176, 0.85098039, 0.89411765, 0.90588235,\n",
       "        0.87058824, 0.85490196, 0.85882353, 1.        , 0.45490196,\n",
       "        0.        , 0.        , 0.        , 0.        , 0.        ,\n",
       "        0.        , 0.        , 0.        ],\n",
       "       [0.        , 0.        , 0.        , 0.        , 0.        ,\n",
       "        0.        , 0.        , 0.        , 0.        , 0.        ,\n",
       "        1.        , 0.92156863, 0.90588235, 0.91372549, 0.88627451,\n",
       "        0.88235294, 0.89803922, 0.87058824, 1.        , 0.56862745,\n",
       "        0.        , 0.        , 0.        , 0.        , 0.        ,\n",
       "        0.        , 0.        , 0.        ],\n",
       "       [0.        , 0.        , 0.        , 0.        , 0.        ,\n",
       "        0.        , 0.        , 0.        , 0.        , 0.09019608,\n",
       "        1.        , 0.90196078, 0.89803922, 0.91372549, 0.89803922,\n",
       "        0.88235294, 0.89019608, 0.86666667, 0.94509804, 0.65490196,\n",
       "        0.        , 0.        , 0.        , 0.        , 0.        ,\n",
       "        0.        , 0.        , 0.        ],\n",
       "       [0.        , 0.        , 0.        , 0.        , 0.        ,\n",
       "        0.        , 0.        , 0.        , 0.        , 0.2627451 ,\n",
       "        1.        , 0.88235294, 0.91764706, 0.90588235, 0.88627451,\n",
       "        0.89019608, 0.89411765, 0.87843137, 0.91764706, 0.73333333,\n",
       "        0.        , 0.        , 0.        , 0.        , 0.        ,\n",
       "        0.        , 0.        , 0.        ],\n",
       "       [0.        , 0.        , 0.        , 0.        , 0.        ,\n",
       "        0.        , 0.        , 0.        , 0.        , 0.44705882,\n",
       "        0.97647059, 0.85098039, 0.92156863, 0.93333333, 0.96078431,\n",
       "        0.89019608, 0.89019608, 0.88235294, 0.94509804, 0.69019608,\n",
       "        0.        , 0.        , 0.        , 0.        , 0.        ,\n",
       "        0.        , 0.        , 0.        ],\n",
       "       [0.        , 0.        , 0.        , 0.        , 0.        ,\n",
       "        0.        , 0.        , 0.        , 0.        , 0.65490196,\n",
       "        0.96862745, 0.89019608, 0.90588235, 0.98039216, 0.78431373,\n",
       "        0.97254902, 0.90588235, 0.87843137, 0.98431373, 0.57647059,\n",
       "        0.        , 0.        , 0.        , 0.        , 0.        ,\n",
       "        0.        , 0.        , 0.        ],\n",
       "       [0.        , 0.        , 0.        , 0.        , 0.        ,\n",
       "        0.        , 0.        , 0.        , 0.        , 0.81568627,\n",
       "        0.94901961, 0.88235294, 0.95294118, 0.88235294, 0.        ,\n",
       "        1.        , 0.91372549, 0.88627451, 1.        , 0.50588235,\n",
       "        0.        , 0.        , 0.        , 0.        , 0.        ,\n",
       "        0.        , 0.        , 0.        ],\n",
       "       [0.        , 0.        , 0.        , 0.        , 0.        ,\n",
       "        0.        , 0.        , 0.        , 0.        , 0.8745098 ,\n",
       "        0.93333333, 0.8745098 , 1.        , 0.63137255, 0.        ,\n",
       "        1.        , 0.9254902 , 0.8745098 , 1.        , 0.52941176,\n",
       "        0.        , 0.        , 0.        , 0.        , 0.        ,\n",
       "        0.        , 0.        , 0.        ],\n",
       "       [0.        , 0.        , 0.        , 0.        , 0.        ,\n",
       "        0.        , 0.        , 0.        , 0.        , 0.96078431,\n",
       "        0.92156863, 0.87058824, 1.        , 0.28235294, 0.        ,\n",
       "        0.97254902, 0.99607843, 0.85098039, 1.        , 0.56862745,\n",
       "        0.        , 0.        , 0.        , 0.        , 0.        ,\n",
       "        0.        , 0.        , 0.        ],\n",
       "       [0.        , 0.        , 0.        , 0.        , 0.        ,\n",
       "        0.        , 0.        , 0.        , 0.        , 1.        ,\n",
       "        0.91372549, 0.88627451, 1.        , 0.02745098, 0.        ,\n",
       "        0.74901961, 0.97254902, 0.8627451 , 1.        , 0.49411765,\n",
       "        0.        , 0.        , 0.        , 0.        , 0.        ,\n",
       "        0.        , 0.        , 0.        ],\n",
       "       [0.        , 0.        , 0.        , 0.        , 0.        ,\n",
       "        0.        , 0.        , 0.        , 0.        , 1.        ,\n",
       "        0.91372549, 0.90588235, 0.98431373, 0.        , 0.        ,\n",
       "        0.62352941, 0.98431373, 0.86666667, 1.        , 0.43529412,\n",
       "        0.        , 0.        , 0.        , 0.        , 0.        ,\n",
       "        0.        , 0.        , 0.        ],\n",
       "       [0.        , 0.        , 0.        , 0.        , 0.        ,\n",
       "        0.        , 0.        , 0.        , 0.        , 1.        ,\n",
       "        0.90980392, 0.9254902 , 0.84705882, 0.        , 0.        ,\n",
       "        0.51372549, 0.99215686, 0.8627451 , 1.        , 0.43529412,\n",
       "        0.        , 0.        , 0.        , 0.        , 0.        ,\n",
       "        0.        , 0.        , 0.        ],\n",
       "       [0.        , 0.        , 0.        , 0.        , 0.        ,\n",
       "        0.        , 0.        , 0.        , 0.        , 1.        ,\n",
       "        0.89411765, 0.95294118, 0.6745098 , 0.        , 0.        ,\n",
       "        0.22352941, 0.97647059, 0.87058824, 1.        , 0.43529412,\n",
       "        0.        , 0.        , 0.        , 0.        , 0.        ,\n",
       "        0.        , 0.        , 0.        ],\n",
       "       [0.        , 0.        , 0.        , 0.        , 0.        ,\n",
       "        0.        , 0.        , 0.        , 0.        , 1.        ,\n",
       "        0.90196078, 0.95686275, 0.54509804, 0.        , 0.        ,\n",
       "        0.03921569, 1.        , 0.89019608, 1.        , 0.39215686,\n",
       "        0.        , 0.        , 0.        , 0.        , 0.        ,\n",
       "        0.        , 0.        , 0.        ],\n",
       "       [0.        , 0.        , 0.        , 0.        , 0.        ,\n",
       "        0.        , 0.        , 0.        , 0.        , 0.89019608,\n",
       "        0.92941176, 0.94901961, 0.44313725, 0.        , 0.        ,\n",
       "        0.02352941, 1.        , 0.90196078, 1.        , 0.34901961,\n",
       "        0.        , 0.        , 0.        , 0.        , 0.        ,\n",
       "        0.        , 0.        , 0.        ],\n",
       "       [0.        , 0.        , 0.        , 0.        , 0.        ,\n",
       "        0.        , 0.        , 0.        , 0.        , 0.8       ,\n",
       "        0.9372549 , 0.96078431, 0.59215686, 0.        , 0.        ,\n",
       "        0.        , 1.        , 0.89019608, 1.        , 0.38823529,\n",
       "        0.        , 0.        , 0.        , 0.        , 0.        ,\n",
       "        0.        , 0.        , 0.        ],\n",
       "       [0.        , 0.        , 0.        , 0.        , 0.        ,\n",
       "        0.        , 0.        , 0.        , 0.        , 0.59215686,\n",
       "        0.96078431, 0.93333333, 0.77647059, 0.        , 0.        ,\n",
       "        0.        , 1.        , 0.91764706, 1.        , 0.36078431,\n",
       "        0.        , 0.        , 0.        , 0.        , 0.        ,\n",
       "        0.        , 0.        , 0.        ],\n",
       "       [0.        , 0.        , 0.        , 0.        , 0.        ,\n",
       "        0.        , 0.        , 0.        , 0.        , 0.34901961,\n",
       "        0.97254902, 0.91372549, 0.97254902, 0.        , 0.        ,\n",
       "        0.        , 0.98823529, 0.92941176, 1.        , 0.35294118,\n",
       "        0.        , 0.        , 0.        , 0.        , 0.        ,\n",
       "        0.        , 0.        , 0.        ],\n",
       "       [0.        , 0.        , 0.        , 0.        , 0.        ,\n",
       "        0.        , 0.        , 0.        , 0.        , 0.12156863,\n",
       "        0.94117647, 0.89803922, 0.88627451, 0.        , 0.        ,\n",
       "        0.        , 0.9372549 , 0.93333333, 1.        , 0.36078431,\n",
       "        0.        , 0.        , 0.        , 0.        , 0.        ,\n",
       "        0.        , 0.        , 0.        ],\n",
       "       [0.        , 0.        , 0.        , 0.        , 0.        ,\n",
       "        0.        , 0.        , 0.        , 0.        , 0.        ,\n",
       "        0.88627451, 0.91372549, 0.92941176, 0.13333333, 0.        ,\n",
       "        0.        , 0.91764706, 0.93333333, 1.        , 0.37254902,\n",
       "        0.        , 0.        , 0.        , 0.        , 0.        ,\n",
       "        0.        , 0.        , 0.        ],\n",
       "       [0.        , 0.        , 0.        , 0.        , 0.        ,\n",
       "        0.        , 0.        , 0.        , 0.        , 0.        ,\n",
       "        0.91372549, 0.9254902 , 0.95686275, 0.26666667, 0.        ,\n",
       "        0.        , 0.81960784, 0.94509804, 0.92941176, 0.38431373,\n",
       "        0.        , 0.        , 0.        , 0.        , 0.        ,\n",
       "        0.        , 0.        , 0.        ],\n",
       "       [0.        , 0.        , 0.        , 0.        , 0.        ,\n",
       "        0.        , 0.        , 0.        , 0.00392157, 0.        ,\n",
       "        0.59607843, 0.94901961, 0.96078431, 0.50196078, 0.        ,\n",
       "        0.        , 0.77647059, 0.94509804, 0.93333333, 0.31764706,\n",
       "        0.        , 0.        , 0.        , 0.        , 0.        ,\n",
       "        0.        , 0.        , 0.        ],\n",
       "       [0.        , 0.        , 0.        , 0.        , 0.        ,\n",
       "        0.        , 0.        , 0.        , 0.00784314, 0.        ,\n",
       "        0.28627451, 0.96470588, 0.94509804, 0.82745098, 0.        ,\n",
       "        0.        , 0.79215686, 0.94117647, 0.92941176, 0.29019608,\n",
       "        0.        , 0.        , 0.        , 0.        , 0.        ,\n",
       "        0.        , 0.        , 0.        ],\n",
       "       [0.        , 0.        , 0.        , 0.        , 0.        ,\n",
       "        0.        , 0.        , 0.        , 0.01568627, 0.        ,\n",
       "        0.        , 0.89803922, 0.9254902 , 0.81960784, 0.        ,\n",
       "        0.        , 0.61960784, 0.96862745, 0.93333333, 0.38823529,\n",
       "        0.        , 0.        , 0.        , 0.        , 0.        ,\n",
       "        0.        , 0.        , 0.        ],\n",
       "       [0.        , 0.        , 0.        , 0.        , 0.        ,\n",
       "        0.        , 0.        , 0.        , 0.00392157, 0.        ,\n",
       "        0.        , 0.78039216, 1.        , 0.96862745, 0.22745098,\n",
       "        0.        , 0.63137255, 1.        , 0.98823529, 0.46666667,\n",
       "        0.        , 0.        , 0.        , 0.        , 0.        ,\n",
       "        0.        , 0.        , 0.        ],\n",
       "       [0.        , 0.        , 0.        , 0.        , 0.        ,\n",
       "        0.        , 0.        , 0.        , 0.        , 0.        ,\n",
       "        0.        , 0.38431373, 0.62352941, 0.27843137, 0.        ,\n",
       "        0.        , 0.26666667, 0.69019608, 0.64313725, 0.22745098,\n",
       "        0.        , 0.        , 0.        , 0.        , 0.        ,\n",
       "        0.        , 0.        , 0.        ]])"
      ]
     },
     "execution_count": 50,
     "metadata": {},
     "output_type": "execute_result"
    }
   ],
   "source": [
    "X_new = X_test[:3]\n",
    "X_new[2]"
   ]
  },
  {
   "cell_type": "code",
   "execution_count": 58,
   "metadata": {},
   "outputs": [],
   "source": [
    "class_names = [\"T-shirt/top\", \"Trouser\", \"Pullover\", \"Dress\", \"Coat\",\n",
    "               \"Sandal\", \"Shirt\", \"Sneaker\", \"Bag\", \"Ankle boot\"]"
   ]
  },
  {
   "cell_type": "code",
   "execution_count": 55,
   "metadata": {},
   "outputs": [
    {
     "data": {
      "image/png": "[encoded data removed]",
      "text/plain": [
       "<Figure size 432x288 with 1 Axes>"
      ]
     },
     "metadata": {
      "needs_background": "light"
     },
     "output_type": "display_data"
    }
   ],
   "source": [
    "plt.imshow(X_new[0], cmap=\"binary\")\n",
    "plt.axis('off')\n",
    "plt.show()"
   ]
  },
  {
   "cell_type": "code",
   "execution_count": 56,
   "metadata": {},
   "outputs": [
    {
     "data": {
      "image/png": "[encoded data removed]",
      "text/plain": [
       "<Figure size 432x288 with 1 Axes>"
      ]
     },
     "metadata": {
      "needs_background": "light"
     },
     "output_type": "display_data"
    }
   ],
   "source": [
    "plt.imshow(X_new[1], cmap=\"binary\")\n",
    "plt.axis('off')\n",
    "plt.show()"
   ]
  },
  {
   "cell_type": "code",
   "execution_count": 57,
   "metadata": {},
   "outputs": [
    {
     "data": {
      "image/png": "[encoded data removed]",
      "text/plain": [
       "<Figure size 432x288 with 1 Axes>"
      ]
     },
     "metadata": {
      "needs_background": "light"
     },
     "output_type": "display_data"
    }
   ],
   "source": [
    "plt.imshow(X_new[2], cmap=\"binary\")\n",
    "plt.axis('off')\n",
    "plt.show()"
   ]
  },
  {
   "cell_type": "code",
   "execution_count": 53,
   "metadata": {},
   "outputs": [
    {
     "data": {
      "text/plain": [
       "array([[0.  , 0.  , 0.  , 0.  , 0.  , 0.01, 0.  , 0.01, 0.  , 0.98],\n",
       "       [0.  , 0.  , 1.  , 0.  , 0.  , 0.  , 0.  , 0.  , 0.  , 0.  ],\n",
       "       [0.  , 1.  , 0.  , 0.  , 0.  , 0.  , 0.  , 0.  , 0.  , 0.  ]],\n",
       "      dtype=float32)"
      ]
     },
     "execution_count": 53,
     "metadata": {},
     "output_type": "execute_result"
    }
   ],
   "source": [
    "y_proba = model.predict(X_new)\n",
    "y_proba.round(2)"
   ]
  },
  {
   "cell_type": "code",
   "execution_count": 60,
   "metadata": {},
   "outputs": [],
   "source": [
    "import numpy as np"
   ]
  },
  {
   "cell_type": "code",
   "execution_count": 61,
   "metadata": {},
   "outputs": [
    {
     "data": {
      "text/plain": [
       "array([9, 2, 1], dtype=int64)"
      ]
     },
     "execution_count": 61,
     "metadata": {},
     "output_type": "execute_result"
    }
   ],
   "source": [
    "y_pred = np.argmax(model.predict(X_new), axis=-1)\n",
    "y_pred"
   ]
  },
  {
   "cell_type": "code",
   "execution_count": 62,
   "metadata": {},
   "outputs": [
    {
     "data": {
      "text/plain": [
       "array(['Ankle boot', 'Pullover', 'Trouser'], dtype='<U11')"
      ]
     },
     "execution_count": 62,
     "metadata": {},
     "output_type": "execute_result"
    }
   ],
   "source": [
    "np.array(class_names)[y_pred]"
   ]
  },
  {
   "cell_type": "code",
   "execution_count": 31,
   "metadata": {},
   "outputs": [
    {
     "data": {
      "text/plain": [
       "array([9, 2, 1], dtype=int64)"
      ]
     },
     "execution_count": 31,
     "metadata": {},
     "output_type": "execute_result"
    }
   ],
   "source": [
    "y_pred"
   ]
  },
  {
   "cell_type": "code",
   "execution_count": 32,
   "metadata": {},
   "outputs": [
    {
     "data": {
      "text/plain": [
       "array([9, 2, 1], dtype=uint8)"
      ]
     },
     "execution_count": 32,
     "metadata": {},
     "output_type": "execute_result"
    }
   ],
   "source": [
    "y_new = y_test[:3]\n",
    "y_new"
   ]
  },
  {
   "cell_type": "code",
   "execution_count": 33,
   "metadata": {},
   "outputs": [
    {
     "data": {
      "image/png": "[encoded data removed]",
      "text/plain": [
       "<Figure size 518.4x172.8 with 3 Axes>"
      ]
     },
     "metadata": {
      "needs_background": "light"
     },
     "output_type": "display_data"
    }
   ],
   "source": [
    "plt.figure(figsize=(7.2, 2.4))\n",
    "for index, image in enumerate(X_new):\n",
    "    plt.subplot(1, 3, index + 1)\n",
    "    plt.imshow(image, cmap=\"binary\", interpolation=\"nearest\")\n",
    "    plt.axis('off')\n",
    "    plt.title(class_names[y_test[index]], fontsize=12)\n",
    "plt.subplots_adjust(wspace=0.2, hspace=0.5)\n",
    "plt.show()"
   ]
  },
  {
   "cell_type": "markdown",
   "metadata": {},
   "source": [
    "### Hyperparameter\n",
    "\n",
    "#### 은닉층의 개수\n",
    "\n",
    "은닉층 하나로 시작해도 많은 문제에서 납득할 만한 결과를 얻을 수 있다.\n",
    "\n",
    "하지만 복잡한 문제에서는 심층 신경망이 얕은 신경망보다 파라미터 효율성이 좋다.\n",
    "\n",
    "심층 신경망에서 입력과 가까운 아래쪽 은닉층은 저수준 구조를 모델링하고\n",
    "\n",
    "중간 은닉층은 저수준 구조를 연결해 중간 수준의 구조를 모델링한다.\n",
    "\n",
    "가장 위쪽 은닉층과 출력층은 중간 수준의 구조를 연결해 고수준의 구조를 모델링한다.\n",
    "\n",
    "#### 은닉층의 뉴런 개수\n",
    "\n",
    "입력층과 출력층의 뉴런 개수는 해당 작업에 필요한 입력과 출력의 형태에 따라 결정된다.\n",
    "\n",
    "은닉층의 구성방식은 일반적으로 각 층의 뉴런을 점점 줄여서 깔때기처럼 구성한다.\n",
    "\n",
    "저수준의 많은 특성이 고수준의 적은 특성으로 합쳐질 수 있기 때문이다.\n",
    "\n",
    "하지만 모든 은닉층에 같은 크기를 사용해도 동일하거나 더 나은 성능을 낸다는 연구결과도 있다.\n",
    "\n",
    "#### 학습률\n",
    "\n",
    "좋은 학습률을 찾는 방법은 매우 낮은 학습률 ($10^{-5}$)에서 시작하여 점진적으로 매우 큰 학습률까지 수백 번 반복하여 모델을 훈련하는 것이다.\n",
    "\n",
    "학습률에 대한 손실을 그래프로 그리며 관찰한다.\n",
    "\n",
    "학습률은 배치 크기에 영향을 받으므로 배치 크기가 바뀌었으면 학습률도 수정한다.\n",
    "\n",
    "#### 배치 크기\n",
    "\n",
    "배치 크기는 모델 성능과 훈련 시간에 큰 영향을 미칠 수 있다.\n",
    "\n",
    "많은 연구자들은 GPU의 RAM에 맞는 가장 큰 배치 크기를 사용하라고 권장한다.\n",
    "\n",
    "어떤 학자는 32보다 큰 미니배치를 사용하지 말라고 한다.\n",
    "\n",
    "하지만 또 어떤 학자들은 학습률 예열 방법을 이용하면 매우 큰 배치 (8,192)를 사용할 수 있다고도 한다.\n",
    "\n",
    "다음 용어를 정리하라.\n",
    "\n",
    "* 배치 크기 : 전체 트레이닝 데이터를 여러 개의 미니 배치로 나누었을 때 하나의 미니 배치에 속하는 데이터의 개수  \n",
    "* 에포크 (epoch) : 전체 트레이닝 셋이 신경망을 통과한 횟수. 즉 1-epoch는 트레이닝 셋의 모든 데이터가 신경망을 한 번 통과했다는 뜻.\n",
    "\n",
    "#### 활성화 함수\n",
    "\n",
    "일반적으로 ReLU 활성화 함수가 좋다고 하나 수행하는 작업에 따라 달라질 것이다.\n",
    "\n",
    "#### 반복 횟수\n",
    "\n",
    "대부분의 경우 훈련 반복 횟수는 튜닝할 필요가 없고, 조기 종료를 사용한다."
   ]
  },
  {
   "cell_type": "markdown",
   "metadata": {},
   "source": [
    "#### MNIST database of handwritten digits 예제\n",
    "\n",
    "MNIST (Modified National Institute of Standards and Technology database) handwritten digits 데이터는 학습용으로 많이 사용되기 때문에 머신러닝 분야의 Hello world로 불리운다."
   ]
  },
  {
   "cell_type": "code",
   "execution_count": 14,
   "metadata": {},
   "outputs": [],
   "source": [
    "mnist = keras.datasets.mnist\n",
    "\n",
    "(x_train, y_train), (x_test, y_test) = mnist.load_data()"
   ]
  },
  {
   "cell_type": "code",
   "execution_count": 15,
   "metadata": {},
   "outputs": [
    {
     "data": {
      "image/png": "[encoded data removed]",
      "text/plain": [
       "<Figure size 1440x144 with 40 Axes>"
      ]
     },
     "metadata": {
      "needs_background": "light"
     },
     "output_type": "display_data"
    }
   ],
   "source": [
    "columns = 20\n",
    "rows = 2\n",
    "fig = plt.figure(figsize=(columns, rows))\n",
    "for i in range(1, columns * rows + 1):\n",
    "    fig.add_subplot(rows, columns, i)\n",
    "    plt.imshow(x_train[i], cmap=\"binary\")\n",
    "    plt.axis('off')\n",
    "plt.show()"
   ]
  },
  {
   "cell_type": "code",
   "execution_count": 16,
   "metadata": {},
   "outputs": [
    {
     "name": "stdout",
     "output_type": "stream",
     "text": [
      "0, 4, 1, 9, 2, 1, 3, 1, 4, 3, 5, 3, 6, 1, 7, 2, 8, 6, 9, 4, 0, 9, 1, 1, 2, 4, 3, 2, 7, 3, 8, 6, 9, 0, 5, 6, 0, 7, 6, 1, "
     ]
    }
   ],
   "source": [
    "for i in range(1, columns * rows + 1): print(y_train[i], end=\", \")"
   ]
  },
  {
   "cell_type": "markdown",
   "metadata": {},
   "source": [
    "model structure:\n",
    "\n",
    "* 입력층은 784개의 값이다. (28 x 28 = 784).\n",
    "\n",
    "* 첫 번째 은닉층은 Dense 층으로 512개의 유닛과 ```relu``` activation function으로 구성\n",
    "\n",
    "* 두 번째 은닉층은 Dropout 층으로 0.2 값을 가짐.\n",
    "\n",
    "   * Dropout은 훈련 중에 무작위로 선택된 뉴런을 무시하는 기술로 overfitting을 방지하기 위한 목적이다.\n",
    "\n",
    "* 세 번째 은닉층은 Dense 층으로 512 뉴런과 ```relu``` activation function으로 구성\n",
    "\n",
    "* 네 번째 은닉층은 Dropout (0.2)\n",
    "\n",
    "* 다섯 번째 은닉층은 10개의 뉴런과```softmax``` activation function으로 구성\n",
    "\n",
    "* loss function : ```categorical_crossentropy```\n",
    "\n",
    "* Optimizer : ```RMSprop```\n",
    "\n",
    "* metrics :  ```accuracy```.\n",
    "\n",
    "* batch size : 128\n",
    "\n",
    "* epochs : 20"
   ]
  },
  {
   "cell_type": "code",
   "execution_count": 18,
   "metadata": {},
   "outputs": [
    {
     "data": {
      "text/plain": [
       "5"
      ]
     },
     "execution_count": 18,
     "metadata": {},
     "output_type": "execute_result"
    }
   ],
   "source": [
    "y_train[0]"
   ]
  },
  {
   "cell_type": "code",
   "execution_count": 19,
   "metadata": {},
   "outputs": [],
   "source": [
    "x_train = x_train.reshape(60000, 784) \n",
    "x_test = x_test.reshape(10000, 784) \n",
    "x_train = x_train.astype('float32') \n",
    "x_test = x_test.astype('float32') \n",
    "x_train /= 255 \n",
    "x_test /= 255 \n",
    "\n",
    "# to_categorical은 벡터를 bianry matrix로 변환함\n",
    "y_train = keras.utils.to_categorical(y_train, 10) \n",
    "y_test = keras.utils.to_categorical(y_test, 10)"
   ]
  },
  {
   "cell_type": "code",
   "execution_count": 22,
   "metadata": {},
   "outputs": [
    {
     "data": {
      "text/plain": [
       "array([0., 0., 0., 0., 1., 0., 0., 0., 0., 0.], dtype=float32)"
      ]
     },
     "execution_count": 22,
     "metadata": {},
     "output_type": "execute_result"
    }
   ],
   "source": [
    "y_train[2]"
   ]
  },
  {
   "cell_type": "code",
   "execution_count": 24,
   "metadata": {},
   "outputs": [],
   "source": [
    "from tensorflow.keras.models import Sequential\n",
    "model = Sequential() \n",
    "model.add(keras.layers.Dense(512, activation = 'relu', input_shape = (784,))) \n",
    "model.add(keras.layers.Dropout(0.2)) \n",
    "model.add(keras.layers.Dense(512, activation = 'relu'))\n",
    "model.add(keras.layers.Dropout(0.2)) \n",
    "model.add(keras.layers.Dense(10, activation = 'softmax'))"
   ]
  },
  {
   "cell_type": "code",
   "execution_count": 25,
   "metadata": {},
   "outputs": [],
   "source": [
    "model.compile(loss = 'categorical_crossentropy',     \n",
    "   optimizer = 'RMSprop', \n",
    "   metrics = ['accuracy'])"
   ]
  },
  {
   "cell_type": "code",
   "execution_count": 26,
   "metadata": {},
   "outputs": [
    {
     "name": "stdout",
     "output_type": "stream",
     "text": [
      "Epoch 1/20\n",
      "469/469 [==============================] - 11s 22ms/step - loss: 0.4356 - accuracy: 0.8635 - val_loss: 0.1234 - val_accuracy: 0.9601\n",
      "Epoch 2/20\n",
      "469/469 [==============================] - 10s 21ms/step - loss: 0.1020 - accuracy: 0.9687 - val_loss: 0.0846 - val_accuracy: 0.9745\n",
      "Epoch 3/20\n",
      "469/469 [==============================] - 10s 22ms/step - loss: 0.0737 - accuracy: 0.9766 - val_loss: 0.0878 - val_accuracy: 0.9744\n",
      "Epoch 4/20\n",
      "469/469 [==============================] - 10s 21ms/step - loss: 0.0550 - accuracy: 0.9830 - val_loss: 0.0720 - val_accuracy: 0.9788\n",
      "Epoch 5/20\n",
      "469/469 [==============================] - 11s 23ms/step - loss: 0.0459 - accuracy: 0.9858 - val_loss: 0.0755 - val_accuracy: 0.9830\n",
      "Epoch 6/20\n",
      "469/469 [==============================] - 10s 21ms/step - loss: 0.0448 - accuracy: 0.9869 - val_loss: 0.0788 - val_accuracy: 0.9799\n",
      "Epoch 7/20\n",
      "469/469 [==============================] - 10s 22ms/step - loss: 0.0349 - accuracy: 0.9896 - val_loss: 0.0716 - val_accuracy: 0.9816\n",
      "Epoch 8/20\n",
      "469/469 [==============================] - 10s 22ms/step - loss: 0.0316 - accuracy: 0.9910 - val_loss: 0.0837 - val_accuracy: 0.9804\n",
      "Epoch 9/20\n",
      "469/469 [==============================] - 10s 21ms/step - loss: 0.0290 - accuracy: 0.9915 - val_loss: 0.0998 - val_accuracy: 0.9799\n",
      "Epoch 10/20\n",
      "469/469 [==============================] - 10s 22ms/step - loss: 0.0279 - accuracy: 0.9910 - val_loss: 0.1187 - val_accuracy: 0.9788\n",
      "Epoch 11/20\n",
      "469/469 [==============================] - 10s 22ms/step - loss: 0.0248 - accuracy: 0.9927 - val_loss: 0.0867 - val_accuracy: 0.9827\n",
      "Epoch 12/20\n",
      "469/469 [==============================] - 10s 22ms/step - loss: 0.0216 - accuracy: 0.9927 - val_loss: 0.0966 - val_accuracy: 0.9833\n",
      "Epoch 13/20\n",
      "469/469 [==============================] - 10s 22ms/step - loss: 0.0197 - accuracy: 0.9941 - val_loss: 0.0978 - val_accuracy: 0.9850\n",
      "Epoch 14/20\n",
      "469/469 [==============================] - 10s 22ms/step - loss: 0.0215 - accuracy: 0.9937 - val_loss: 0.1096 - val_accuracy: 0.9827\n",
      "Epoch 15/20\n",
      "469/469 [==============================] - 10s 21ms/step - loss: 0.0185 - accuracy: 0.9945 - val_loss: 0.1016 - val_accuracy: 0.9837\n",
      "Epoch 16/20\n",
      "469/469 [==============================] - 10s 22ms/step - loss: 0.0185 - accuracy: 0.9946 - val_loss: 0.1083 - val_accuracy: 0.9836\n",
      "Epoch 17/20\n",
      "469/469 [==============================] - 10s 22ms/step - loss: 0.0167 - accuracy: 0.9953 - val_loss: 0.1098 - val_accuracy: 0.9840\n",
      "Epoch 18/20\n",
      "469/469 [==============================] - 10s 22ms/step - loss: 0.0193 - accuracy: 0.9953 - val_loss: 0.1297 - val_accuracy: 0.9831\n",
      "Epoch 19/20\n",
      "469/469 [==============================] - 10s 22ms/step - loss: 0.0171 - accuracy: 0.9959 - val_loss: 0.1101 - val_accuracy: 0.9835\n",
      "Epoch 20/20\n",
      "469/469 [==============================] - 10s 21ms/step - loss: 0.0171 - accuracy: 0.9954 - val_loss: 0.1233 - val_accuracy: 0.9854\n"
     ]
    }
   ],
   "source": [
    "history = model.fit(\n",
    "   x_train, y_train, \n",
    "   batch_size = 128, \n",
    "   epochs = 20, \n",
    "   verbose = 1, \n",
    "   validation_data = (x_test, y_test)\n",
    ")"
   ]
  },
  {
   "cell_type": "code",
   "execution_count": 45,
   "metadata": {},
   "outputs": [
    {
     "name": "stdout",
     "output_type": "stream",
     "text": [
      "7, 2, 1, 0, 4, 1, 4, 9, 5, 9, 0, 6, 9, 0, 1, 5, 9, 7, 3, 4, 9, 6, 6, 5, 4, 0, 7, 4, 0, 1, 3, 1, 3, 4, 7, 2, 7, 1, 2, 1, 1, 7, 4, 2, 3, 5, 1, 2, 4, 4, "
     ]
    }
   ],
   "source": [
    "import numpy as np\n",
    "for i in range(50): print(np.argmax(y_test[i]), end=\", \")"
   ]
  },
  {
   "cell_type": "code",
   "execution_count": 59,
   "metadata": {},
   "outputs": [
    {
     "name": "stdout",
     "output_type": "stream",
     "text": [
      "7, 2, 1, 0, 4, 1, 4, 9, 5, 9, 0, 6, 9, 0, 1, 5, 9, 7, 3, 4, 9, 6, 6, 5, 4, 0, 7, 4, 0, 1, 3, 1, 3, 4, 7, 2, 7, 1, 2, 1, 1, 7, 4, 2, 3, 5, 1, 2, 4, 4, "
     ]
    }
   ],
   "source": [
    "for result in model.predict(x_test[:50]) : print(np.argmax(result), end=\", \")"
   ]
  },
  {
   "cell_type": "code",
   "execution_count": 63,
   "metadata": {},
   "outputs": [
    {
     "name": "stdout",
     "output_type": "stream",
     "text": [
      "prediction :  9\n",
      "actual :  2\n",
      "\n",
      "\n",
      "prediction :  2\n",
      "actual :  4\n",
      "\n",
      "\n",
      "prediction :  7\n",
      "actual :  2\n",
      "\n",
      "\n",
      "prediction :  3\n",
      "actual :  5\n",
      "\n",
      "\n",
      "prediction :  7\n",
      "actual :  3\n",
      "\n",
      "\n"
     ]
    },
    {
     "data": {
      "image/png": "[encoded data removed]",
      "text/plain": [
       "<Figure size 360x72 with 5 Axes>"
      ]
     },
     "metadata": {
      "needs_background": "light"
     },
     "output_type": "display_data"
    }
   ],
   "source": [
    "columns = 5\n",
    "rows = 1\n",
    "fig = plt.figure(figsize=(columns, rows))\n",
    "    \n",
    "count = 1\n",
    "for i, result in enumerate(model.predict(x_test)):\n",
    "    if np.argmax(y_test[i]) != np.argmax(result):\n",
    "        fig.add_subplot(rows, columns, count)\n",
    "        plt.imshow((x_test[i] * 255).reshape(28, 28), cmap=\"binary\")\n",
    "        plt.axis('off')\n",
    "        print(\"prediction : \", np.argmax(result))\n",
    "        print(\"actual : \", np.argmax(y_test[i]))\n",
    "        print(\"\\n\")\n",
    "        count += 1\n",
    "        if count == columns + 1 : break\n",
    "            \n",
    "plt.show()"
   ]
  },
  {
   "cell_type": "markdown",
   "metadata": {},
   "source": [
    "#### wine data 예제"
   ]
  },
  {
   "cell_type": "code",
   "execution_count": 64,
   "metadata": {},
   "outputs": [],
   "source": [
    "from sklearn import datasets\n",
    "from sklearn.model_selection import train_test_split"
   ]
  },
  {
   "cell_type": "code",
   "execution_count": 65,
   "metadata": {},
   "outputs": [],
   "source": [
    "raw_wine = datasets.load_wine()"
   ]
  },
  {
   "cell_type": "code",
   "execution_count": 66,
   "metadata": {},
   "outputs": [],
   "source": [
    "X = raw_wine.data\n",
    "y = raw_wine.target"
   ]
  },
  {
   "cell_type": "code",
   "execution_count": 67,
   "metadata": {},
   "outputs": [],
   "source": [
    "X_tn, X_te, y_tn, y_te = train_test_split(X, y)"
   ]
  },
  {
   "cell_type": "code",
   "execution_count": 68,
   "metadata": {},
   "outputs": [],
   "source": [
    "model = keras.models.Sequential()\n",
    "model.add(keras.layers.Dense(13, input_shape=(X_tn.shape[1], ))) # feature 13개\n",
    "model.add(keras.layers.Dense(100, activation=\"relu\"))\n",
    "model.add(keras.layers.Dense(3, activation=\"softmax\"))"
   ]
  },
  {
   "cell_type": "code",
   "execution_count": 69,
   "metadata": {},
   "outputs": [
    {
     "name": "stdout",
     "output_type": "stream",
     "text": [
      "Model: \"sequential_1\"\n",
      "_________________________________________________________________\n",
      "Layer (type)                 Output Shape              Param #   \n",
      "=================================================================\n",
      "dense_3 (Dense)              (None, 13)                182       \n",
      "_________________________________________________________________\n",
      "dense_4 (Dense)              (None, 100)               1400      \n",
      "_________________________________________________________________\n",
      "dense_5 (Dense)              (None, 3)                 303       \n",
      "=================================================================\n",
      "Total params: 1,885\n",
      "Trainable params: 1,885\n",
      "Non-trainable params: 0\n",
      "_________________________________________________________________\n"
     ]
    }
   ],
   "source": [
    "model.summary()"
   ]
  },
  {
   "cell_type": "code",
   "execution_count": 70,
   "metadata": {},
   "outputs": [
    {
     "data": {
      "image/png": "[encoded data removed]",
      "text/plain": [
       "<IPython.core.display.Image object>"
      ]
     },
     "execution_count": 70,
     "metadata": {},
     "output_type": "execute_result"
    }
   ],
   "source": [
    "keras.utils.plot_model(model,  show_shapes=True)"
   ]
  },
  {
   "cell_type": "code",
   "execution_count": 71,
   "metadata": {},
   "outputs": [],
   "source": [
    "model.compile(loss=\"sparse_categorical_crossentropy\",\n",
    "              optimizer=\"adam\",\n",
    "              metrics=[\"accuracy\"])"
   ]
  },
  {
   "cell_type": "code",
   "execution_count": 72,
   "metadata": {},
   "outputs": [
    {
     "name": "stdout",
     "output_type": "stream",
     "text": [
      "Epoch 1/50\n",
      "27/27 [==============================] - 1s 11ms/step - loss: 54.2658 - accuracy: 0.3917 - val_loss: 6.4520 - val_accuracy: 0.6667\n",
      "Epoch 2/50\n",
      "27/27 [==============================] - 0s 3ms/step - loss: 7.6678 - accuracy: 0.4267 - val_loss: 3.2399 - val_accuracy: 0.6000\n",
      "Epoch 3/50\n",
      "27/27 [==============================] - 0s 3ms/step - loss: 3.6602 - accuracy: 0.4953 - val_loss: 3.8099 - val_accuracy: 0.6222\n",
      "Epoch 4/50\n",
      "27/27 [==============================] - 0s 3ms/step - loss: 4.1164 - accuracy: 0.5089 - val_loss: 1.7677 - val_accuracy: 0.5556\n",
      "Epoch 5/50\n",
      "27/27 [==============================] - 0s 3ms/step - loss: 1.2717 - accuracy: 0.6099 - val_loss: 1.7971 - val_accuracy: 0.5778\n",
      "Epoch 6/50\n",
      "27/27 [==============================] - 0s 3ms/step - loss: 1.5110 - accuracy: 0.5403 - val_loss: 1.3015 - val_accuracy: 0.6222\n",
      "Epoch 7/50\n",
      "27/27 [==============================] - 0s 3ms/step - loss: 1.0672 - accuracy: 0.6445 - val_loss: 2.0757 - val_accuracy: 0.5111\n",
      "Epoch 8/50\n",
      "27/27 [==============================] - 0s 4ms/step - loss: 1.4125 - accuracy: 0.7077 - val_loss: 2.2453 - val_accuracy: 0.5111\n",
      "Epoch 9/50\n",
      "27/27 [==============================] - 0s 3ms/step - loss: 1.8333 - accuracy: 0.5552 - val_loss: 1.5570 - val_accuracy: 0.6222\n",
      "Epoch 10/50\n",
      "27/27 [==============================] - 0s 3ms/step - loss: 2.3001 - accuracy: 0.5892 - val_loss: 1.7931 - val_accuracy: 0.6889\n",
      "Epoch 11/50\n",
      "27/27 [==============================] - 0s 3ms/step - loss: 1.2946 - accuracy: 0.6628 - val_loss: 2.3457 - val_accuracy: 0.5778\n",
      "Epoch 12/50\n",
      "27/27 [==============================] - 0s 3ms/step - loss: 1.0139 - accuracy: 0.6782 - val_loss: 1.5692 - val_accuracy: 0.6444\n",
      "Epoch 13/50\n",
      "27/27 [==============================] - 0s 3ms/step - loss: 1.3141 - accuracy: 0.6549 - val_loss: 1.8836 - val_accuracy: 0.6000\n",
      "Epoch 14/50\n",
      "27/27 [==============================] - 0s 3ms/step - loss: 1.8831 - accuracy: 0.5822 - val_loss: 1.6110 - val_accuracy: 0.6222\n",
      "Epoch 15/50\n",
      "27/27 [==============================] - ETA: 0s - loss: 2.0608 - accuracy: 0.40 - 0s 3ms/step - loss: 1.0642 - accuracy: 0.6443 - val_loss: 3.1150 - val_accuracy: 0.4889\n",
      "Epoch 16/50\n",
      "27/27 [==============================] - 0s 3ms/step - loss: 1.5817 - accuracy: 0.5989 - val_loss: 2.7561 - val_accuracy: 0.5333\n",
      "Epoch 17/50\n",
      "27/27 [==============================] - 0s 3ms/step - loss: 2.3195 - accuracy: 0.5812 - val_loss: 2.2271 - val_accuracy: 0.5556\n",
      "Epoch 18/50\n",
      "27/27 [==============================] - 0s 3ms/step - loss: 2.7512 - accuracy: 0.5841 - val_loss: 2.0802 - val_accuracy: 0.6000\n",
      "Epoch 19/50\n",
      "27/27 [==============================] - 0s 3ms/step - loss: 1.3005 - accuracy: 0.6517 - val_loss: 1.6133 - val_accuracy: 0.6889\n",
      "Epoch 20/50\n",
      "27/27 [==============================] - 0s 4ms/step - loss: 0.8111 - accuracy: 0.7036 - val_loss: 1.8076 - val_accuracy: 0.6222\n",
      "Epoch 21/50\n",
      "27/27 [==============================] - 0s 3ms/step - loss: 1.3202 - accuracy: 0.7067 - val_loss: 1.9494 - val_accuracy: 0.6444\n",
      "Epoch 22/50\n",
      "27/27 [==============================] - 0s 4ms/step - loss: 2.0680 - accuracy: 0.6919 - val_loss: 1.5518 - val_accuracy: 0.6444\n",
      "Epoch 23/50\n",
      "27/27 [==============================] - 0s 4ms/step - loss: 1.0501 - accuracy: 0.6817 - val_loss: 5.1497 - val_accuracy: 0.5111\n",
      "Epoch 24/50\n",
      "27/27 [==============================] - 0s 4ms/step - loss: 3.2975 - accuracy: 0.5721 - val_loss: 1.6077 - val_accuracy: 0.6667\n",
      "Epoch 25/50\n",
      "27/27 [==============================] - 0s 3ms/step - loss: 0.6875 - accuracy: 0.7495 - val_loss: 1.2373 - val_accuracy: 0.6889\n",
      "Epoch 26/50\n",
      "27/27 [==============================] - 0s 3ms/step - loss: 0.6193 - accuracy: 0.8278 - val_loss: 1.5194 - val_accuracy: 0.6889\n",
      "Epoch 27/50\n",
      "27/27 [==============================] - 0s 3ms/step - loss: 1.2255 - accuracy: 0.6500 - val_loss: 2.2957 - val_accuracy: 0.6444\n",
      "Epoch 28/50\n",
      "27/27 [==============================] - 0s 3ms/step - loss: 1.5050 - accuracy: 0.6618 - val_loss: 1.8601 - val_accuracy: 0.6889\n",
      "Epoch 29/50\n",
      "27/27 [==============================] - 0s 3ms/step - loss: 1.6082 - accuracy: 0.7953 - val_loss: 1.5048 - val_accuracy: 0.6889\n",
      "Epoch 30/50\n",
      "27/27 [==============================] - 0s 3ms/step - loss: 1.6434 - accuracy: 0.6988 - val_loss: 1.6314 - val_accuracy: 0.7333\n",
      "Epoch 31/50\n",
      "27/27 [==============================] - 0s 3ms/step - loss: 1.4054 - accuracy: 0.7097 - val_loss: 1.8499 - val_accuracy: 0.6889\n",
      "Epoch 32/50\n",
      "27/27 [==============================] - 0s 4ms/step - loss: 0.4105 - accuracy: 0.8361 - val_loss: 1.2658 - val_accuracy: 0.7111\n",
      "Epoch 33/50\n",
      "27/27 [==============================] - 0s 4ms/step - loss: 0.9400 - accuracy: 0.7565 - val_loss: 1.0763 - val_accuracy: 0.8000\n",
      "Epoch 34/50\n",
      "27/27 [==============================] - 0s 4ms/step - loss: 1.3438 - accuracy: 0.7139 - val_loss: 1.0385 - val_accuracy: 0.7778\n",
      "Epoch 35/50\n",
      "27/27 [==============================] - 0s 4ms/step - loss: 0.5322 - accuracy: 0.7714 - val_loss: 1.0678 - val_accuracy: 0.7111\n",
      "Epoch 36/50\n",
      "27/27 [==============================] - 0s 3ms/step - loss: 0.2782 - accuracy: 0.8972 - val_loss: 1.1392 - val_accuracy: 0.7333\n",
      "Epoch 37/50\n",
      "27/27 [==============================] - 0s 3ms/step - loss: 0.5943 - accuracy: 0.8534 - val_loss: 0.9524 - val_accuracy: 0.8444\n",
      "Epoch 38/50\n",
      "27/27 [==============================] - 0s 3ms/step - loss: 0.5109 - accuracy: 0.8177 - val_loss: 1.0666 - val_accuracy: 0.8000\n",
      "Epoch 39/50\n",
      "27/27 [==============================] - 0s 3ms/step - loss: 1.1643 - accuracy: 0.7409 - val_loss: 1.5878 - val_accuracy: 0.7556\n",
      "Epoch 40/50\n",
      "27/27 [==============================] - 0s 3ms/step - loss: 1.3694 - accuracy: 0.6725 - val_loss: 1.1234 - val_accuracy: 0.7111\n",
      "Epoch 41/50\n",
      "27/27 [==============================] - 0s 3ms/step - loss: 0.4021 - accuracy: 0.8491 - val_loss: 1.3901 - val_accuracy: 0.6667\n",
      "Epoch 42/50\n",
      "27/27 [==============================] - 0s 3ms/step - loss: 1.1148 - accuracy: 0.7298 - val_loss: 1.4043 - val_accuracy: 0.7111\n",
      "Epoch 43/50\n",
      "27/27 [==============================] - 0s 3ms/step - loss: 1.3950 - accuracy: 0.6971 - val_loss: 2.3536 - val_accuracy: 0.6889\n",
      "Epoch 44/50\n",
      "27/27 [==============================] - 0s 3ms/step - loss: 1.8295 - accuracy: 0.6383 - val_loss: 1.3037 - val_accuracy: 0.7333\n",
      "Epoch 45/50\n",
      "27/27 [==============================] - 0s 3ms/step - loss: 0.6566 - accuracy: 0.8138 - val_loss: 1.7358 - val_accuracy: 0.7333\n",
      "Epoch 46/50\n",
      "27/27 [==============================] - 0s 3ms/step - loss: 0.8964 - accuracy: 0.7783 - val_loss: 1.1122 - val_accuracy: 0.7333\n",
      "Epoch 47/50\n",
      "27/27 [==============================] - 0s 3ms/step - loss: 0.5510 - accuracy: 0.8179 - val_loss: 0.8923 - val_accuracy: 0.8222\n",
      "Epoch 48/50\n",
      "27/27 [==============================] - 0s 4ms/step - loss: 0.4071 - accuracy: 0.8965 - val_loss: 1.1663 - val_accuracy: 0.6667\n",
      "Epoch 49/50\n",
      "27/27 [==============================] - 0s 3ms/step - loss: 1.0805 - accuracy: 0.7332 - val_loss: 1.6378 - val_accuracy: 0.5556\n",
      "Epoch 50/50\n",
      "27/27 [==============================] - 0s 3ms/step - loss: 0.5919 - accuracy: 0.8535 - val_loss: 1.0750 - val_accuracy: 0.7111\n"
     ]
    }
   ],
   "source": [
    "num_epo = 50\n",
    "history = model.fit(X_tn, y_tn, epochs=num_epo, batch_size=5,\n",
    "                    validation_data=(X_te, y_te))"
   ]
  },
  {
   "cell_type": "code",
   "execution_count": 73,
   "metadata": {},
   "outputs": [
    {
     "name": "stdout",
     "output_type": "stream",
     "text": [
      "5/5 [==============================] - 0s 2ms/step - loss: 0.4062 - accuracy: 0.8271\n",
      "0.8270676732063293\n"
     ]
    }
   ],
   "source": [
    "print(model.evaluate(X_tn, y_tn)[1])"
   ]
  },
  {
   "cell_type": "code",
   "execution_count": 74,
   "metadata": {},
   "outputs": [
    {
     "name": "stdout",
     "output_type": "stream",
     "text": [
      "2/2 [==============================] - 0s 4ms/step - loss: 1.0750 - accuracy: 0.7111\n",
      "0.7111111283302307\n"
     ]
    }
   ],
   "source": [
    "print(model.evaluate(X_te, y_te)[1])"
   ]
  },
  {
   "cell_type": "code",
   "execution_count": 75,
   "metadata": {},
   "outputs": [
    {
     "name": "stdout",
     "output_type": "stream",
     "text": [
      "[0.45864662528038025, 0.43609023094177246, 0.4887218177318573, 0.5413534045219421, 0.6390977501869202, 0.5939849615097046, 0.6015037298202515, 0.6541353464126587, 0.548872172832489, 0.61654132604599, 0.6616541147232056, 0.6616541147232056, 0.646616518497467, 0.61654132604599, 0.6766917109489441, 0.6541353464126587, 0.6090225577354431, 0.5939849615097046, 0.6390977501869202, 0.6917293071746826, 0.6917293071746826, 0.7443609237670898, 0.7218044996261597, 0.646616518497467, 0.7593985199928284, 0.8270676732063293, 0.6766917109489441, 0.6541353464126587, 0.7142857313156128, 0.6992481350898743, 0.7744361162185669, 0.8270676732063293, 0.7293233275413513, 0.7593985199928284, 0.7744361162185669, 0.8496240377426147, 0.8345864415168762, 0.8195488452911377, 0.7142857313156128, 0.7744361162185669, 0.8421052694320679, 0.7669172883033752, 0.61654132604599, 0.6616541147232056, 0.7894737124443054, 0.8120300769805908, 0.8496240377426147, 0.8270676732063293, 0.7518796920776367, 0.8646616339683533]\n"
     ]
    }
   ],
   "source": [
    "print(history.history[\"accuracy\"])"
   ]
  },
  {
   "cell_type": "code",
   "execution_count": 76,
   "metadata": {},
   "outputs": [
    {
     "name": "stdout",
     "output_type": "stream",
     "text": [
      "[31.538240432739258, 6.023225784301758, 3.6282730102539062, 3.498533248901367, 1.2285059690475464, 1.4175447225570679, 1.733280897140503, 1.5824915170669556, 2.007570266723633, 2.3245060443878174, 1.3282089233398438, 1.0180386304855347, 1.4229285717010498, 1.777100920677185, 1.3347551822662354, 1.1690260171890259, 2.1763815879821777, 2.6165881156921387, 1.3195507526397705, 1.0658788681030273, 1.4187939167022705, 1.5357129573822021, 1.0351800918579102, 2.074294328689575, 0.6203472018241882, 0.6478243470191956, 1.176221251487732, 1.779407262802124, 2.1232059001922607, 1.5011810064315796, 1.1268306970596313, 0.4297424852848053, 0.8461052179336548, 0.9337223172187805, 0.5506569743156433, 0.4734344184398651, 0.6050409078598022, 0.5832556486129761, 1.415419578552246, 0.8934708833694458, 0.4412883520126343, 1.0162771940231323, 2.0422511100769043, 1.664305329322815, 0.7440171837806702, 0.7255660891532898, 0.5329629778862, 0.6833166480064392, 1.1621471643447876, 0.6122229099273682]\n"
     ]
    }
   ],
   "source": [
    "print(history.history[\"loss\"])"
   ]
  },
  {
   "cell_type": "code",
   "execution_count": 77,
   "metadata": {},
   "outputs": [
    {
     "data": {
      "text/plain": [
       "[<matplotlib.lines.Line2D at 0x130331130c8>]"
      ]
     },
     "execution_count": 77,
     "metadata": {},
     "output_type": "execute_result"
    },
    {
     "data": {
      "image/png": "[encoded data removed]",
      "text/plain": [
       "<Figure size 432x288 with 1 Axes>"
      ]
     },
     "metadata": {
      "needs_background": "light"
     },
     "output_type": "display_data"
    }
   ],
   "source": [
    "plt.plot(range(1, num_epo+1), history.history[\"accuracy\"])"
   ]
  },
  {
   "cell_type": "code",
   "execution_count": 78,
   "metadata": {},
   "outputs": [
    {
     "data": {
      "text/plain": [
       "[<matplotlib.lines.Line2D at 0x1303352cd48>]"
      ]
     },
     "execution_count": 78,
     "metadata": {},
     "output_type": "execute_result"
    },
    {
     "data": {
      "image/png": "[encoded data removed]",
      "text/plain": [
       "<Figure size 432x288 with 1 Axes>"
      ]
     },
     "metadata": {
      "needs_background": "light"
     },
     "output_type": "display_data"
    }
   ],
   "source": [
    "plt.plot(range(1, num_epo+1), history.history[\"loss\"])"
   ]
  },
  {
   "cell_type": "markdown",
   "metadata": {},
   "source": [
    "#### 영화 리뷰 예제\n",
    "\n",
    "이 예제는 영화 리뷰(review) 텍스트를 긍정(positive) 또는 부정(negative)으로 분류한다."
   ]
  },
  {
   "cell_type": "code",
   "execution_count": 102,
   "metadata": {},
   "outputs": [],
   "source": [
    "imdb = keras.datasets.imdb\n",
    "\n",
    "(train_data, train_labels), (test_data, test_labels) = imdb.load_data(num_words=10000)"
   ]
  },
  {
   "cell_type": "markdown",
   "metadata": {},
   "source": [
    "위에서 ```num_words=10000```은 훈련 데이터에서 가장 많이 등장하는 상위 10,000개의 단어를 선택한다. \n",
    "\n",
    "이 데이터셋의 샘플은 전처리된 정수 배열로, 영화 리뷰에 나오는 단어를 숫자로 변환한 것이다.\n",
    "\n",
    "레이블(label)은 정수 0 또는 1로서, 0은 부정적인 리뷰이고 1은 긍정적인 리뷰이다."
   ]
  },
  {
   "cell_type": "code",
   "execution_count": 103,
   "metadata": {},
   "outputs": [
    {
     "data": {
      "text/plain": [
       "1"
      ]
     },
     "execution_count": 103,
     "metadata": {},
     "output_type": "execute_result"
    }
   ],
   "source": [
    "train_labels[3]"
   ]
  },
  {
   "cell_type": "code",
   "execution_count": 104,
   "metadata": {},
   "outputs": [
    {
     "name": "stdout",
     "output_type": "stream",
     "text": [
      "훈련 샘플: 25000, 레이블: 25000\n"
     ]
    }
   ],
   "source": [
    "print(\"훈련 샘플: {}, 레이블: {}\".format(len(train_data), len(train_labels)))"
   ]
  },
  {
   "cell_type": "code",
   "execution_count": 105,
   "metadata": {},
   "outputs": [
    {
     "name": "stdout",
     "output_type": "stream",
     "text": [
      "[1, 14, 22, 16, 43, 530, 973, 1622, 1385, 65, 458, 4468, 66, 3941, 4, 173, 36, 256, 5, 25, 100, 43, 838, 112, 50, 670, 2, 9, 35, 480, 284, 5, 150, 4, 172, 112, 167, 2, 336, 385, 39, 4, 172, 4536, 1111, 17, 546, 38, 13, 447, 4, 192, 50, 16, 6, 147, 2025, 19, 14, 22, 4, 1920, 4613, 469, 4, 22, 71, 87, 12, 16, 43, 530, 38, 76, 15, 13, 1247, 4, 22, 17, 515, 17, 12, 16, 626, 18, 2, 5, 62, 386, 12, 8, 316, 8, 106, 5, 4, 2223, 5244, 16, 480, 66, 3785, 33, 4, 130, 12, 16, 38, 619, 5, 25, 124, 51, 36, 135, 48, 25, 1415, 33, 6, 22, 12, 215, 28, 77, 52, 5, 14, 407, 16, 82, 2, 8, 4, 107, 117, 5952, 15, 256, 4, 2, 7, 3766, 5, 723, 36, 71, 43, 530, 476, 26, 400, 317, 46, 7, 4, 2, 1029, 13, 104, 88, 4, 381, 15, 297, 98, 32, 2071, 56, 26, 141, 6, 194, 7486, 18, 4, 226, 22, 21, 134, 476, 26, 480, 5, 144, 30, 5535, 18, 51, 36, 28, 224, 92, 25, 104, 4, 226, 65, 16, 38, 1334, 88, 12, 16, 283, 5, 16, 4472, 113, 103, 32, 15, 16, 5345, 19, 178, 32]\n"
     ]
    }
   ],
   "source": [
    "print(train_data[0])"
   ]
  },
  {
   "cell_type": "code",
   "execution_count": 106,
   "metadata": {},
   "outputs": [
    {
     "data": {
      "text/plain": [
       "(218, 189)"
      ]
     },
     "execution_count": 106,
     "metadata": {},
     "output_type": "execute_result"
    }
   ],
   "source": [
    "len(train_data[0]), len(train_data[1])"
   ]
  },
  {
   "cell_type": "markdown",
   "metadata": {},
   "source": [
    "다음은 정수를 다시 문자열로 변환할 필요가 있을 때 사용하기 위해 만들어졌다."
   ]
  },
  {
   "cell_type": "code",
   "execution_count": 107,
   "metadata": {},
   "outputs": [],
   "source": [
    "word_index = imdb.get_word_index()\n",
    "\n",
    "# 처음 몇 개 인덱스는 사전에 정의되어 있음.\n",
    "word_index = {k:(v+3) for k,v in word_index.items()}\n",
    "word_index[\"<PAD>\"] = 0\n",
    "word_index[\"<START>\"] = 1\n",
    "word_index[\"<UNK>\"] = 2  # unknown\n",
    "word_index[\"<UNUSED>\"] = 3\n",
    "\n",
    "reverse_word_index = dict([(value, key) for (key, value) in word_index.items()])\n",
    "\n",
    "def decode_review(text):\n",
    "    return ' '.join([reverse_word_index.get(i, '?') for i in text])"
   ]
  },
  {
   "cell_type": "code",
   "execution_count": 108,
   "metadata": {},
   "outputs": [
    {
     "data": {
      "text/plain": [
       "550"
      ]
     },
     "execution_count": 108,
     "metadata": {},
     "output_type": "execute_result"
    }
   ],
   "source": [
    "len(train_data[3])"
   ]
  },
  {
   "cell_type": "markdown",
   "metadata": {},
   "source": [
    "데이터 구성\n",
    "\n",
    "리뷰-정수 배열-는 신경망에 주입하기 전에 텐서로 변환되어야 한다. 변환하는 방법에는 몇 가지가 있다.\n",
    "\n",
    "* 원-핫 인코딩(one-hot encoding)은 정수 배열을 0과 1로 이루어진 벡터로 변환한다. 예를 들어 배열 ```[3, 5]```을 인덱스 3과 5만 1이고 나머지는 모두 0인 10,000차원 벡터로 변환할 수 있다. \n",
    "\n",
    "* 다른 방법으로는, 정수 배열의 길이가 모두 같도록 패딩(padding), 예를 들어 0의 값, 을 추가해 ```max_length * num_reviews``` 크기의 정수 텐서를 만든다. 이런 형태의 텐서를 다룰 수 있는 임베딩(embedding) 층을 신경망의 첫 번째 층으로 사용할 수 있다.\n",
    "\n",
    "이 예제에서는 두 번째 방식을 사용한다."
   ]
  },
  {
   "cell_type": "code",
   "execution_count": 112,
   "metadata": {},
   "outputs": [],
   "source": [
    "train_data = keras.preprocessing.sequence.pad_sequences(train_data,\n",
    "                                                        value=word_index[\"<PAD>\"],\n",
    "                                                        padding='post',\n",
    "                                                        maxlen=256)\n",
    "\n",
    "test_data = keras.preprocessing.sequence.pad_sequences(test_data,\n",
    "                                                       value=word_index[\"<PAD>\"],\n",
    "                                                       padding='post',\n",
    "                                                       maxlen=256)"
   ]
  },
  {
   "cell_type": "code",
   "execution_count": 117,
   "metadata": {},
   "outputs": [
    {
     "data": {
      "text/plain": [
       "array([1784,   86, 1117,    8, 3261,   46,   11,    2,   21,   29,    9,\n",
       "       2841,   23,    4, 1010,    2,  793,    6,    2, 1386, 1830,   10,\n",
       "         10,  246,   50,    9,    6, 2750, 1944,  746,   90,   29,    2,\n",
       "          8,  124,    4,  882,    4,  882,  496,   27,    2, 2213,  537,\n",
       "        121,  127, 1219,  130,    5,   29,  494,    8,  124,    4,  882,\n",
       "        496,    4,  341,    7,   27,  846,   10,   10,   29,    9, 1906,\n",
       "          8,   97,    6,  236,    2, 1311,    8,    4,    2,    7,   31,\n",
       "          7,    2,   91,    2, 3987,   70,    4,  882,   30,  579,   42,\n",
       "          9,   12,   32,   11,  537,   10,   10,   11,   14,   65,   44,\n",
       "        537,   75,    2, 1775, 3353,    2, 1846,    4,    2,    7,  154,\n",
       "          5,    4,  518,   53,    2,    2,    7, 3211,  882,   11,  399,\n",
       "         38,   75,  257, 3807,   19,    2,   17,   29,  456,    4,   65,\n",
       "          7,   27,  205,  113,   10,   10,    2,    4,    2,    2,    9,\n",
       "        242,    4,   91, 1202,    2,    5, 2070,  307,   22,    7, 5168,\n",
       "        126,   93,   40,    2,   13,  188, 1076, 3222,   19,    4,    2,\n",
       "          7, 2348,  537,   23,   53,  537,   21,   82,   40,    2,   13,\n",
       "          2,   14,  280,   13,  219,    4,    2,  431,  758,  859,    4,\n",
       "        953, 1052,    2,    7, 5991,    5,   94,   40,   25,  238,   60,\n",
       "          2,    4,    2,  804,    2,    7,    4, 9941,  132,    8,   67,\n",
       "          6,   22,   15,    9,  283,    8, 5168,   14,   31,    9,  242,\n",
       "        955,   48,   25,  279,    2,   23,   12, 1685,  195,   25,  238,\n",
       "         60,  796,    2,    4,  671,    7, 2804,    5,    4,  559,  154,\n",
       "        888,    7,  726,   50,   26,   49, 7008,   15,  566,   30,  579,\n",
       "         21,   64, 2574])"
      ]
     },
     "execution_count": 117,
     "metadata": {},
     "output_type": "execute_result"
    }
   ],
   "source": [
    "train_data[3]"
   ]
  },
  {
   "cell_type": "code",
   "execution_count": 115,
   "metadata": {},
   "outputs": [
    {
     "data": {
      "text/plain": [
       "\"twenty first century to hang out in <UNK> but he is raised on the western <UNK> among a <UNK> speaking community br br yet there is a deeper conflict within him he <UNK> to know the truth the truth behind his <UNK> ancient stories where does fiction end and he wants to know the truth behind the death of his parents br br he is pulled to make a last <UNK> journey to the <UNK> of one of <UNK> most <UNK> mountains can the truth be told or is it all in stories br br in this story about stories we <UNK> bloody battles <UNK> lovers the <UNK> of old and the sometimes more <UNK> <UNK> of accepted truth in doing so we each connect with <UNK> as he lives the story of his own life br br <UNK> the <UNK> <UNK> is probably the most honest <UNK> and genuinely beautiful film of scotland ever made like <UNK> i got slightly annoyed with the <UNK> of hanging stories on more stories but also like <UNK> i <UNK> this once i saw the <UNK> picture ' forget the box office <UNK> of braveheart and its like you might even <UNK> the <UNK> famous <UNK> of the wicker man to see a film that is true to scotland this one is probably unique if you maybe <UNK> on it deeply enough you might even re <UNK> the power of storytelling and the age old question of whether there are some truths that cannot be told but only experienced\""
      ]
     },
     "execution_count": 115,
     "metadata": {},
     "output_type": "execute_result"
    }
   ],
   "source": [
    "decode_review(train_data[3])"
   ]
  },
  {
   "cell_type": "markdown",
   "metadata": {},
   "source": [
    "모델 구성에서는 크게 다음 두 가지를 고려한다.\n",
    "\n",
    "* 모델에서 얼마나 많은 층을 사용할 것인가?\n",
    "* 각 층에서 얼마나 많은 은닉 유닛(hidden unit)을 사용할 것인가?\n",
    "\n",
    "이 예제의 입력 데이터는 단어 인덱스의 배열이며 예측할 레이블은 0 또는 1이다.  \n",
    "이 문제에 맞는 모델을 구성해야 한다."
   ]
  },
  {
   "cell_type": "code",
   "execution_count": 141,
   "metadata": {},
   "outputs": [
    {
     "name": "stdout",
     "output_type": "stream",
     "text": [
      "Model: \"sequential_11\"\n",
      "_________________________________________________________________\n",
      "Layer (type)                 Output Shape              Param #   \n",
      "=================================================================\n",
      "embedding_7 (Embedding)      (None, None, 16)          160000    \n",
      "_________________________________________________________________\n",
      "global_average_pooling1d_1 ( (None, 16)                0         \n",
      "_________________________________________________________________\n",
      "dense_13 (Dense)             (None, 16)                272       \n",
      "_________________________________________________________________\n",
      "dense_14 (Dense)             (None, 1)                 17        \n",
      "=================================================================\n",
      "Total params: 160,289\n",
      "Trainable params: 160,289\n",
      "Non-trainable params: 0\n",
      "_________________________________________________________________\n"
     ]
    }
   ],
   "source": [
    "vocab_size = 10000\n",
    "\n",
    "model = keras.Sequential()\n",
    "model.add(keras.layers.Embedding(vocab_size, 16, input_shape=(None,)))\n",
    "model.add(keras.layers.GlobalAveragePooling1D())\n",
    "model.add(keras.layers.Dense(16, activation='relu'))\n",
    "model.add(keras.layers.Dense(1, activation='sigmoid'))\n",
    "\n",
    "model.summary()"
   ]
  },
  {
   "cell_type": "markdown",
   "metadata": {},
   "source": [
    "위 코드에서\n",
    "\n",
    "1. 첫 번째 층은 Embedding 층이다. 이 층은 정수로 인코딩된 단어를 입력 받아, 각 단어 인덱스에 해당하는 임베딩 벡터를 찾는다. 임베딩 벡터는 실수로 구성되어 있으며, 단어 간 유사도를 고려하여 생성된다. 단어를 실수 벡터로 변환하는 방법에는 여러가지가 있다.\n",
    "\n",
    "2. 그 다음 GlobalAveragePooling1D 층은 sequence 차원에 대해 평균을 계산하여 각 샘플에 대해 고정된 길이의 출력 벡터를 반환한다. 이는 길이가 다른 입력을 다루는 가장 간단한 방법이다.\n",
    "\n",
    "3. 이 고정 길이의 출력 벡터는 16개의 은닉 유닛을 가진 완전 연결(fully-connected) 층(Dense)을 거친다.\n",
    "\n",
    "4. 마지막 층은 하나의 출력 노드(node)를 가진 완전 연결 층으로. sigmoid 활성화 함수를 사용하여 0과 1 사이의 실수를 출력한다. 이 값은 확률 또는 신뢰도를 나타낸다."
   ]
  },
  {
   "cell_type": "code",
   "execution_count": 142,
   "metadata": {},
   "outputs": [],
   "source": [
    "model.compile(optimizer='adam',\n",
    "              loss='binary_crossentropy',\n",
    "              metrics=['accuracy'])"
   ]
  },
  {
   "cell_type": "code",
   "execution_count": 143,
   "metadata": {},
   "outputs": [],
   "source": [
    "x_val = train_data[:10000]\n",
    "partial_x_train = train_data[10000:]\n",
    "\n",
    "y_val = train_labels[:10000]\n",
    "partial_y_train = train_labels[10000:]"
   ]
  },
  {
   "cell_type": "code",
   "execution_count": 144,
   "metadata": {},
   "outputs": [
    {
     "name": "stdout",
     "output_type": "stream",
     "text": [
      "Epoch 1/40\n",
      "29/30 [============================>.] - ETA: 0s - loss: 0.6928 - accuracy: 0.5638WARNING:tensorflow:7 out of the last 13 calls to <function Model.make_test_function.<locals>.test_function at 0x0000013055E5B168> triggered tf.function retracing. Tracing is expensive and the excessive number of tracings could be due to (1) creating @tf.function repeatedly in a loop, (2) passing tensors with different shapes, (3) passing Python objects instead of tensors. For (1), please define your @tf.function outside of the loop. For (2), @tf.function has experimental_relax_shapes=True option that relaxes argument shapes that can avoid unnecessary retracing. For (3), please refer to https://www.tensorflow.org/guide/function#controlling_retracing and https://www.tensorflow.org/api_docs/python/tf/function for  more details.\n",
      "30/30 [==============================] - 2s 36ms/step - loss: 0.6928 - accuracy: 0.5671 - val_loss: 0.6908 - val_accuracy: 0.6808\n",
      "Epoch 2/40\n",
      "30/30 [==============================] - 1s 30ms/step - loss: 0.6893 - accuracy: 0.7233 - val_loss: 0.6842 - val_accuracy: 0.7435\n",
      "Epoch 3/40\n",
      "30/30 [==============================] - 1s 31ms/step - loss: 0.6803 - accuracy: 0.7456 - val_loss: 0.6703 - val_accuracy: 0.7215\n",
      "Epoch 4/40\n",
      "30/30 [==============================] - 1s 28ms/step - loss: 0.6630 - accuracy: 0.7605 - val_loss: 0.6462 - val_accuracy: 0.7586\n",
      "Epoch 5/40\n",
      "30/30 [==============================] - 1s 28ms/step - loss: 0.6327 - accuracy: 0.7863 - val_loss: 0.6094 - val_accuracy: 0.7730\n",
      "Epoch 6/40\n",
      "30/30 [==============================] - 1s 33ms/step - loss: 0.5877 - accuracy: 0.8074 - val_loss: 0.5653 - val_accuracy: 0.7959\n",
      "Epoch 7/40\n",
      "30/30 [==============================] - 1s 30ms/step - loss: 0.5401 - accuracy: 0.8254 - val_loss: 0.5193 - val_accuracy: 0.8180\n",
      "Epoch 8/40\n",
      "30/30 [==============================] - 1s 29ms/step - loss: 0.4904 - accuracy: 0.8413 - val_loss: 0.4760 - val_accuracy: 0.8308\n",
      "Epoch 9/40\n",
      "30/30 [==============================] - 1s 27ms/step - loss: 0.4394 - accuracy: 0.8604 - val_loss: 0.4379 - val_accuracy: 0.8436\n",
      "Epoch 10/40\n",
      "30/30 [==============================] - 1s 28ms/step - loss: 0.3997 - accuracy: 0.8726 - val_loss: 0.4063 - val_accuracy: 0.8523\n",
      "Epoch 11/40\n",
      "30/30 [==============================] - 1s 32ms/step - loss: 0.3640 - accuracy: 0.8843 - val_loss: 0.3815 - val_accuracy: 0.8585\n",
      "Epoch 12/40\n",
      "30/30 [==============================] - 1s 32ms/step - loss: 0.3328 - accuracy: 0.8902 - val_loss: 0.3614 - val_accuracy: 0.8646\n",
      "Epoch 13/40\n",
      "30/30 [==============================] - 1s 31ms/step - loss: 0.3125 - accuracy: 0.8945 - val_loss: 0.3464 - val_accuracy: 0.8682\n",
      "Epoch 14/40\n",
      "30/30 [==============================] - 1s 30ms/step - loss: 0.2959 - accuracy: 0.8971 - val_loss: 0.3334 - val_accuracy: 0.8715\n",
      "Epoch 15/40\n",
      "30/30 [==============================] - 1s 31ms/step - loss: 0.2742 - accuracy: 0.9063 - val_loss: 0.3244 - val_accuracy: 0.8710\n",
      "Epoch 16/40\n",
      "30/30 [==============================] - 1s 28ms/step - loss: 0.2595 - accuracy: 0.9091 - val_loss: 0.3150 - val_accuracy: 0.8771\n",
      "Epoch 17/40\n",
      "30/30 [==============================] - 1s 30ms/step - loss: 0.2440 - accuracy: 0.9182 - val_loss: 0.3075 - val_accuracy: 0.8793\n",
      "Epoch 18/40\n",
      "30/30 [==============================] - 1s 27ms/step - loss: 0.2323 - accuracy: 0.9170 - val_loss: 0.3019 - val_accuracy: 0.8809\n",
      "Epoch 19/40\n",
      "30/30 [==============================] - 1s 31ms/step - loss: 0.2221 - accuracy: 0.9235 - val_loss: 0.2980 - val_accuracy: 0.8799\n",
      "Epoch 20/40\n",
      "30/30 [==============================] - 1s 30ms/step - loss: 0.2116 - accuracy: 0.9269 - val_loss: 0.2940 - val_accuracy: 0.8810\n",
      "Epoch 21/40\n",
      "30/30 [==============================] - 1s 29ms/step - loss: 0.2001 - accuracy: 0.9316 - val_loss: 0.2911 - val_accuracy: 0.8838\n",
      "Epoch 22/40\n",
      "30/30 [==============================] - 1s 31ms/step - loss: 0.1893 - accuracy: 0.9346 - val_loss: 0.2888 - val_accuracy: 0.8850\n",
      "Epoch 23/40\n",
      "30/30 [==============================] - 1s 29ms/step - loss: 0.1806 - accuracy: 0.9446 - val_loss: 0.2873 - val_accuracy: 0.8853\n",
      "Epoch 24/40\n",
      "30/30 [==============================] - 1s 31ms/step - loss: 0.1758 - accuracy: 0.9434 - val_loss: 0.2910 - val_accuracy: 0.8816\n",
      "Epoch 25/40\n",
      "30/30 [==============================] - 1s 38ms/step - loss: 0.1699 - accuracy: 0.9432 - val_loss: 0.2858 - val_accuracy: 0.8854\n",
      "Epoch 26/40\n",
      "30/30 [==============================] - 1s 36ms/step - loss: 0.1609 - accuracy: 0.9475 - val_loss: 0.2856 - val_accuracy: 0.8857\n",
      "Epoch 27/40\n",
      "30/30 [==============================] - 1s 35ms/step - loss: 0.1503 - accuracy: 0.9544 - val_loss: 0.2855 - val_accuracy: 0.8858\n",
      "Epoch 28/40\n",
      "30/30 [==============================] - 1s 32ms/step - loss: 0.1504 - accuracy: 0.9523 - val_loss: 0.2861 - val_accuracy: 0.8853\n",
      "Epoch 29/40\n",
      "30/30 [==============================] - 1s 31ms/step - loss: 0.1388 - accuracy: 0.9586 - val_loss: 0.2870 - val_accuracy: 0.8847\n",
      "Epoch 30/40\n",
      "30/30 [==============================] - 1s 27ms/step - loss: 0.1373 - accuracy: 0.9569 - val_loss: 0.2890 - val_accuracy: 0.8863\n",
      "Epoch 31/40\n",
      "30/30 [==============================] - 1s 32ms/step - loss: 0.1270 - accuracy: 0.9634 - val_loss: 0.2895 - val_accuracy: 0.8856\n",
      "Epoch 32/40\n",
      "30/30 [==============================] - 1s 34ms/step - loss: 0.1239 - accuracy: 0.9644 - val_loss: 0.2918 - val_accuracy: 0.8856\n",
      "Epoch 33/40\n",
      "30/30 [==============================] - 1s 32ms/step - loss: 0.1213 - accuracy: 0.9657 - val_loss: 0.2939 - val_accuracy: 0.8847\n",
      "Epoch 34/40\n",
      "30/30 [==============================] - 1s 36ms/step - loss: 0.1150 - accuracy: 0.9675 - val_loss: 0.2956 - val_accuracy: 0.8853\n",
      "Epoch 35/40\n",
      "30/30 [==============================] - 1s 36ms/step - loss: 0.1124 - accuracy: 0.9710 - val_loss: 0.2981 - val_accuracy: 0.8851\n",
      "Epoch 36/40\n",
      "30/30 [==============================] - 1s 36ms/step - loss: 0.1055 - accuracy: 0.9724 - val_loss: 0.3005 - val_accuracy: 0.8839\n",
      "Epoch 37/40\n",
      "30/30 [==============================] - 1s 39ms/step - loss: 0.1045 - accuracy: 0.9730 - val_loss: 0.3038 - val_accuracy: 0.8836\n",
      "Epoch 38/40\n",
      "30/30 [==============================] - 1s 31ms/step - loss: 0.0971 - accuracy: 0.9746 - val_loss: 0.3066 - val_accuracy: 0.8834\n",
      "Epoch 39/40\n",
      "30/30 [==============================] - 1s 35ms/step - loss: 0.0961 - accuracy: 0.9750 - val_loss: 0.3094 - val_accuracy: 0.8831\n",
      "Epoch 40/40\n",
      "30/30 [==============================] - 1s 32ms/step - loss: 0.0874 - accuracy: 0.9775 - val_loss: 0.3124 - val_accuracy: 0.8823\n"
     ]
    }
   ],
   "source": [
    "history = model.fit(partial_x_train,\n",
    "                    partial_y_train,\n",
    "                    epochs=40,\n",
    "                    batch_size=512,\n",
    "                    validation_data=(x_val, y_val),\n",
    "                    verbose=1)"
   ]
  },
  {
   "cell_type": "code",
   "execution_count": 145,
   "metadata": {},
   "outputs": [
    {
     "name": "stdout",
     "output_type": "stream",
     "text": [
      "782/782 - 1s - loss: 0.3328 - accuracy: 0.8726\n",
      "[0.33282214403152466, 0.8726000189781189]\n"
     ]
    }
   ],
   "source": [
    "results = model.evaluate(test_data,  test_labels, verbose=2)\n",
    "\n",
    "print(results)"
   ]
  },
  {
   "cell_type": "code",
   "execution_count": 146,
   "metadata": {},
   "outputs": [
    {
     "data": {
      "text/plain": [
       "dict_keys(['loss', 'accuracy', 'val_loss', 'val_accuracy'])"
      ]
     },
     "execution_count": 146,
     "metadata": {},
     "output_type": "execute_result"
    }
   ],
   "source": [
    "history_dict = history.history\n",
    "history_dict.keys()"
   ]
  },
  {
   "cell_type": "code",
   "execution_count": 147,
   "metadata": {},
   "outputs": [
    {
     "data": {
      "image/png": "[encoded data removed]",
      "text/plain": [
       "<Figure size 432x288 with 1 Axes>"
      ]
     },
     "metadata": {
      "needs_background": "light"
     },
     "output_type": "display_data"
    }
   ],
   "source": [
    "import matplotlib.pyplot as plt\n",
    "\n",
    "acc = history_dict['accuracy']\n",
    "val_acc = history_dict['val_accuracy']\n",
    "loss = history_dict['loss']\n",
    "val_loss = history_dict['val_loss']\n",
    "\n",
    "epochs = range(1, len(acc) + 1)\n",
    "\n",
    "# \"bo\"는 \"파란색 점\"입니다\n",
    "plt.plot(epochs, loss, 'bo', label='Training loss')\n",
    "# b는 \"파란 실선\"입니다\n",
    "plt.plot(epochs, val_loss, 'b', label='Validation loss')\n",
    "plt.title('Training and validation loss')\n",
    "plt.xlabel('Epochs')\n",
    "plt.ylabel('Loss')\n",
    "plt.legend()\n",
    "\n",
    "plt.show()"
   ]
  },
  {
   "cell_type": "code",
   "execution_count": 148,
   "metadata": {},
   "outputs": [
    {
     "data": {
      "image/png": "[encoded data removed]",
      "text/plain": [
       "<Figure size 432x288 with 1 Axes>"
      ]
     },
     "metadata": {
      "needs_background": "light"
     },
     "output_type": "display_data"
    }
   ],
   "source": [
    "plt.clf()   # 그림을 초기화합니다\n",
    "\n",
    "plt.plot(epochs, acc, 'bo', label='Training acc')\n",
    "plt.plot(epochs, val_acc, 'b', label='Validation acc')\n",
    "plt.title('Training and validation accuracy')\n",
    "plt.xlabel('Epochs')\n",
    "plt.ylabel('Accuracy')\n",
    "plt.legend()\n",
    "\n",
    "plt.show()"
   ]
  },
  {
   "cell_type": "markdown",
   "metadata": {},
   "source": [
    "#### embedding example"
   ]
  },
  {
   "cell_type": "code",
   "execution_count": 149,
   "metadata": {},
   "outputs": [],
   "source": [
    "from numpy import array\n",
    "\n",
    "# define documents\n",
    "docs = ['Well done!',\n",
    "'Good work',\n",
    "'Great effort',\n",
    "'nice work',\n",
    "'Excellent!',\n",
    "'Weak',\n",
    "'Poor effort!',\n",
    "'not good',\n",
    "'poor work',\n",
    "'Could have done better.']\n",
    "# define class labels\n",
    "labels = array([1,1,1,1,1,0,0,0,0,0])\n",
    "# integer encode the documents\n",
    "vocab_size = 50\n",
    "# pad documents to a max length of 4 words\n",
    "max_length = 4\n",
    "padded_docs = keras.preprocessing.sequence.pad_sequences(encoded_docs, maxlen=max_length, padding='post')"
   ]
  },
  {
   "cell_type": "code",
   "execution_count": 154,
   "metadata": {},
   "outputs": [
    {
     "name": "stdout",
     "output_type": "stream",
     "text": [
      "Model: \"sequential_13\"\n",
      "_________________________________________________________________\n",
      "Layer (type)                 Output Shape              Param #   \n",
      "=================================================================\n",
      "embedding_9 (Embedding)      (None, 4, 4)              200       \n",
      "_________________________________________________________________\n",
      "flatten_6 (Flatten)          (None, 16)                0         \n",
      "_________________________________________________________________\n",
      "dense_16 (Dense)             (None, 1)                 17        \n",
      "=================================================================\n",
      "Total params: 217\n",
      "Trainable params: 217\n",
      "Non-trainable params: 0\n",
      "_________________________________________________________________\n",
      "None\n",
      "Accuracy: 100.000000\n"
     ]
    }
   ],
   "source": [
    "# define the model\n",
    "model = Sequential()\n",
    "model.add(keras.layers.Embedding(vocab_size, 4, input_length=max_length))\n",
    "model.add(keras.layers.Flatten())\n",
    "model.add(keras.layers.Dense(1, activation='sigmoid'))\n",
    "# compile the model\n",
    "model.compile(optimizer='adam', loss='binary_crossentropy', metrics=['accuracy'])\n",
    "# summarize the model\n",
    "print(model.summary())\n",
    "# fit the model\n",
    "model.fit(padded_docs, labels, epochs=50, verbose=0)\n",
    "# evaluate the model\n",
    "loss, accuracy = model.evaluate(padded_docs, labels, verbose=0)\n",
    "print('Accuracy: %f' % (accuracy*100))"
   ]
  },
  {
   "cell_type": "code",
   "execution_count": 155,
   "metadata": {},
   "outputs": [],
   "source": [
    "first = keras.models.Model(inputs = model.input, outputs = model.layers[0].output)"
   ]
  },
  {
   "cell_type": "code",
   "execution_count": 156,
   "metadata": {},
   "outputs": [
    {
     "name": "stdout",
     "output_type": "stream",
     "text": [
      "[[48 19  0  0]\n",
      " [16 48  0  0]\n",
      " [35 38  0  0]\n",
      " [22 48  0  0]\n",
      " [24  0  0  0]\n",
      " [32  0  0  0]\n",
      " [28 38  0  0]\n",
      " [31 16  0  0]\n",
      " [28 48  0  0]\n",
      " [15 20 19 38]]\n"
     ]
    }
   ],
   "source": [
    "print(padded_docs)"
   ]
  },
  {
   "cell_type": "code",
   "execution_count": 157,
   "metadata": {},
   "outputs": [
    {
     "name": "stdout",
     "output_type": "stream",
     "text": [
      "WARNING:tensorflow:7 out of the last 5026 calls to <function Model.make_predict_function.<locals>.predict_function at 0x0000013055E5B4C8> triggered tf.function retracing. Tracing is expensive and the excessive number of tracings could be due to (1) creating @tf.function repeatedly in a loop, (2) passing tensors with different shapes, (3) passing Python objects instead of tensors. For (1), please define your @tf.function outside of the loop. For (2), @tf.function has experimental_relax_shapes=True option that relaxes argument shapes that can avoid unnecessary retracing. For (3), please refer to https://www.tensorflow.org/guide/function#controlling_retracing and https://www.tensorflow.org/api_docs/python/tf/function for  more details.\n"
     ]
    },
    {
     "data": {
      "text/plain": [
       "array([[[ 0.07659974, -0.04562589,  0.07427822, -0.00942713],\n",
       "        [-0.00767718, -0.07859949, -0.08428611,  0.09410349],\n",
       "        [-0.05861843, -0.09035654,  0.0309584 , -0.10229893],\n",
       "        [-0.05861843, -0.09035654,  0.0309584 , -0.10229893]],\n",
       "\n",
       "       [[ 0.04659014,  0.08904026,  0.0885735 , -0.05198425],\n",
       "        [ 0.07659974, -0.04562589,  0.07427822, -0.00942713],\n",
       "        [-0.05861843, -0.09035654,  0.0309584 , -0.10229893],\n",
       "        [-0.05861843, -0.09035654,  0.0309584 , -0.10229893]],\n",
       "\n",
       "       [[ 0.04570871, -0.03382295,  0.00152418, -0.01991099],\n",
       "        [ 0.08908592,  0.0267472 , -0.02202532,  0.05561822],\n",
       "        [-0.05861843, -0.09035654,  0.0309584 , -0.10229893],\n",
       "        [-0.05861843, -0.09035654,  0.0309584 , -0.10229893]],\n",
       "\n",
       "       [[ 0.00142657, -0.00950219,  0.02789904, -0.01887888],\n",
       "        [ 0.07659974, -0.04562589,  0.07427822, -0.00942713],\n",
       "        [-0.05861843, -0.09035654,  0.0309584 , -0.10229893],\n",
       "        [-0.05861843, -0.09035654,  0.0309584 , -0.10229893]],\n",
       "\n",
       "       [[ 0.05313574, -0.00147192,  0.01460576, -0.07098118],\n",
       "        [-0.05861843, -0.09035654,  0.0309584 , -0.10229893],\n",
       "        [-0.05861843, -0.09035654,  0.0309584 , -0.10229893],\n",
       "        [-0.05861843, -0.09035654,  0.0309584 , -0.10229893]],\n",
       "\n",
       "       [[-0.07816404,  0.06179254, -0.06932457,  0.08510005],\n",
       "        [-0.05861843, -0.09035654,  0.0309584 , -0.10229893],\n",
       "        [-0.05861843, -0.09035654,  0.0309584 , -0.10229893],\n",
       "        [-0.05861843, -0.09035654,  0.0309584 , -0.10229893]],\n",
       "\n",
       "       [[-0.03174545,  0.06080752, -0.07959379,  0.06739011],\n",
       "        [ 0.08908592,  0.0267472 , -0.02202532,  0.05561822],\n",
       "        [-0.05861843, -0.09035654,  0.0309584 , -0.10229893],\n",
       "        [-0.05861843, -0.09035654,  0.0309584 , -0.10229893]],\n",
       "\n",
       "       [[-0.0293579 ,  0.00985702, -0.05996851,  0.07715027],\n",
       "        [ 0.04659014,  0.08904026,  0.0885735 , -0.05198425],\n",
       "        [-0.05861843, -0.09035654,  0.0309584 , -0.10229893],\n",
       "        [-0.05861843, -0.09035654,  0.0309584 , -0.10229893]],\n",
       "\n",
       "       [[-0.03174545,  0.06080752, -0.07959379,  0.06739011],\n",
       "        [ 0.07659974, -0.04562589,  0.07427822, -0.00942713],\n",
       "        [-0.05861843, -0.09035654,  0.0309584 , -0.10229893],\n",
       "        [-0.05861843, -0.09035654,  0.0309584 , -0.10229893]],\n",
       "\n",
       "       [[-0.07850962,  0.06683291, -0.00565995,  0.03892445],\n",
       "        [-0.05316138,  0.07963068,  0.06013187, -0.01564852],\n",
       "        [-0.00767718, -0.07859949, -0.08428611,  0.09410349],\n",
       "        [ 0.08908592,  0.0267472 , -0.02202532,  0.05561822]]],\n",
       "      dtype=float32)"
      ]
     },
     "execution_count": 157,
     "metadata": {},
     "output_type": "execute_result"
    }
   ],
   "source": [
    "first.predict(padded_docs)"
   ]
  },
  {
   "cell_type": "code",
   "execution_count": 158,
   "metadata": {},
   "outputs": [
    {
     "data": {
      "text/plain": [
       "array([48, 19,  0,  0])"
      ]
     },
     "execution_count": 158,
     "metadata": {},
     "output_type": "execute_result"
    }
   ],
   "source": [
    "padded_docs[0]"
   ]
  },
  {
   "cell_type": "code",
   "execution_count": null,
   "metadata": {},
   "outputs": [],
   "source": []
  }
 ],
 "metadata": {
  "kernelspec": {
   "display_name": "Python 3",
   "language": "python",
   "name": "python3"
  },
  "language_info": {
   "codemirror_mode": {
    "name": "ipython",
    "version": 3
   },
   "file_extension": ".py",
   "mimetype": "text/x-python",
   "name": "python",
   "nbconvert_exporter": "python",
   "pygments_lexer": "ipython3",
   "version": "3.7.7"
  }
 },
 "nbformat": 4,
 "nbformat_minor": 4
}
