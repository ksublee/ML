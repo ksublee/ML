{
 "cells": [
  {
   "cell_type": "markdown",
   "metadata": {},
   "source": [
    "## Linear regression\n",
    "\n",
    "선형회귀는 일반적인 통계학 과목에서 많이 다루는 내용이라 여기서는 간단히 언급하고 넘어가도록 한다.\n",
    "\n",
    "여러 입력 변수를 가지는 선형회귀모형을 고려해 보자.\n",
    "\n",
    "$$ Y = \\theta_0 + \\theta_1 X_1 + \\cdots + \\theta_p X_p + \\epsilon $$\n",
    "\n",
    "이 모형의 모수는 $\\theta_0, \\theta_1, \\cdots, \\theta_p$이며, 우리는 이 모수들의 추정치를 구하는 데에 관심이 있다.\n",
    "\n",
    "앞서 공부한 행렬 표현법과 다른점은 모수가 $\\theta_0$부터 시작하기 때문에 총 $p+1$개가 존재한다.\n",
    "\n",
    "또한 $x_{ij}$로 이루어진 $N \\times (p+1)$ 행렬 $\\mathbf{X}$를 생각할 수 있다.\n",
    "\n",
    "$$ \n",
    "\\mathbf{X} = \\begin{bmatrix} \n",
    "    x_{10} & x_{11} & \\cdots & x_{1p}\\\\\n",
    "    x_{20} & x_{21} & \\cdots & x_{2p}\\\\\n",
    "    \\vdots & \\vdots & \\ddots & \\vdots \\\\\n",
    "    x_{N0} & x_{N1} & \\cdots & x_{Np}  \n",
    "    \\end{bmatrix}\n",
    "$$\n",
    "\n",
    "$i$번째 관찰값들인 $x_i$는 총 $p+1$개의 값을 지니며, 편의상 $x_{i0} = 1 $로 한다.\n",
    "\n",
    "그 외의 사항은 앞 단원의 내용과 동일하다."
   ]
  },
  {
   "cell_type": "markdown",
   "metadata": {},
   "source": [
    "### 정규방정식\n",
    "\n",
    "위의 셋팅에서 선형회귀계수들의 추정량은 이론적으로 다음으로 같다는 것이 잘 알려져 있다.\n",
    "\n",
    "$$ \\hat{\\boldsymbol{\\theta}} = (\\mathbf{X}^{\\top}\\mathbf{X})^{-1} \\mathbf{X}^{\\top} \\mathbf{y} $$\n",
    "\n",
    "```numpy```를 이용하여 정규방정식을 간단히 테스트 해 보자."
   ]
  },
  {
   "cell_type": "code",
   "execution_count": 1,
   "metadata": {},
   "outputs": [],
   "source": [
    "# 가상의 데이터 생성\n",
    "import numpy as np\n",
    "\n",
    "X = 2 * np.random.rand(100, 1)\n",
    "Y = 4 + 3 * X + np.random.randn(100, 1)\n",
    "\n",
    "# 모든 샘플에 x0 = 1 추가\n",
    "Xb = np.c_[np.ones((100, 1)), X]"
   ]
  },
  {
   "cell_type": "code",
   "execution_count": 2,
   "metadata": {},
   "outputs": [
    {
     "data": {
      "text/html": [
       "<div>\n",
       "<style scoped>\n",
       "    .dataframe tbody tr th:only-of-type {\n",
       "        vertical-align: middle;\n",
       "    }\n",
       "\n",
       "    .dataframe tbody tr th {\n",
       "        vertical-align: top;\n",
       "    }\n",
       "\n",
       "    .dataframe thead th {\n",
       "        text-align: right;\n",
       "    }\n",
       "</style>\n",
       "<table border=\"1\" class=\"dataframe\">\n",
       "  <thead>\n",
       "    <tr style=\"text-align: right;\">\n",
       "      <th></th>\n",
       "      <th>0</th>\n",
       "      <th>1</th>\n",
       "    </tr>\n",
       "  </thead>\n",
       "  <tbody>\n",
       "    <tr>\n",
       "      <th>0</th>\n",
       "      <td>1.0</td>\n",
       "      <td>1.644521</td>\n",
       "    </tr>\n",
       "    <tr>\n",
       "      <th>1</th>\n",
       "      <td>1.0</td>\n",
       "      <td>0.079072</td>\n",
       "    </tr>\n",
       "    <tr>\n",
       "      <th>2</th>\n",
       "      <td>1.0</td>\n",
       "      <td>0.719545</td>\n",
       "    </tr>\n",
       "    <tr>\n",
       "      <th>3</th>\n",
       "      <td>1.0</td>\n",
       "      <td>1.531417</td>\n",
       "    </tr>\n",
       "    <tr>\n",
       "      <th>4</th>\n",
       "      <td>1.0</td>\n",
       "      <td>0.770385</td>\n",
       "    </tr>\n",
       "    <tr>\n",
       "      <th>...</th>\n",
       "      <td>...</td>\n",
       "      <td>...</td>\n",
       "    </tr>\n",
       "    <tr>\n",
       "      <th>95</th>\n",
       "      <td>1.0</td>\n",
       "      <td>0.836099</td>\n",
       "    </tr>\n",
       "    <tr>\n",
       "      <th>96</th>\n",
       "      <td>1.0</td>\n",
       "      <td>0.664443</td>\n",
       "    </tr>\n",
       "    <tr>\n",
       "      <th>97</th>\n",
       "      <td>1.0</td>\n",
       "      <td>1.607608</td>\n",
       "    </tr>\n",
       "    <tr>\n",
       "      <th>98</th>\n",
       "      <td>1.0</td>\n",
       "      <td>0.044751</td>\n",
       "    </tr>\n",
       "    <tr>\n",
       "      <th>99</th>\n",
       "      <td>1.0</td>\n",
       "      <td>1.856292</td>\n",
       "    </tr>\n",
       "  </tbody>\n",
       "</table>\n",
       "<p>100 rows × 2 columns</p>\n",
       "</div>"
      ],
      "text/plain": [
       "      0         1\n",
       "0   1.0  1.644521\n",
       "1   1.0  0.079072\n",
       "2   1.0  0.719545\n",
       "3   1.0  1.531417\n",
       "4   1.0  0.770385\n",
       "..  ...       ...\n",
       "95  1.0  0.836099\n",
       "96  1.0  0.664443\n",
       "97  1.0  1.607608\n",
       "98  1.0  0.044751\n",
       "99  1.0  1.856292\n",
       "\n",
       "[100 rows x 2 columns]"
      ]
     },
     "execution_count": 2,
     "metadata": {},
     "output_type": "execute_result"
    }
   ],
   "source": [
    "import pandas as pd\n",
    "pd.DataFrame(Xb)"
   ]
  },
  {
   "cell_type": "code",
   "execution_count": 3,
   "metadata": {},
   "outputs": [
    {
     "data": {
      "text/plain": [
       "array([[4.30613265],\n",
       "       [2.68435607]])"
      ]
     },
     "execution_count": 3,
     "metadata": {},
     "output_type": "execute_result"
    }
   ],
   "source": [
    "# dot() 메소드는 행렬곱을 위해 사용됨\n",
    "theta_best = np.linalg.inv(Xb.T.dot(Xb)).dot(Xb.T).dot(Y)\n",
    "theta_best"
   ]
  },
  {
   "cell_type": "markdown",
   "metadata": {},
   "source": [
    "```sklearn```을 이용하는 방법도 살펴보자."
   ]
  },
  {
   "cell_type": "code",
   "execution_count": null,
   "metadata": {},
   "outputs": [],
   "source": [
    "from sklearn.linear_model import LinearRegression\n",
    "lin_reg = LinearRegression()\n",
    "lin_reg"
   ]
  },
  {
   "cell_type": "code",
   "execution_count": null,
   "metadata": {},
   "outputs": [],
   "source": [
    "# fitting은 간단히 다음으로 이루어진다.\n",
    "lin_reg.fit(X, Y)\n",
    "lin_reg.intercept_, lin_reg.coef_"
   ]
  },
  {
   "cell_type": "markdown",
   "metadata": {},
   "source": [
    "위의 정규 방정식은 이론적으로 다음의 비용함수를 최소화하는 값이다.\n",
    "\n",
    "$$ \\mathrm{MSE}(\\boldsymbol{\\theta}) = \\frac{1}{N} \\sum_{i=1}^{N} (x_i \\cdot \\boldsymbol{\\theta} - y_i)^2 $$\n",
    "\n",
    "여기서 $\\cdot$은 벡터 내적이며, $x_i \\cdot \\boldsymbol{\\theta} = x_i^{\\top} \\boldsymbol{\\theta} $이다.\n",
    "\n",
    "위 식은 MSE (Mean Squared Error) 비용함수라고 불리우며, 실제값과 예측값 차이의 제곱을 손실함수 ($L_2$ 손실함수)로 하여 이들의 합을 최소화하는 $\\boldsymbol{\\theta}$를 찾는 것을 목적으로 한다.\n",
    "\n",
    "$\\boldsymbol{\\theta} = \\begin{bmatrix}\\theta_0  & \\theta_1 &  \\cdots &  \\theta_p \\end{bmatrix}^{\\top}$이기 때문에, $\\mathrm{MSE}(\\boldsymbol{\\theta})$는 실제로 $\\theta_0, \\theta_1,  \\cdots,  \\theta_p$의 함수임을 주목하자.\n",
    "\n",
    "또한, $\\mathrm{MSE}(\\boldsymbol{\\theta})$는 관찰값 $\\mathbf{X}$에 따라 달라진다.\n",
    "\n",
    "기계학습의 많은 방법들은 적절한 비용함수를 정의하고 이 비용함수를 최소화하는 $\\boldsymbol{\\theta}$를 추정량으로 삼는다.\n",
    "\n",
    "선형회귀 방법처럼 해석적인 솔루션을 제공하는 경우도 있지만 많은 경우 경사하강법과 같은 수치적 방법을 통해 근사값을 찾아낸다.\n",
    "\n",
    "연습삼아 선형회귀 모형에 적용해 보자."
   ]
  },
  {
   "cell_type": "markdown",
   "metadata": {},
   "source": [
    "### 경사하강법 (GD, Gradient Descent)\n",
    "\n",
    "경사하강법은 여러 기계학습의 방법론에서 최적의 해를 찾는 일반적인 방법이다.\n",
    "\n",
    "비용함수, 예를 들어 앞에서 제시한 $\\mathrm{MSE}(\\boldsymbol{\\theta})$는 주어진 관찰값 $\\mathbf{X}$이 있을 때, $\\theta_0, \\theta_1,  \\cdots,  \\theta_p$의 함수이다.\n",
    "\n",
    "비용함수의 형태에 따라 $\\mathrm{MSE}(\\boldsymbol{\\theta})$의 $\\theta_0, \\theta_1,  \\cdots,  \\theta_p$에 대한 기울기를 이론적으로 계산할 수도 있고, 함수의 형태가 복잡할 경우 수치적으로 계산할 수도 있다.\n",
    "\n",
    "경사하강법은 계산된 기울기를 바탕으로 기울기가 감소하는 방향을 따라 비용함수를 최소화하는 극소 지점을 향해 조금씩 이동하는 방법이다.\n",
    "\n",
    "입력변수가 여러 개일 경우, 각각의 변수들에 대해 기울기들을 계산할 수 있는데 이 기울기들을 모아놓은 벡터를 그레디언트 벡터라고 한다.\n",
    "\n",
    "그레디언트 벡터는 $\\nabla$ 혹은 $\\nabla_{\\boldsymbol{\\theta}}$로 표현한다.\n",
    "\n",
    "따라서 $\\mathrm{MSE}(\\boldsymbol{\\theta})$의 그레디언트 벡터는\n",
    "\n",
    "$$\n",
    "\\nabla_{\\boldsymbol{\\theta}} \\mathrm{MSE} (\\boldsymbol{\\theta}) = \\begin{bmatrix} \\frac{\\partial}{\\partial \\theta_0} \\mathrm{MSE}(\\boldsymbol{\\theta}) \\\\ \\frac{\\partial}{\\partial \\theta_1} \\mathrm{MSE}(\\boldsymbol{\\theta}) \\\\ \\vdots \\\\ \\frac{\\partial}{\\partial \\theta_p} \\mathrm{MSE}(\\boldsymbol{\\theta}) \\end{bmatrix} \n",
    "$$\n",
    "\n",
    "와 같이 표현할 수 있다.\n",
    "\n",
    "여기서 $$ \\frac{\\partial}{\\partial \\theta_j} \\mathrm{MSE}(\\boldsymbol{\\theta})$$는 편미분이며 다른 변수들을 고정한 후, $\\mathrm{MSE}(\\boldsymbol{\\theta})$를  $\\theta_j$로 미분하였음을 의미한다."
   ]
  },
  {
   "cell_type": "markdown",
   "metadata": {},
   "source": [
    "### 선형회귀모형의 graident vector\n",
    "\n",
    "\n",
    "위에서 언급함 비용함수\n",
    "$$ \\mathrm{MSE}(\\boldsymbol{\\theta}) = \\frac{1}{N} \\sum_{i=1}^{N} (x_i \\cdot \\boldsymbol{\\theta} - y_i)^2 $$\n",
    "를 고려하자.\n",
    "\n",
    "$$ x_i \\cdot \\theta = \\theta_0 + x_{i1} \\theta_1 + \\cdots +  x_{ip} \\theta_p,$$\n",
    "이므로, \n",
    "$$ \\frac{\\partial }{\\partial \\theta_j} (x_i \\cdot \\boldsymbol{\\theta} - y_i)^2 = 2 (x_i \\cdot \\boldsymbol{\\theta} - y_i) x_{ij}$$\n",
    "를 얻는다.\n",
    "\n",
    "위의 관계를 이용하면,\n",
    "\\begin{align*}\n",
    "\\frac{\\partial }{\\partial \\theta_j} \\mathrm{MSE}(\\boldsymbol{\\theta}) &= \\frac{2}{N} \\sum_{i=1}^{N} (x_i \\cdot \\boldsymbol{\\theta} - y_i) x_{ij} \\\\\n",
    "& = \\frac{2}{N} \\begin{bmatrix} x_{1j} \\cdots  x_{Nj} \\end{bmatrix} \n",
    "\\left( \\begin{bmatrix} x_1 \\cdot \\boldsymbol{\\theta} - y_1 \\\\ \\vdots \\\\ x_N \\cdot \\boldsymbol{\\theta} - y_N \\end{bmatrix}  \\right)\\\\\n",
    "& = \\frac{2}{N} \\begin{bmatrix} x_{1j} \\cdots  x_{Nj} \\end{bmatrix} \n",
    "\\left( \\begin{bmatrix} x_1 \\cdot \\boldsymbol{\\theta}  \\\\ \\vdots \\\\ x_N \\cdot \\boldsymbol{\\theta}  \\end{bmatrix} - \\begin{bmatrix} y_{1} \\\\ \\vdots \\\\ y_N\\end{bmatrix}  \\right)\\\\\n",
    "& = \\frac{2}{N} \\begin{bmatrix} x_{1j} \\cdots  x_{Nj} \\end{bmatrix} \n",
    "\\left( \\begin{bmatrix} x_{10} & \\cdots & x_{1p}  \\\\ \\vdots &  & \\vdots \\\\ x_{N0} & \\cdots & x_{Np}   \\end{bmatrix}  \\boldsymbol{\\theta} - \\begin{bmatrix} y_{1} \\\\ \\vdots \\\\ y_N\\end{bmatrix}  \\right)\\\\\n",
    "& = \\frac{2}{N} \\mathbf x_j^{\\top} (\\mathbf X \\boldsymbol{\\theta} - \\mathbf y).\n",
    "\\end{align*}\n",
    "이다.\n",
    "\n",
    "따라서 gradient vector는 다음으로 나타난다.\n",
    "\\begin{equation*}\n",
    "\\nabla_{\\boldsymbol{\\theta}} \\mathrm{MSE} (\\boldsymbol{\\theta}) = \\begin{bmatrix} \\frac{\\partial}{\\partial \\theta_0} \\mathrm{MSE}(\\boldsymbol{\\theta}) \\\\ \\frac{\\partial}{\\partial \\theta_1} \\mathrm{MSE}(\\boldsymbol{\\theta}) \\\\ \\vdots \\\\ \\frac{\\partial}{\\partial \\theta_p} \\mathrm{MSE}(\\boldsymbol{\\theta}) \\end{bmatrix} \n",
    "= \\frac{2}{N} \\begin{bmatrix} \\mathbf x_0^{\\top} (\\mathbf X \\boldsymbol{\\theta}- \\mathbf y) \\\\ \\mathbf x_1^{\\top} (\\mathbf X \\boldsymbol{\\theta} - \\mathbf y) \\\\ \\vdots \\\\  \\mathbf x_p^{\\top} (\\mathbf X \\boldsymbol{\\theta} - \\mathbf y) \\end{bmatrix} = \\frac{2}{N} \\mathbf X^{\\top} (\\mathbf X \\boldsymbol{\\theta} - \\mathbf y).\n",
    "\\end{equation*}"
   ]
  },
  {
   "cell_type": "markdown",
   "metadata": {},
   "source": [
    "### 경사 하강법\n",
    "\n",
    "적절한 학습률 $\\eta$에 대해 내려가는 스텝의 크기는 $\\eta \\nabla_{\\boldsymbol{\\theta}} \\mathrm{MSE} (\\boldsymbol{\\theta})$로 정한다. \n",
    "\n",
    "따라서 현재의 $\\boldsymbol{\\theta}$에서 다음 스텝에서의 $\\boldsymbol{\\theta}^{\\text{(next step)}}$는 다음과 같다.\n",
    "\n",
    "$$ \\boldsymbol{\\theta}^{\\text{(next step)}} = \\boldsymbol{\\theta} - \\eta \\nabla_{\\boldsymbol{\\theta}} \\mathrm{MSE} (\\boldsymbol{\\theta}) $$\n",
    "\n",
    "그레디언트 벡터는 올라가는 방향이기 때문에 비용함수의 극소점을 향해 내려가기 위해서는 $-$를 취한 것을 볼 수 있다.\n",
    "\n",
    "학습률 $\\eta$가 크면 더 빠르게 극소점을 향해 갈 것이고, $\\eta$가 작으면 천천히 향해 갈 것이다.\n",
    "\n",
    "그러나 학습률이 너무 크면, 극소점을 건너 뛰어 제대로 수렴하지 못할 수도 있다.\n",
    "\n",
    "많은 경우 비용함수의 정확한 형태를 모르기 때문에 적절한 $\\eta$를 설정하는 것은 반복적인 trial and error를 통해 결정할 수 밖에 없다.\n",
    "\n",
    "경사 하강법은 다시 몇 가지로 분류된다."
   ]
  },
  {
   "cell_type": "markdown",
   "metadata": {},
   "source": [
    "### 배치 경사 하강법\n",
    "\n",
    "경사 하강법을 구현하려면 앞서 살펴 보았던 gradient vector를 매 스텝마다 계산하여야 한다.\n",
    "\n",
    "만약 gradient vector를 계산할 때 모든 훈련 데이터를 이용한다면 이를 배치 경사 하강법 (batch gradient descent)이라고 한다.\n",
    "\n",
    "만약 훈련 세트가 매우 크다면 gradient vector를 계산하는데 시간이 오래 걸릴 것이다.\n",
    "\n",
    "위의 선형회귀 모형에 경사하강법 알고리즘을 적용해 보자."
   ]
  },
  {
   "cell_type": "code",
   "execution_count": null,
   "metadata": {},
   "outputs": [],
   "source": [
    "import numpy as np\n",
    "np.random.randn(2, 1)"
   ]
  },
  {
   "cell_type": "code",
   "execution_count": null,
   "metadata": {},
   "outputs": [],
   "source": [
    "eta = 0.1\n",
    "n_iteration = 1000\n",
    "N = len(Y)\n",
    "\n",
    "theta = np.random.randn(2, 1)  #무작위 초기화\n",
    "\n",
    "for _ in range(n_iteration):\n",
    "    grad = 2 / N * Xb.T.dot(Xb.dot(theta) - Y)\n",
    "    theta = theta - eta * grad\n",
    "    \n",
    "theta"
   ]
  },
  {
   "cell_type": "markdown",
   "metadata": {},
   "source": [
    "### 확률적 경사 하강법\n",
    "\n",
    "확률적 경사 하강법 (stochastic gradient decent)에서는 매 스텝에서 한 개의 샘플을 무작위로 선택하고 그 하나의 샘플에 대한 그레디언트를 계산한다.\n",
    "\n",
    "매 스텝에서의 그레디언트 계산이 빠르다.\n",
    "\n",
    "매 반복에서 하나의 샘플만 취하면 되므로, 매우 큰 훈련 데이터도 학습 가능하다.\n",
    "\n",
    "샘플은 무작위로 선택되므로 배치 경사 하강법보다 불안정하다.\n",
    "\n",
    "비용함수가 최소값에 이를 때까지 요동치며 접근하며, 최소값에 완전히 안착하지 못한다.\n",
    "\n",
    "반면 비용함수의 형태가 불규칙할 경우 지역 극소값을 건너뛸수도 있다는 장점이 있다.\n",
    "\n",
    "최소값에 도달하게 하기 위해서 학습률을 점진적으로 감소시키는 기법이 있다.\n",
    "\n",
    "매 반복에서 학습률을 결정하는 함수를 학습 스케쥴이라고 한다.\n",
    "\n",
    "아래 코드에서는 이를 간단히 구현하였다."
   ]
  },
  {
   "cell_type": "code",
   "execution_count": null,
   "metadata": {},
   "outputs": [],
   "source": [
    "n_epochs = 50\n",
    "t0, t1 = 5, 50\n",
    "\n",
    "def learning_schedule(t):\n",
    "    return t0 / (t + t1)\n",
    "\n",
    "theta = np.random.randn(2, 1)\n",
    "\n",
    "for epoch in range(n_epochs):\n",
    "    \n",
    "    random_idxes = np.random.choice(range(N), size=N, replace=False)\n",
    "\n",
    "    for i, rd_id in enumerate(random_idxes):\n",
    "        xi, yi = Xb[rd_id:rd_id+1], Y[rd_id]\n",
    "        grad = 2 * xi.T.dot(xi.dot(theta) - yi)\n",
    "        eta = learning_schedule(epoch * N + i)\n",
    "        theta = theta - eta * grad\n",
    "        \n",
    "theta"
   ]
  },
  {
   "cell_type": "markdown",
   "metadata": {},
   "source": [
    "```sklearn```으로 간단히 구현할 수 있다."
   ]
  },
  {
   "cell_type": "code",
   "execution_count": null,
   "metadata": {},
   "outputs": [],
   "source": [
    "from sklearn.linear_model import SGDRegressor\n",
    "sgd_reg = SGDRegressor(max_iter = 1000, tol = 1e-3, penalty = None, eta0 = 0.1)\n",
    "sgd_reg.fit(X, Y.ravel())\n",
    "sgd_reg.intercept_, sgd_reg.coef_"
   ]
  },
  {
   "cell_type": "markdown",
   "metadata": {},
   "source": [
    "### 미니배치 경사 하강법\n",
    "\n",
    "각 스텝에서 하나의 샘플이 아니라 미니배치라 불리우는 임의의 작은 샘플에 대해 그레디언트를 계산하는 방법.\n",
    "\n",
    "미니배치를 적절히 하면 이 알고리즘은 파라미터 공간에서 SGD 보다 덜 불규칙하게 움직인다."
   ]
  },
  {
   "cell_type": "code",
   "execution_count": null,
   "metadata": {},
   "outputs": [],
   "source": [
    "n_epochs = 1000\n",
    "t0, t1 = 5, 50\n",
    "\n",
    "def learning_schedule(t):\n",
    "    return t0 / (t + t1)\n",
    "\n",
    "theta = np.random.randn(2, 1)\n",
    "\n",
    "batch_size = 5\n",
    "num_batch = N // batch_size\n",
    "\n",
    "for epoch in range(n_epochs):\n",
    "    \n",
    "    random_indexes = np.random.choice(range(num_batch), size=num_batch, replace=False)\n",
    "        \n",
    "    for i, rd_id in enumerate(random_indexes):\n",
    "        xi, yi = Xb[rd_id*batch_size:(rd_id + 1)*batch_size], Y[rd_id*batch_size:(rd_id + 1)*batch_size]\n",
    "        grad = 2 * xi.T.dot(xi.dot(theta) - yi)\n",
    "        eta = learning_schedule(epoch * N + i)\n",
    "        theta = theta - eta * grad\n",
    "            \n",
    "theta"
   ]
  },
  {
   "cell_type": "markdown",
   "metadata": {},
   "source": [
    "<img src=\"data:image/png;base64,iVBORw0KGgoAAAANSUhEUgAAAfAAAAEYCAYAAACju6QJAAAAOXRFWHRTb2Z0d2FyZQBNYXRwbG90bGliIHZlcnNpb24zLjMuMywgaHR0cHM6Ly9tYXRwbG90bGliLm9yZy/Il7ecAAAACXBIWXMAAAsTAAALEwEAmpwYAAByM0lEQVR4nO2dd3gUVduH7xMIIaETIPReLIAoiApSBEQEG/qK0lERlCKWV31VlKCI/bOAgChSDIINUBTpggIiRYoiRanSQ4cQUp/vj7NJdpPdZBM22U147uuaK7szZ2aeyezub845TzEigqIoiqIo+YsgfxugKIqiKEr2UQFXFEVRlHyICriiKIqi5ENUwBVFURQlH6ICriiKoij5kML+NiC3KVeunNSsWdPfZiiKoiiXOOvXrz8mIuV9dbwCL+A1a9Zk3bp1/jZDURRFucQxxuz15fF0CF1RFEVR8iEq4IqiKIqSD1EBVxRFUZR8iAq4oiiKouRDVMAVRVEUJR+iAq4oiqIo+ZACH0bmDadPn+bYsWPEx8f72xQlgClSpAjlypWjVKlS/jZFURRFBfzChQscOXKEqlWrEhoaijHG3yYpAYiIEBsby/79+wkJCaFo0aL+NklRlEucS34IPTo6mvLlyxMWFqbirXjEGENYWBjlypUjOjra3+YoiqL4V8CNMVHGmEPGmDPGmB3GmP4e2hljzChjzAFjzGljzDJjzJW+sOHChQsUL17cF4dSLgFKlCjBhQsX/G2GoiiK33vgrwE1RaQkcAcwyhjT1E27e4EHgVZAWeBX4DNfGJCYmEjhwpf8TILiJYULFyYxMdHfZiiKovhXwEVki4jEpbx1LHXcNK0FrBCRXSKSBEQBV/jKDh06V7xFPyuKogQK/u6BY4wZZ4w5D2wDDgHz3DSbCdQxxtQ3xgQDfYH5mRxzgDFmnTFmnc5XKoqiKAURvwu4iAwCSmCHx2cBcW6aHQJWANuBWOyQ+hOZHHOiiDQTkWbly/uscpuiKIqiBAx+F3AAEUkSkRVAVeBRN01eAq4FqgFFgZHAUmNMWN5ZmX+YM2cOrVu3pkKFCoSGhlKjRg3uuusu5s9PG7RYtmwZkZGRJCcn55od/fr1o2rVqrl2/PRs3LiRyMhITpw4kWGbMYbIyMg8s0VRFCW3CQgBd6Iw7ufAmwBfiMh+EUkUkSlAGXw4D15Q+OCDD+jatSv16tVj0qRJ/PDDDwwfPhyApUuXprZbtmwZI0eOzFUBz2s2btzIyJEj3Qr4r7/+Sv/+boMcFEVR8iV+c782xlQA2gHfY4fFOwDdHUt61gL3GmNmAtFATyAY+CdvrPWSihXhyJGM6yMi4PDhPDHh7bff5q677mLSpEmp69q1a8fDDz9coMQ6u1x//fX+NkFRFMWn+LMHLtjh8v3ASeBt4HER+c4YU90Yc84YU93R9g1gE7AROIWd/75HRE7ltdGZ4k68M1ufC5w4cYKKFSu63RYUZG93ZGQkI0eOBCA4OBhjjIt39aFDh+jTpw/lypUjJCSExo0bExUVleF4u3fvpnfv3lSsWJGQkBBq167NsGHDMrTbsGEDrVq1IiwsjHr16jFhwgSX7dHR0QwcOJD69esTFhZGtWrV6NGjBwcOHHBpt2PHDrp27UqFChUoWrQo1atX59577yUxMZEpU6bwwAMPAFCvXr3Ua9qzZw/gfgh906ZNdO3alfDwcEJDQ2nQoAGvvfZaJv9dRVGUwMFvPXARiQbaeNi2Dyju9P4CMNixKJnQvHlzpk6dSu3atbnzzjupX79+hjb9+/dn//79TJo0iRUrVlCoUKHUbTExMbRp04aTJ08yevRoqlWrRlRUFL179+b8+fMMGDAAsOLdvHlzwsLCePnll6lXrx779u1j4cKFLuc6c+YMPXr04PHHH+ell15i8uTJPProozRo0ICbbroJsA8dRYsW5bXXXqN8+fIcPHiQd955h5YtW7Jt27bUtKVdunShTJkyjB8/nnLlynHgwAHmzZtHcnIyXbp0Yfjw4YwaNYqvvvoqde69UqVKbv9Pa9asoW3bttStW5d3332XqlWr8vfff7N58+aLvwmKoih5gYgU6KVp06aSGX/99Zf7DeD/JQds375dGjVqlBJTL+Hh4XL//ffLggULXNqNGDFCAElISHBZP2bMGAHkp59+clnfvn17KV++vCQmJoqISO/evaVYsWJy4MABj7b07dtXAFm6dGnqugsXLkjZsmXl4Ycf9rhfYmKi7Nu3TwCZNWuWiIhER0cLIN9++63H/SZPniyA/P333xm2ATJixIjU961atZKqVatKTEyMx+N5wuNnRlEUJROAdeJDfQs0J7bAISeSm5fH80D9+vXZsGEDy5cv54UXXqBJkybMnj2bW265hVGjRmW5/88//0yVKlVo27aty/pevXoRHR3NX3/9BcDChQu57bbbqFy5cqbHCwsLS+1pA4SEhFC/fn327dvn0m78+PFcddVVFC9enMKFC1O9up092b59OwDh4eHUrl2b//3vf3z88cf8/fffWV6LJ86fP8/KlSvp2bMnYWEayKAoSv5EBbwAUqhQIVq3bs2oUaNYvHgxu3btolGjRowcOZKTJ09muu+JEyfcDjunzKuneHgfP37cqxCxMmXKZFgXEhLikk98zJgxDBo0iA4dOjBr1izWrFnD6tWrAVLbGWNYtGgRzZo147nnnqN+/frUrl2b8ePHZ2lDek6ePElycnKehrgpiqL4GhVwXxIRkb31eUTlypXp378/iYmJWfZcy5Yty2E3HvMp68qWLQuQOgftC2bOnEn79u1555136NixI9deey0VKlTI0K527dpMmzaN6OhoNmzYQLt27Rg0aBA//vhjts5XpkwZgoKCfGa/oiiKP1AB9yWHD7sfCs+jEDKwHuTu2LZtG5DWkw4JCQEgNjbWpV2bNm3Yv38/K1eudFn/+eefU6FCBa64wobed+zYke+//97j+bLD+fPnCQ4Odlk3efJkj+2NMTRp0oT/+7//A+DPP/8EPF9TesLCwrjxxhuJiorKsq2iKEqgomW4ChgNGzakQ4cOdO7cmVq1anHmzBnmzZvHhAkT6NatW+rccooQv/POO9x6660UKlSIZs2a0a9fP95//33uvvtuXn31VapWrcr06dNZtGgRH330UarH+siRI5k3bx4tWrTg+eefp27duhw4cID58+e7DTnLjE6dOvHGG28wevRomjdvztKlS/n6669d2mzevJlhw4Zx3333UbduXZKSkpgyZQqFCxemXbt2Ltf04Ycf0rdvX4KDg2ncuDFFihTJcM63336bNm3acMMNN/DUU09RtWpVdu3axcaNGxkzZkz2/umKoij+wJcecYG45NgLPZ8yfvx4uf3226V69eoSEhIiYWFh0qRJE3njjTckLi4utV1iYqIMGjRIypcvL8YYwcnr/eDBg9KrVy8JDw+XIkWKSKNGjeSzzz7LcK5//vlH7r//fgkPD5eQkBCpXbu2PPHEE6nb+/btK1WqVMmwX5s2baRNmzap78+fPy+PPPKIlCtXTooXLy5dunSRXbt2uXiOHzlyRPr06SP16tWT0NBQKVOmjLRu3Vrmz5/vcuzIyEipXLmyBAUFCSC7d+8WkYxe6CIiv//+u9x2221SqlQpKVq0qDRo0EBef/31LP/HBe0zoyhK3oCPvdCN5NDbOb/QrFkzWbduncftW7du5fLLL89Di5T8jn5mFEXJCcaY9SLSzFfH0zlwRVEURcmHqIAriqIoSj5EBVxRFEVR8iEq4IqiKIqSD1EBVxRFUZR8iAq4oiiKouRDVMAVRVEUJR+iAq4oiqIo+RAVcEVRFEXJh/hVwI0xUcaYQ8aYM8aYHcaY/pm0rW2M+d4Yc9YYc8wY82Ze2qooiqIogYS/e+CvATVFpCRwBzDKGNM0fSNjTBFgEbAUqAhUBbJXMeMSYcqUKRhjMMawY8eODNuXL1+eun3x4sUA9OvXj5o1a+bofDVr1qRfv35ZtuvXr59P62/PmTMntRpZdomMjMQYQ2Jios/sURRFyWv8KuAiskVE4lLeOpY6bpr2Aw6KyP+JSIyIXBCRzXllZ36kRIkSfPbZZxnWT506lRIlSrise/HFF5k9e3aOzjN79mxefPHFHO17MVyMgCuKohQE/N0DxxgzzhhzHtgGHALmuWl2PbDHGPOjY/h8mTGmUZ4amk0il0X69fx33303UVFROBeriY2N5euvv+aee+5xaVunTh2uvvrqHJ3n6quvpk4dd89ciqIoSm7idwEXkUFACaAVMAuIc9OsKnA/8AFQGfgB+NYxtJ4BY8wAY8w6Y8y66Ojo3DE8C0YuH+mX86bQu3dv9u7dy4oVK1LXzZ49m+Tk5AwCnn4Ifc+ePRhj+Oijj3jppZeoVKkSpUuX5vbbb2f//v0u+3o7hJ7CqlWruPbaaylatCg1a9bMUHs7OjqagQMHUr9+fcLCwqhWrRo9evTgwIEDLvZOnTqVAwcOpE4HONsfHR3NoEGDqFatGiEhIVSrVo3evXsTF+f60dq9ezddunShePHi1KhRg5dffpnk5GSvr0VRFMWfFPa3AQAikgSsMMb0Ah7FCrUzscAKEfkRwBjzNjAcuBzY5OZ4E4GJYMuJZtceM9Jkd5dcOY6MyHmp1xo1atC6dWs+++wzWrVqBcC0adPo2rUrxYsX9+oYr732Gi1atODTTz/l6NGjPPXUU/Tq1Ytly5blyKYzZ85w33338eyzz1K3bl1mzpzJY489RokSJVIfAk6cOEHRokV57bXXKF++PAcPHuSdd96hZcuWbNu2jaJFi/Liiy8SHR3N2rVr+e677wAICQkB4OTJk7Ro0YITJ04wfPhwGjduzNGjR/n222+Jj49PbQfQtWtXHnjgAZ544gnmzp3LiBEjqFatGg888ECOrk9RFCUvCQgBd6Iw7ufANwMt89iWfE+fPn146qmn+OCDDzh58iSLFy/mxx9/9Hr/mjVr8vnnn6e+j46O5umnn+bgwYNUrlw52/acPXuWiRMncv/99wPQqVMnDhw4wIgRI+jbty/GGBo0aMD777+fuk9SUhItW7akevXq/Pjjj3Tt2pU6depQvnx5ihQpwvXXX+9yjnfffZddu3axbt06l2mB7t27Z7DnqaeeShXrDh06sHTpUmbMmKECrihKvsBvAm6MqQC0A77H9rA7AN0dS3qigKeMMR2An4DHgGPA1tyw7WJ6vimYkcYnx7kY7r33XoYMGcLcuXPZu3cvFStWpH379vz8889e7d+5c2eX940aWbeDffv2eRTw9J7dhQunfcQKFSqUYfj+/vvvp3///hw4cCDVS338+PFMmDCBnTt3EhMTk9p2+/btWdq8cOFCrr32Wq/m9Lt06eLyvmHDhmzYsCHL/RRFUQIBf86BC3a4fD9wEngbeFxEvjPGVDfGnDPGVAcQke1AL2CCo+2dwB0iEu8f0/MHJUqU4K677uKzzz5j2rRp9OzZk6Ag72952bJlXd6nDD9fuHDBbfs9e/YQHBzssuzZsyd1e5kyZQgODnbZJyIiAiB1jnvMmDEMGjSIDh06MGvWLNasWcPq1aszPa8zx48f9zpczd31eXMORVGUQMBvPXARiQbaeNi2Dyiebt0srJNbvmBEmxH+NgGww+hdunQhOTmZGTNm5Oq5KleuzNq1azOsS+HkyZMkJCS4iPiRI0cAqFKlCgAzZ86kffv2vPPOO6ltdu/e7bUN5cqVc3F4UxRFKagE2hx4gSGybaS/TQDg5ptvplu3bpQuXZorr7wyV89VpEgRmjVr5nF7UlIS33zzTeocOFjBrl69eqqAnz9/npIlS7rsN3ny5AzHCgkJITY2NsP6jh07MmrUKDZt2sRVV12V00tRFEUJeFTACziFChXK9Z63t5QoUYJnnnmGY8eOUa9ePWbMmMHixYtTs8eBdWx74403GD16NM2bN2fp0qV8/fXXGY51xRVXcOLECcaPH0+zZs0oWrQojRo14oknnuDzzz+nQ4cODB8+nEaNGnHs2DG+/fZbJkyYkCGJjaIoSn5FBVzJM0qWLMnMmTMZNmwYf/zxBxEREbz//vv07ds3tc1LL73EqVOnePfdd7lw4QJt2rRhwYIF1K5d2+VY/fv3Z/Xq1Tz//POcOnWKGjVqsGfPHkqXLs3KlSsZPnw4r7/+OsePHyciIoJ27dpRpIjbtAGKoij5EuOcqasg0qxZM1m3bp3H7Vu3buXyyy/PQ4uU/I5+ZhRFyQnGmPUi4nmeMZv4PROboiiKoijZRwVcURRFUfIhKuCKoiiKkg9RAVcURVGUfIgKuKIoiqLkQ1TAFUVRFCUfogKuKIqiKPkQFXBFURRFyYeogCuKoihKPkQFXFEURVHyISrgBYyUwiApS6FChahSpQrdunVj+/btOTrep59+miNb+vXr53VtbkVRFCV7aDGTAspXX31F1apVSUpKYufOnbzyyiu0b9+eLVu2UKpUKa+PM2XKFBITE3nwwQdz0VpFURQlu2gP3MdMnw41a0JQkP07fbp/7GjSpAnXX389LVu2pE+fPowfP54DBw6watUq/xikKIqi+BQVcB8yfToMGAB794KI/TtggP9E3JmSJUsCkJCQAMA///xD7969qVWrFqGhodSuXZtHH32UkydPpu7Ttm1bli9fzsqVK1OH5Nu2bZu6fffu3fTu3ZuKFSsSEhJC7dq1GTZsWIZzb9iwgVatWhEWFka9evWYMGFC7l6soijKJYDfh9CNMVFAe6AYcBh4U0Q+yWKfJUA7IFhEEn1vk++Odf489Opll5yQ02qvSUlJJCYmkpSUxK5du3j++eepUKFCqgAfPHiQatWq8d5771GmTBl27drF6NGj6dy5M7/++isA48aNo1evXiQlJfHRRx8BaQ8Cu3fvpnnz5oSFhfHyyy9Tr1499u3bx8KFC13sOHPmDD169ODxxx/npZdeYvLkyTz66KM0aNCAm266KWcXpyiKovhfwIHXgIdEJM4YcxmwzBizQUTWu2tsjOkJBOephfmQyy67zOV95cqV+f7771MFuHXr1rRu3Tp1e4sWLahbty6tWrViw4YNXH311VxxxRWULFmSxMRErr/+epfjjRgxgtjYWDZt2kTlypVT1/ft29el3dmzZxk3blyqWLdu3ZoFCxYwY8YMFXBFUZSLwO9D6CKyRUTiUt46ljru2hpjSgEjgGfyyLx8y+zZs1m7di1r1qxhzpw5XHHFFXTu3JmtW7cCEB8fz+jRo7nssssIDQ0lODiYVq1aAXjlrb5w4UJuu+02F/F2R1hYmItQh4SEUL9+ffbt23cRV6coiqL4XcABjDHjjDHngW3AIWCeh6ajgfHYofbMjjfAGLPOGLMuOjo62/aI5GyJioKwMNdjhYXZ9Tk9Zk5p2LAhzZo149prr+XOO+/ku+++Q0SIjIwE4LnnniMyMpJevXrxww8/sGbNGmbNmgXAhQsXsjz+8ePHvQoRK1OmTIZ1ISEhXp1DURRF8UwgDKEjIoOMMUOBG4C2QFz6NsaYZkBLYBiQqXKIyERgIkCzZs0uQgazR8+e9u8LL8C+fVC9Orz6atp6f5LiqLZ582YAZs6cSZ8+fRg+fHhqm3Pnznl9vHLlynHgwAGf26koiqJ4R0D0wAFEJElEVmDF+VHnbcaYIGAcMCw3nNZ8Sc+esGcPJCfbv4Eg3gDnz59n586dlC9fPvV9cLCrK8HkyZMz7BcSEkJsbGyG9R07duT777/n0KFDuWOwoiiKkikB0QNPR2EyzoGXBJoBXxjrIl7IsX6/MeZeEfklD+3LF2zcuJFjx44hIhw6dIixY8dy4sQJhg4dCkCnTp2YOnUqjRo1om7dusyaNcttjPgVV1zBuHHj+OKLL6hTpw4lSpSgQYMGjBw5knnz5tGiRQuef/556taty4EDB5g/fz5RUVF5fbmKoiiXHH4VcGNMBWw42PdALNAB6O5YnDkNOHtLVQPWAE2B7E9yXwLce++9qa/Lly9Pw4YNmT9/PrfccgsAY8aMQUR44YUXAOjcuTMzZsygefPmLsd59tln2b59O/379+fcuXO0adOGZcuWUbNmTVavXs3w4cN57rnnOHfuHFWqVOHOO+/Mu4tUFEW5hDFyMZ5SF3tyY8oDXwNXYYfz9wIfiMjHxpjqwF/AFSKyL91+NYHdeBEH3qxZM1m3bp3H7Vu3buXyyy+/qOtQLi30M6MoSk4wxqwXkWa+Op5fe+AiEg208bBtH1Dcw7Y9gA/TrSiKoihK/iJgnNgURVEURfEeFXBFUXKVyGWR/jZBUQokKuCKouQaJ2JPMHL5SH+boSj+oWJFW1zDsTS1jtc+QwUc8Kcjn5K/0M+Kd2w4tIGHvn2IKv9XBYCdJ3b62SJF8QNHjuTq4QMxDjxPCQ4OJjY2lrD0OVAVxQ2xsbEZEuAoloSkBL7Z+g1j14xl5b8rXbbVHVMXgBFtRhDZNtIP1ilKHhOXIaGoz7nkBbxChQocOHCAKlWqEBoaivFlLVGlwCAixMbGcuDAASIiIvxtTkBx+NxhPlr3ER+t/4hD51wz87Ws1pKV/65ERujIhVIAEYFDh2D7drvs2JH2evfuXD/9JS/gKeU1Dx48SEJCgp+tUQKZ4OBgIiIiUj8zlzIiwur9qxmzZgxf//U1Ccn2u2MwCFasO9frzFf3fkWx0cX8aaqiXDznzllxdhboFMEODYUGDexSvz5Uq2bnvKOj4cyZXDXrkhdwsCKuP8qKkjWxCbF8seULxqwZw++HfgcgyATR9bKuVClRhY/Wf0RCcgI9G/Vk8p2TCS4UzIg2I/xstXLJUrGi+3noiAg4nK6oZVIS7N3rvjd9/DjUrZsm1J06wbBhVrDLlLE98UWLYMwY+PVXeOAB+7p27Vy9PL9mYssLssrEpihK1uw9tZfx68bzye+fcDz2OADlwsrx8DUP80izR1i4cyEDvx9IsiQztPlQ3uv0HkFGfWQVP5PZlOjkya696V27oHx51950yuvq1SHIzef57FmYOhXGjoWQEBg6FHr0SKsrne4BohmwTsRn87TaA1cUxS0iwk97fmLMmjF8t/07kiUZgKaVmjK0+VDua3gfRQsX5Y0Vb/C/Jf8DYGTbkbzY+kX1JVFyn6x611l1ThcvtuJ8//1WrOvVg2JeTvds3w4ffghRUdC+PUycCK1aZXxgSNfLX2/Meu9O4B0q4IqiuHAu/hyfbfqMsWvH8lf0XwAEBwVzf8P7Gdp8KNdVuQ5jDCLCM4ue4a1Vb2EwjLl1DIObD/az9f4hclmketfnBpmJtKcQrSNH4J57YMWKzI+d3aqJyckwb54dGt+4Efr3h02b7Jy3n9AhdEVRAPj7+N98uPZDJm+czJk463xTqXglHmn2CAOaDqBi8YqpbROTExk4dyCfbvyUwkGFmXbXNLo3Sl9E8NLBjDTqaZ8b5HQkJyoKbrwRatb03MZb7Tt1Cj791Pa4y5a1w+TdukHRotk2q0AVM1EUxb8kSzLz/5nPmDVjmP/P/NT1N1a/kSHXDuHuy+8muJBr3PuFxAt0/6Y7c7bNIbRwKLPum0Wnup3y2nS/cjbuLD/v/ZnFuxbzy75f/G2Okp6ePS/+GH/+aee2v/gCOneG6dPhuuty/lCRC6iAK8olyMnYk0zeOJlxa8ex86TNkla0cFF6NurJkOZDaFKxidv9zsSd4a6Zd/HTnp8oXbQ0P/T4gRbVWuSh5f4hISmBNQfWsHjXYhbvXszq/atJTHatZGxG2h92TVbjA44etV7eF4unofagIPdCHBEB48fbYfJt2+CRR2DrVjuUH4BkW8CNMWHAf4EeQE0gGvgMGCEiGkitKAHMH0f+YOyasUT9EcX5hPMA1Cxdk0HNBvHQNQ9RNrSsx32jY6K5dfqtrD+0nkrFK7Gg1wIaRTTKK9PzFBFhS/QWluxawuLdi1m2Zxnn4s+5bdv1sq7M3jZbh9AvlnPnYNo0GOxDP4r0oWIpeOpFHzkCb79th8nvvhuKFPGdLblAtgTcGFMJWAzUA2YD3wK3Ac8B4cBAXxuoKMrFkZicyLfbvmXMmjEs37s8df3NtW9mSPMhdKnXhUJBhTI9xr7T+7j5s5vZcXwHdcrUYWHvhdQuk7sxrnnNv6f/ZcnuJSzetZglu5dw+Jzrj/9l5S6jfnh95v09j8TkRAoHFeatm99i2HXDCHpZQ+ZyREICLFwITz1lPbtTqFPHCnpmucQ99a4vNlPiypVZtwkQvBZwY0wRYC5QA7hJRFY61r8CbAH6G2NGiIiHRx5FUfKSozFH+eT3Txi/bjz7z+wHoHiR4vS7qh+Dmw/msnKXeXWcrdFb6RjVkf1n9tM4ojELei1wcWjLr5y6cIple5bZYfFdi9l+fLvL9krFK9Ghdgc61O5A+1rt2Xh4I33m9CExOZFqJavx5b1fcn3V6wFcktWoR7oDTx7kmVGihBXgnj1tPHXr1t4nYrkE8doL3RjzPPAqMEREPky37T1gGNBNRL7y+uTGRAHtgWLAYeBNEfnETbu+wGPYnv8Z4HPgeRFJTN82PeqFrlxqrD2wlrFrxzLzz5nEJ8UD0CC8AUOaD6HPVX0oGeJ91sG1B9Zy6/RbOR57nBur38jc7nMpXbR0LlnunpwKYvr94hLjWPXvqtR57HUH16XGtgOUKFKCtjXbpor25eUuxxhDYnIiLy59kddXvg7YFLHT7ppGeFi42/OqR7qD7Dp7DRtmhbtZs9x3FMvs+LkYmeUXL3RjTCjwNHAImOimyXHH3+w+lr8GPCQiccaYy4BlxpgNIpI+2D0MeBz4DSgPfIedh389m+dTlAJJXGIcX/31FWPXjOW3A78BNi/57fVvZ2jzobSv3T7bmdGW7FrCnTPvJCYhhi71uvDlvV8SFpz3VftGLh+ZIwEfuXwkdza4M1Wwf9n7C7GJsanbg4OCubH6jXSo1YH2tdtzbeVrM3jcHzx7kPu/vp9f9v1CIVOIV9u9ytMtn87wvzwZe5Klu5eybM+ynFyiAvDee7l/DhF4veDIhrdD6F2B0sAkD45qKQFx8dk5uYhscX7rWOoA69O1G+/09oAxZjpwU3bOpSgFkQNnDjBh3QQm/j6RozFHAShTtAz9r+nPo80epVaZWjk67qyts+j+TXfik+Jd8prnFfvP7GflvpWpZUk7TOuAIIgIyZKc+jqzvwDXTLzG5biNIxrToZbtYbeq0YriRYp7tGHRzkX0nNWT6PPRVCpeiZn/mUnrGq0BiE+K59d/f2XRrkUs2rWINQfWuOyrHukBiAg8+yz8+KNNmRodnbFNPqs06K2Ad3H8rWKMiXSzvYPj77/ZNcAYMw7oB4QCG4B5XuzWGjvvriiXHCLCL/t+YeyasczaOoskSQLgqoirGNp8KN0bdb+onvInv3+Sp3nNk5KT2HxkM6v+XcXKf61o7zu9z6XNkt1LLuoc91x+D+O6jKNCsQpe2fPKz6/w8vKXEYQOtTsQ1TWK6PPRvPvruyzatYjle5enevG7Q8anOFiNdCwOLoW528RE+OEHf1vhSlKSDQn74w9YvtwmZCkAeCvgNzr+3p9Fu7+ya4CIDDLGDAVuANoCmVZBN8Y8iM0J3z+TNgOAAQDVq1fPrkmKEpCcTzjP9M3TGbt2LJuPbAagkClEtyu7MbT5UFpWa3nROcid85q/3PZlhrce7vO85mfjzrJ6/+pUsV69f3WGEK1SIaW4odoNtKzWkhd/epFFvRdhMBhjvP57w6QbSH4pOVv2/3fhf9l4eGPqA0P98PpEFIvg6o+uzlDr/MryV3Jz7ZtpV6sdLy17iY2HN3LP5ffwzdZvMk/zmZ/JLLXp+vUwaRJ8/DHs35/3tnkiLg5694YTJ2z+8+KeR13yG1k6sRljigHngC0i0tDN9hLYOfDDIlLdsa41do66KVAZeEBEpmRpjDETgL9E5AMP2+8CPgI6iMgfWR0P1IlNyf/sOrmLcWvHMWnDJE5dOAVAhWIVGNh0IAObDqRKySoXfQ4R4dnFz+ZKXvN9p/elDoev/Hclm49sdnEeA6hdpjYtqrWgZbWWtKzWkisrXJna68+pU1h291u+Zzltp7b1uL1i8YrcXPvmVCe3yiUqAzD6l9G8sPQFKhWvxB+P/sGYNWOIvGmkx+PkppNUrpPZw1ChQlClik0zOm0axMTYxRtya2QiJsbGcxcrBjNm2Iph/sDx4OOPamQpvw4HPGzvCATjOvRdHPgTmOZYsmNPHXcbjDGdgI+BLt6Kt6LkV5IlmcW7FjNmzRh+2PFD6pzu9VWvZ8i1Q/jPFf8hpLBvfox8mdc8MTmRTYc3pYr1qn9XpYawpVA4qDDNKjdLFesW1VpQqUQlj8fMbj3x6dPhhReAfcnUnAyvvpp1Zs1V/66i3bR2LuvCgsNoU6MNN9e+mZvr3MyV5a/M0Jtfd3AdI5ZZ+6bcNYXwsHDHnHcmAl5Q+eknaNkSnnsOGje2c82F/Zjs8+RJuO02W2ns44/9a0sujbx4c0UpqWg8DW0/4Pj7acoKEZmHQ9CNMVPc7WSMqQC0A74HYrHz6N0dS/q27YDpQFcRWZN+u6IUFM7EnWHqxqmMXTuWHcd3AFCkUBG6N+zOkOZDaFbZZxEowMXnNT994bTLcPhv+38jJsG111W6aGmX3vW1Va7N1hy9OyewFJHet8+Wak4R6enT4eGHITYWwLB3ry0adeYMhIZCZKTrPgCDnzrF6SPXQ6md0P55aDwDgCeuf4JR7UZ5tCsmPoaes3qSmJzIsOuG0bFOR7shP/ewL4ZWreCrr2zu8HXr/CuYhw/DLbdAu3bwzjvua3kXALwZQi+HTZe6VkSap9t2PbAKmC8inT3sfw4bOz4l3frywNfAVUAQsBf4QEQ+NsZUx86nXyEi+4wxPwGtgAtOh/hFRG7N6gJ1CF3JD2yN3sqHaz9k6qapqfPB1UpW49Fmj9L/mv6UL1be5+fMbl5zEWHPqT1WrB1D4n8e/TN1dCCFumXrpop1y+otuazcZT51gnMVaUtQkHUsPnrUe/0MCrJLonM2ieAYoiYX86oWxqAfBjF+3XiuLH8lax9eS2hwKFy4YJ8Ypk/3vGN+FvjMhtC3bIE2bWD+fGjaNO9sSs+ePXDzzdC3r33K83fxkZiY1Hn3PB9CF5FjxpitQFNjTGMR2QxgjKkBzABOA4Oye2IRiQbaeNi2DzsMn/JeQ8aUAkdSchLf7/iesWvHsnjX4tT1N9W8iSHNh3BHgzsoHJQ7vRhv8ponJCWw8fDG1N71yn0rMzhyBQcF07RyU5fh8Ijivg/FOX0ali2zPkgTJqQTXWyp5uyOUiYn28WFhGL07Wt9npx79un5YccPjF83niKFijD97ulWvA8fhq5d4cABKFcOjh3LuGM+C1PKFl27wltv+Ve8//oLOnWCZ56BIUP8ZwfAzp22BOnUqbl2Cm9/HUZhh7CXOLKnFQO6YeO2u4jIntwxT1EKHsfPH2fShkmMWzuOvaf3Ana+tU/jPgxuPpiGFTL4ivoUT3nNT8ae5Nf9v7Jy30pW7V/FmgNrMoRKhYeGpw6Ht6jWgmaVm1nx8hHOQ+MVKsD111tdXLvWjdjmEkk2Ko+9e62Q9+oFNWqkifnRmKM8+N2DALza7lWuqngVbNwId9wBYWGwYoVV/4KIp/zjISHQvj3065fnJqWybh3cfrt9iOjVyz82JCfb3O5jx8Lq1fDgg7B0KTRpkiun80rAReRzY0ww8AzwKHAM+BIYKSKenNsURXFiw6ENjF0zls///JwLiXY2qE6ZOgxpPoR+TfrlSYrSwT8M5rsd37H/zH7CQ8MZ0HQAb6x4g5X/rmRLdMbUCvXD67sMhzcIb+DzsLIUPvvMDo3HObxtjhyBb7/1fv9KlWDkSHj8cTjv9NwRFmbnv48f97irR1JGu/fuhQEDAIQvgvpzNOYoN9W8iSdveBJmz7aCccUVMG+eHcsvqLjzFH/1Vfj++7zJpOaJZcus9/snn9gHqbzmzBmYMsX2uENDbTWzL7+0Q0UdO9oP4XnPeQNyite50HN8Ag9z4HmFzoEr/iAlD3dCUgLfbP2GsWvGpmYVA7i17q0MaT6ETnU75WqSFGfWHlhL80+ae9xepFARrq18bWrvukW1Frky956egwdt+PDIkWm93/QYA9dcAx062Nfvv+86Bx4WBhMnpjmypXdwAyvAzr+hwcH2WPHZyx8JpfYS2vp5ti+fQbUzTgc7ftwW47iUmD/f9jLXrrUhZP7gu++s38EXX8BNeTzbum2b7W1//rn9cA4dCjfeaD9YZ87Y4fxrrrH1xY3xTy707GKMKQ7UdbwNAqobY5oAJxzz24pSoBm5fCQGw0frP0qdNy4VUooHmjzAoGsHUS+8Xp7bNPB712q/5cLKufSum1Zq6rPQtKxIGWn86COYO9ezcIP9LTx2zDV5VsOG7r3Qwf715ITmTthT1gUFZW6Hwxo4XZPYuVFUJ4oa7ONVnqdnwoxLT7x37bKOYl9/7T/xjoqC//7Xjnw0822EhkeSkuz5xoyBzZvtsNHmzVC1alqbs2fh1lvt0LlDvHMFEfH5gs2oJm6WKblxvsyWpk2biqLkFbtO7JLuX3cXIkldrvzwShm/drycjTvrF5tG/DTCxZ6U5aWlL+W5LYcOiYweLVKzpogdoM56qVEjb2yLihIJC/PerpQljHMSRfe8MTJQiIkRueoqkfff958NY8aIVK0qsmWLb48bEeH+RleoIPLWWyK1aolce63ItGkiFy5k3P/sWZEbbxQZOFAkKcll01WQIL7UWl8eLBAXFXAlrwgkofQEkeT5OZOSRBYtEvnPf0QKF3b/29i2rcjgwRkFNCzMCmteERVlHxhAxJjsCHmy1KiRt7b6jeRkkZ497ZKc7J/zv/yySN26Irt3+/74md3onj1FVq/2vO/ZsyKtWon0759BvEVEmoKICrgKuBK4RG2K8otQekNe2JUigsaIlC5tOy7ufgvLlhV54gmRrVvd7+tvQUwT82SvhTxF9P1tuzeM+GlEznb84APb+46J8aU53pGUZD80jRvb4Rx3eOpBR0R4d47MbrAnPJ0TRMqXF9m5U+T3330u4LnuxOZv1IlN8Qc5zd+d26Q41+UW7pKspKdlS1sY6j//gaJFPbcLBM7GnaXOwy8SPfNVSCiWrX2dHesCkaw+o24/K7/8Ym/cr79C7drZO2FmhVC8yYOemGg/XDt2WK/3MmXct8tsvtkbvcts/2+/tUkJTp+GU6fSXn/8cdbHxQ+JXBRFyT7Zzd+dV+SmeO/fb4XZnXgbY/NqDBhgHdDyC4//MJToOlOp3uoo/PQa+6QaBhCyjhw4f976eEFgifhv+3/jzVVvZtpm54mdjFw+0vXzcvAg3H+/DZfKrnjDxVVoi4uDHj3g3Dnr/Vgsew9TqURFpYmuOyE+fTrz/T/+GEqVSlvKlYPKlbM+7w8/QIMGULdu1m2zgfbAFUW5KA4fhtdftxnS4jxUTDAm7xKx+IrZv37K3QsfomgCrP8slCsmfQcdOqSGqe3d691xjLEdP+dkMNmmUCH3/0DvXOcBm7u9/bT2/HbgtwzbRrQZQWTbSOIS43jl51d4fcXrJEkSSS8l2TDH+Hho2xY6d4bhw3NwAeS8Z3zunM3yVqaMTRaQVUWxzM7To4erAKcspUvbv3/9lRLw752dsbFw552waFHmNjn2a2aMT3vgKuCKouSIY8fgzTdtGGxmQ+ZgxWvPnjwxyyccWr2IRt924njRZD74pThDRy+B5q4x9NOnZ4wt94bwcBvH7knI3Q5dX+Sw8MKdCxn4/UD2nNoDwDWVruH3Q7+7DKGvP7ieW6ffSvT56Az7j4hpRuT2yjZpTU4Lg+TkGk6csA8NDRvamMNChTI/x8mTrvGG3p4HYMECm5AnKckeJz3ph/ovXLDiXa6cjQPPDMd5mxiTuFEkOPPG3lMwS7QoipJrnDxpO2G1atmslc7iXbt2xg5SWFhazHV+QGbP5oGJXTheNJlb9hdl8AerM4g3WAGeONE+nID3ob7Hj8OAXueZbnrYnZyXihUZudx3pUiPnz9O3zl9uSXqllTxvrL8lSzotSC1TVxiHC8ufZHrPrkuVbybVGwCgIwQpMZkIuectjW+cyreS5d6165iRdf/R3g4/PabnfPOSry/+Sbn8zNffWXz5s6ZYx8a3LmjpRfvrl3tw8KECV6fZhNsypmBHvClR1wgLuqFrii+4fRpG71TqlTGX7cmTUTmzrURPoHkSZ4tkpNFRo+WMTeXEiKR8P8FyYG/fvN696gokUKFsvZUdw49iyi0Wx6o2V2euAXp3AO58QEbeihHjtjYu7ffFundO9ue0cnJyTLjjxlS/s3yLiGNdT+oKwfPHBQR64W+/uB6aTiuoUub8m+Wl72n9lo71q8XKVdO5M8/vfsnZOaN7c015MQD/OBBkbvvFmnQQOSXX7Lvhf7xxyKVKols3OjdNV64INK5s0i3biJxcSL33CNStKhnu53OC6wTH+qbOrEpipIpMTF2mPzNN23nxJkrr7QpULt2TeucZZYJLWC5cAEefpi/9q3j6bZnAZh45ydUvtxz6tn0pFyz98PqhiNJNZm8ZzoceR9uHQb1bS1yM95WLRtxvjmRbQbYuV8v2X9mP4/+8Cjf7/jeZX31UtVZ0mcJlUpUIj4pnqTkJJp/3JwkSZtDDw4KZtZ9s6heqjojrn0a7r4bxo2zN9obMnNI81QIJacV2kRg8mT43//sP336dBvW4I1Hewpvv20/3MuXQz0vsiPGxcE999hhpagoOxR15Ih1hMtqbj438OXTQCAu2gNXlJwRGyvy7rvu47jr1ROZPl0kMdHfVvqAQ4dErr9e4u66XZo8U0qIRB78qpfH5unjp5OSk2TPyT2y4J8F8sHqD+Tm/06WouGHBZIci7cd0WQpVuiocHf3jAlSvOiZJiUnybg146TE6BJCJBI6KjS1Vx3xVoTsOLZDRETWH1wvjcY1St127cRrU19/vP5je7DERJEOHUSefjp7/8uc9KBTiI31fv+dO61911wjsmFD9mwUsf/f554TuewykX//9W6fuDiR22+3vf34eJGPPrJfhGPHvD4t2gNXFCU3iY+3xUVGjbKRQ87UqgUvvWR9fQoXhF+PjRutI1K3brx0+hs2hp2mdulavHf7uAxNRYQ/j/7JyOUjSUxOZPvx7Ww/tp2/T/ydWl0OgOLAUPsy6I9eyI/vI+fLAFlNkhtiksrD3I+Z/rlJG8X48kvPuziGPbYd28bDcx9mxb4VANxe/3ZOXjjJin0rKBtalsV9FlOjdA1e+uklRv8ymiRJok6ZOrxy0ys8seAJAIY2H0r/a/rb4w4fbr3eR4/OwmY8x3d72658eRvfndW53DkZRERkr1SnOxuqVcs6Fj0+3lY7K1QIZsyAJUvsF2HFCjtP7yfUC11RFAASEqyf0iuvZAyRqloVXnzRlnsuUsQv5vmeOXOscLzyCsu/H8tNzbZggoL45YFfaFGtRWqzf0//y/Q/pjNt0zS2Htvq9lAVi1ekQXgDGoQ3oH54fRqUs69rlalF4aDCTqFnQtZCbnVi6lTo2XCTrXK1aJFboUpISuDNlW/y8s8vE58UT0SxCMbcOoZ5/8xjysYplAwpydI+SzHG0G9OP/44+gcAjzV/jBfbvEinqE6sP7SedrXaMb/nfIILBVtnsCeftPW1syqN6q145ybZ0bCceMInJMB991nv9K++shXIOnSwHvktW2bLVF9XI/P7EHduLzqErijucXY2Cw93P1ResaLNnBkb629rfYjDWU2qVBH59ls51eRyqf6SHXZ+cemLIiJy5sIZmbxhsrSb2k5MpHGb455IpP+3/eVU7CmvT/14pe5C4XNeD6mHBx2XqMEr3R5rzf41LkPhD855UI6fPy5DfhgiRCJhr4bJ0l1L5aWlL0nhlwsLkUjt92vL8j3LJTk5WRp+2DB13bEYxzDwX39Zp7W1a91fQFCQt/MBub6MaJvJdncOazExmR/THfHx1kntttvsEPqBAyLVq4vMmOH1PXcGHw+h+11ggSjgEHAG2AH0z6TtE8BhR9tPgZCsjq8CrigZyaryVrly1gHaH+muc5XYWJFevUSaNhVZvlykdm1pFBkhRCLXfHSNzN0+V3p808Nl/jjklRDp9lU3+X779xKfGJ+jfPIx8TEy8LsB9ph3d5fCwUclOznWw8PTvPnPxZ2TJ+c/KUEjg1IFePHOxZKcnCzPLnpWiESKvFJE3lzxpjQe3zj1Oh6b95icizsnIiKv/fKaEIkUH11c/jzi8DA/fdqzG32KIAaAcKcsRGbRxplTp0SCg71vLyKSkCBy773W4/zCBVuo5OqrRV59Ndv3P4WCKOBXpggxcJlDoJu6aXcLcMTRvgywDHg9q+OrgCtKRipVcv8bFhRkf5/OnPG3hbmAw1lN7r1X5NdfRSpXlhnvPpQqcCm91JSl9eTW8vH6j+Vk7EmXw2Qq4ElJIvv3iyxbJlKypAjIxgjk8sH2mEWGI+9fhySDRNFdwsmekJcsEyfleg0TIpGgkUHy1IKnJCbePmWNWj4q1fYmE5pk6HWn8N2271JHFb7d9m2a3XfdlfnJFy7ME2H2tOwphYxpjtzcG6nw32wI+NGjVnizc76ICJH77hPp1Mk+9CUm2l74Qw9dVAU2Xwt4QM2BG2MaYIV5mIh8mW7b58AeEXne8b49MF1EKmZ2TJ0DV5Q0Tpywc9njMvpoAfkz5alXpDirPfAAtG8P//kPJ957jTr7nuLUhVOpzeqH16d34970atyLmqVruj1U5E8jiKzzEPzzj+vy99+wcyeULAl16yIrV/LBdfDMzRBfGC6Phhlfw1Xppoyn052+TCPJa59ioVCxU4x4/QQvDqkDwHur30t1RnNmaPOhvNb+NYoVsbnDB/8wmHHrMt78EUHtiPwhxiZN8USrVraYSR6RbGBdZfiuAcytD5sz+aUfsQwil6VbKQL79kHHjnDvvdYrMzt07GiLlxQtCo89Blu3wrx5EJzzRGq+ngMPCAE3xowD+gGhwAagtYicS9dmEzBaRL5wvC8HRAPlROR4urYDgAEA1atXb7rX26TFilJASUqCTz+F556zmcA8kd9SnnpFirPa2LFQogT07Uvk650YuT8qQ9OXWr/EyJtG2spX//7rKs4pr3fvthm46tZ1v5QowdGYo/QbGMGPjtDiR9bCOwshLMG9idPpzoCwz3OUlvWuJ5YyKbG9y/raZWrz6R2f0qZmm9R1J2JP0Pzj5uw8uZP7rryPL7Z8YVOpLlxovRPXrLEe2Z4Q8T7dXA45HwxLalnR/r4+HC6RsU2lszB5DnTqDRKZycG2b4ebb4Zhw2wlnezGaZ8/D6GhNu/txImwapXNl34RFEgBBzDGFAJuANoCb4hIQrrtO4HBIjLf8T4YiAdqicgeT8fVHrhyqbN6tf39Wr/edX1QkGtvO9DLX3qFN17RZcvap5iEBE79/QdlvmqKlP3AtTe9dy9UqGCTe6QX6Nq1M62GteCfBfSd05cjMUcoex4mfQd3bcvC7ogIpr+0nWFDEjkuZfHGUz2NZGg2Dm6zsWvpe90AicmJdIrqxJLdS7i64tWseHAFxUYXQ/rsguuvt6Fqbdpk7aWdCwJ+uLgV6+8awKLacMGpgxuaALFO7+/dAhO+h7KxYCKzEPBKlWyvu3dve42//549w0RsD3zQICveKTlzL4IC74UOTAAec7N+E9DN6X04IEB4ZsfTOXDlUuXwYZF+/TJO79WoITJrVj5OeZoZ3s5x1qkjUqSISK1adi710UdF3nlH5NtvRbZsETl/PtunvpBwQZ6c/2TqPHTbvsi/JbOYn00hPl6kVSuR4cPls6gkCS5+Kltz45AsQcWOywvvbnFr22PzHhMikQpvVZB9p/aJiMiIhc/bHLjvvmsbeeOl7ckLPSgo7WSZpFMd0dbO/2+KQF5pjTTvn9Gz/9qHkZdbIyPbIOWetutK/Q+JamT3dT6WR1uNEfn6a/t/7djR+8+F87J2rfXmXLMm258FT1DQnNgyGASfAO+7Wf858KrT+3bA4ayOpwKuXGrEx9vfZIcPVepStKjIiBEF0LPcGW9/nLdvt2FBkjGzWk7YGr1VmkxokuoM99ovr0miyUIMnRk8WEYMqCfbj26VNpPbpHqrZ1fIjbHPIs58sv4TIRIJfjlYVuxdYVcmJ9sc690dWd8SE60Tm6ec3p7yiKfHg3gng/xU04pxjcddBbvoC8ht3ZGPmiIHSiBniiAP3ZG2vV0fZJ+nByFPy8KF9osQEpK9/ZyXypVF5sy5uA9GOgqUgAMVgPuxuYsKYT3NY4A73LTthPVQvwIoDSxFvdAVxYUlS0SuvDLjb9Fdd4ns2uVv6/IAb3+cfURycrJMXDcxNeyszvt15Lf9jgIonnqi6XqxsYWRDRUz9kQ/3/y5JCcnS1SUDSPLjvakhJ2t2LtCgl8OFiKRSb9PSjN87FiRRo1EztmwMnniCZG2be1DTWbFQLKxbURb5ERR5N3rkQZDXK+twn+tSM9pgJwLTttnRTWk1jBH+N5wu29SZg9CF7PcfrvnbYUKpY1M+BBfC7hf58CNMeWBr4GrsKVN9wIfiMjHxpjqwF/AFSKyz9H+SeBZrLPbN8AjIhKX2Tl0Dly5FPj3X3jqKZsoypn69eGDD+CWW/xjV57j7RytD373TsSeYMDcAXyz9RsA+lzVh7G3jqVESEbPKxHh4NmDNv1qt/ZsKwfby8H2cNhbGiQTs0e0GUFk20imT4eHB8UQeyYM7+bIHddYai+3DPiZ+W/2se/DwzNWpQE753/kyEXPcycGwYrqcFM/KJrgOqftjLPneHwhGNEW3mwJyUHQ5BBEzYIrM5Ym9y1hYXDNNfDjj1C8uM261rkzXHaZ/eL4eM6/wDqx5RYq4EpB5sIFeOcdm0ba2YO5WDGbqvnxxwtQ6lNvyAMBj1wWyU01b6LX7F7sP7OfkiElGd9lPD0a9SAmPoYdx3ek5knfftwuO47v4Fz8uawP7mziCPc2DhpkS1Bn5xKMER55xDDuxUNQubLnhqdOQenS2bITrPf4wjow5zIb8nUiLG3bzTvh0bVw+w4IfokMjmdbykOvu2FjJQhKhmdXWmEvkkTu06IFzJ9voxNEbLTC4cM2ciEXkv2rgGcTFXCloPLDDzZCZudO1/U9etjSn1Wq+Mcuv+KNF3pWhSsyISEpgSKjimAwiKOH27leZ+KT4tl2bBv7z+z3uG94aDgNyjXgsm9X0eA4NDgGDY5D7ZNWrExkmmibkcajgIOtnNnr4WiIzSJXuQtCeOHTvJ84iJ7MyMZ+7jkear3H51wGC+q6eounJ6W37ew5nmzg/evguQ4QVxhqn4Bps6HlvxdtmnfccIMV75Il7fvXX7fe+D//bHvjuYCvBbwg1BNSlEuKf/6xPesffnBd37gxjBkDrVv7xSz/c/48XH21jd2dMcPn9ZlFhDtm3mFfkyau8/6el/o6OCiYumXrphYzaRDeIPV1eJijatVDWY8SjGgzItPtPXvC31U+5OiXkdnojRuOJ5amF9N5hAlM4BGvhDyybdpQ995S8O1lVrR/rgFJQWntrjkICYXgjwgr0u7CvEY4jrOvFPS7C36qZd/3Xw//twBKxHtzHT7CWby/+ALGj4dff7Xi7elB8CIe/nIDFXBFySfExNih8rffttUNUyhd2oa7DhxYQEp85oSzZ+H2220iksmTff6PiFwWycjlIzOsv6biNfRo1CND9TGPTJnicdOIZYBDtyPbRmZtU9tIaGsLYg0blnmCHlcM5yhJL6azkhaMS6l96gYBRraFILGivaFS2rbCSXZ4/K5t0G43PHkLqYlr4gu5P96IZRDVGIZ0htNFoXwMfPId/F7J9+Lt/OCRgQoV0sR71SoYOhQWL06bXvA0iuPOR8CPoq5D6IoS4IhY57SnnoL9TiO0xkD//vDqq1lXfSzQnDwJt94KV11le1FBQVnvk0NShtAzG952S1KSTYM3a5adZ3anthcpBN36RfPV1HCsP7C32OuowV5e5XmXHvnZItCpF6yqnta6WDzc+jd03Qad/4bSF2B/SWg2AI64GXV2dlQ7EQqP3AZfXWnf37ENPp4LFWK8SMqSA1KPGRGRJsiFC9sse5nh1D7ThwBnvNRRXw+h594nXVGUi2bLFpu6+777XMX7uuts2uqJEy9x8T56FG66yTojTZiQq+IN2HrZ2eXsWbjrLpuq9Lff4Ngx98FLFyHeR2OO8luTZnB3L4qVP4YVZm9ExQCGvdSkN1EMYgwAI5a+RMnnXcUb4PHV9mGyxx9WvDdWhOv6W/GufwzeXmDbRZyDs6PTxG9BHWg4yIp38Tj45FuYMxNOFYX/dMvxZRPZNuNrAb50PCTEFgaqVk1rl5V4g0vve2Rbj60CAhVwRQlATp+GJ56wncqffkpbX768zWm+ahVce63/7AsIDhyw6T/vuMO64udynu4UspqfdmHPHvtwUamSzTkeHu5ze+IS47jnqarsO72P68rO4NjJ8ghB3H15T8KJxjshByGI8QymBKf5e8DfAJRwBOlKpF1GLU1rP68e3PggHCwJrffAr5PgyV/ttiPFrYPa+WA7XN6pNxwqAS33waYJ0PMPuKkvNBgK31xh9zGRdnEW5awY2db19RO3QFAk3HevXRc2HMzt67MtxOsqw/B22dsnS3KhSpAOoStKAJGcDNOmwbPP2s5lCoUK2XzmkZE5ivIpeOzeDR062In/Z57xtzXuWbHCVsH63/9sNatceMAQEfp/159PN35KlTOwdiJUShetNqjYZMbH9CHbQ+tFzvJ4+CO8N3BGhuHtcdfC0FttzHavTXYeO8QR9tX3LpjWxL4uFwPHikFwErz8Ezy9EpbXhEe7wI5y6c6Y7hyZ8XMNGNUaFtWBdxbAU448B8Xj4JwH30WJzHxIPNnYh5IhnW1sfnrcVjxLPbgbHU1IgA0brFf7zz/DihWYkyc1jCw7qIAr+YV166wvzerVruvbtrXe5Q0b+sWswCOlytSzz8Lgwf62xj1TptgHi2nToFOnXDtNShnR0AT45VNoeshNo/Xrmb71agYONMTECNkrlCLUKr2QXafsNSQZWx71/1rYrSOW2cX5iIlBNt47hSuO2qQsVc7CUx0h6iq7PiTRho+VvABnimYhkA5+rgF33A+nQ7NxCelIf54LhWF6I3inBWx1mo7quhVmX+7lg4UIxMbaaZKff7ZlV1evhpo1bVhI69bQqhWmcmUV8OygAq4EOseOwfPPwyefuD7IV61qPc67dcuz0eHAZ/NmK4ijR9sSmIGGs7Pa3Llw+eW+P4cjxGlBHejc0/aCv/gKum3x0N7pQzUo9FMmXOiHZLM3XpQLjAt6iLn3zmD25bZH/fF30HeT0zmMYUc49O4Ka6qm7b3jA1hWE569GU6G2uxsw3+22drm14Pnf4aEIHjrxoximdJjXl7DDpGnhJ3lhOBESCicdo4ToTC+GYy5ztUBr0QcjJkHfTbZ4fgsBbxYMRu++Pvv9im7VSsr2DfeaCvfOaFx4IpSQEhMhI8+ghdftI7UKRQpYj3On38+1/JJ5E/WrLGhYmPG2KeaQOPsWZtF5+xZ66yWC/PdABw5wvZwO8+bHAQvLs9EvMHl6W8c0JLFvGBeZ69Ux86PZ/V0aLhAKA8mT4fZEwiNeYQf/pzBTXvSWogIE5rBfzvC+SJQ9bTt2R4rBvUfS2vX8R8Y94OdGx/uKGFe5gL8r4PrGVOEe2RbmHoV7CmThYlekOBQOxNp/xZOgsR04W6t98DUOVDzlH2fEreeyuzZaUPiW7dCs2ZpPewbbsjzL6z2wBUlj5g+HV54Afbts2GoRYrYHObOdO4M771ny1ArTvz8M/znP9aD77bb/G1NRvbssQ8XN9wAY8fmav7ak6GG6x6Gv8Ph7r+sV3hQTn7Gg4MZlPB/jGcQ2Z0fL87Z1EQwh4rDQ71K8GPFs4CdE39jsZ1Lnu00ADHTMUogBgplww/Q1wQl2wcfZ4oEFeHVtSV4otu7FOrdx/POt9ySJtjNmkHRotk6t6ZSzSYq4EogMH06DBjgmq/cmdq14f33A1Ob/M6CBdCrF8ycaWPqAo08cFZLITE5kVv7BbO4Dlx1GFZOgmIJF3fMV0t2Z/j5CZBYguzOjzcKXcjBoZ04HgZlYmHC9zZWfHCXjI5gEgmHikPl/3o+4oO/w6fXZP8aLoZGFRoR9epWGh/wIsTsIvVS48AVJR/y/PPuxdsYm0VtyxYVb7fMmQO9e9u/gSjeU6bA3Xfb7G/DhuW6s8JTC55icR2ocA6+nXHx4n0iFCY9MAOGl6LNNT0pwnm8DTsDwx+xHTn+dhwND7/G/OmGL66E23pa8W5yCB5zcsjs0iNz8Ya8Ee+KxSsCYDA83eJp1h66zTvxBnt/jbFhIQGA9sAVJZfZsQMaNHC/zZhcCQ8tGHz+OTz5pE363rSpv61xJS+c1dLx8fqPGfD9AIKT4KcpF1/0I9nAbb0L8WPtJJodgF8mQ9FE6MB8ltCR7PbGKXQB7nyIYpfNYMQym3o1fSIYfxL5E0TeZF/XOGULp7TeexEHzI52JiTA//6H+b//0x64ouQHEhJsgaPGjT23qR5AP3ABxSefwNNP2/zUgSbe6TOreSveFSum9eCcl4oVs9z1570/M+jbAQBMnOubil0j28CPtZMIjzV8/aUV7wuFofw9neDunhB8huz0xkkKhVnTSRh9nk8Kdw8Y8X7uF+s8lyLefTfC5vEXKd7Z4fBhm7Pgr798fmgVcEXJBX7/HZo3t520uDj3bcLCbB5zJR3vvWfnFZYtC7zg94vJrJZZgQxnTp60CUDKlAFj2F3GcM+HbUgsBE+ugn4bc2p8Gj3ugZfbQpAJYuZDP1Ljhk4cC4Obe8PMRlDkihn8WKMUj/Ih3os4gCGeUHb8PB2mzr94Q33AGy1hYV37+psvYMocKOnhO+lzVq60zm433ZSxfKAP0DAyRfEhsbEwcqSN305KSlt/zTV2qvTjj60XevXqVrx79vSfrQHJq6/aeeXly6FGDf/a4qmkZIkSNh7dl/PdXbvah4Pdu+2cSq1acOoUZ4vAHd1tOFanv+HNRRd/qp1lYEYjx2m3JFO2TSfmF4PuQ+FUqA0B218KOv0DN5uhnKi7ii/2vw+xKanTvLluA7s7QmQyNPsQbvNc8cxXhCa4r0nu7HFu8mrGWMRGI4waZSMnunTJldPoHLii+Iiff7bVwf7+O21d0aJW0J988hIu9ekNIjbG7ttv7bB5pUpZ75PbZCbQf/xhE9afOuX930Pu0qQ5+OorK9o1a8KVV8KRIyQb6HoffHcZXBYNqz+BUj7oOQ7qAuO9yKM/LwpeawW/OJ6juv0JXy7bCMcak+35cZLh7t7QOOv643mBN1nfssSTdsbE2BS/f/5pfSRq107dVGDCyIwxIdi8Ah2AssBO4DkR+dFNWwO8AjwAFAc2AINFJLP0BYAKuJL7nD5ts3p+9JHr+jZtbI9bY7qzIDkZHn/cDjcuWADlymW5S56QmYBffrlNSl+qVOZ/nV9Xrer5eM6/w47zPt/eCmiZWPjtY6h34uIuJ7JtzqprFYuzzxd/VoBnOgLfj4F1g0ipZOY9/hHyoGQYuN4+tGSZVa1BA5uq1xvcaec//9ihtiZNbHW8sDCXzQVJwIsBTwNTgH1AZ2AG0EhE9qRr2w14D7gR2AuMAm4RkSyDDlTAldxk7lx49FFbGCuFkiXhrbdsbzyXq1vmf5KSbID8tm0wb54Vu0AhMwHPye+mt8czhs8bQc97oFAyzI+CDruyOLY7ewoV8hjiYCJh1JK0bGieuOcvqH0S3mrpZuPU+XaYPFsiDtZj/Sy8mPv3uuZJ+HYmND7iZc1xR0pYr0j/P587Fx56yA65PfKI2+MUmFSqIhIDRDqt+t4YsxtoCuxJ17wWsEJEdgEYY6KAJ/LATEVxy9GjNmfHF1+4rr/jDhg3DqpU8Y9d+YqEBBvjHR1te94FPW9sRIT7OfWICJe3D98OnzkKfrw33wvx9oQH8Y53hDBnJd7TZkGvzVaeU+beTaTNbd7kETjftxNs7g6zJgNF8F7IDSSVsPPjJhZGFPNyP+8pecGmRL1zW5pVGdKiusObeuHges+SkmyZwClT7BTQDTdkx9SLImBm5YwxEUB9wN2w+EygmzGmPrAb6At4dHE0xgwABgBU1zgdxYeIQFSUHfE94TSkWb689Vm5914tPOIVFy7YfObJydY7N5spKfMlhw9n2eTAmQN84oiaG7gOBq/x4rjpHgAy41RRuCeLNPJt9tgkLL03u9/unNucxjPsku1hdUcbCbVCjkCkb5KjtNljRy2KptNir+a8H3888+3pe93Hj1tP1Lg4W04wG/fCFwTEAJ8xJhiYDkwVkW1umhwCVgDbgVjgXjLpgYvIRBFpJiLNypcv76mZomSLvXttrvI+fVzFu08fW9dAq4Z5SUyMzRtetKh18glU8fb0Y5xLP9KJyYl0/aIrAKVj4bYdsLuMLc+ZAZG0JeXBIH2ceTr2lIYWD8HS2hk2AVAkEd5eAEunwnsLXLedD4b+d2Ri/G1DrQCX20x2w85Sl8ikrBpnyd1/wbIpGcXbK0qUcCSW9yCL6e/7+vU2RKxRI1i0KM/FGwKgB26MCQI+A+KBIR6avQRcC1QDDgO9gKXGmCtFxEN2aUXxDcnJ8OGHNqY7JiZtffXq1nEtF8s9FzxOn7YhNfXq2WQtAZKS0i1e9Jh9ReSySEYuH5n6/lQo3N7Dvg5Oglonoe4J68hWN6EE9f5ZQN2ydalRugaFgwp7Dnlz8PDt8EVDOBvifnvjw7Zmd6OjGbf9VR663QtbKnhxIUOaOIbVpwGFyNawOlgRz2FP/LJo+Gx2NndK6VHPn2/nv4yxOe1Hjcr8afzTT63n6vjxtsiOn/BrGJnDu/xToCbQWURiPbT7HlgkIu87rTsFdBCRTD3U1IlNuRi2brXOaKtWpa0zBoYOtSHLBX3a1qccP26fdpo3tyVBC4qHnyfxjIjw/iFg61a4+25+6VCP1uXm8vA1D/P3ib/558Q/7D+z3+NuhYMKU6t0Leqt/jtV4Osdt2Jf4zQUTobZl8Hd93tnhnN41Yi2tqzm4C7u46uzJEfe6gKR3n8urjoEmyrZ0qC/fQLXpETqicD+/fazlln4nojNkNa4sZ3L/t//bK15T+IdF2edX37+2Y4eZTOFboHxQgcwxkwAmmCF+Fwm7UYANwP3ANFAT2ACUEVETmV2DhVwJSfEx8Mbb9gH8fj4tPWXXw6TJuWpn0rB4PBhuPlmOwfx+usFa67hYr3Vv/oKBg2yH7gHH8SMNMiItP3OJ5xn18ld/H38b/55og9/FznHP2Xh77I24Yon3NW7dqbhEZj0HVz3cEbv7LNFoOTzWZvuFW/vgXPV8U7EvRPwEctsSFyls3CoBIxeDM+tcGpw4YKN47zzTltJyBNHj0L9+jZO/5lnMv9s7ttne9vVq9viNSVKeHE9rhQYL3RjTA1gIBAHHDZp/7SBwC/AX8AVIrIPeAOoAGwEigH/APdkJd6KkhPWrrXRIH/8kbaucGE7hP7CCxDiYRhS8cC//9pKYr17w/DhBUu8L4bERNvj++Yb64V/jY2KHdHGtVh2WHAYDSs0pGGFhrDAtZ8TWxh2liVV0P8pa+uEbytnhc0dQckwYjn8bwUUcTPtvLEiXP2IT67Q8t+ajmH1KLIfO+7K/X/A87/Aw475+JRrfL6DXVJHEB57zIaCPPZY5gJ+001WvP/738zFe8kSW9L2qafsEiCfYc3EpigOzp+Hl16Cd991jcC59lrb627UyH+25Vv++cf2vIcOtenoCiI56YEfOQL33Wcd+KZP9z6nuhfCcbYI3P8fmFc/47bm+22vu6HTXHdkWyt6AtzWw/1+PmPsRkcmN8go5IInb/SrD8H7P1pHvKc7wpHi9kFk8FoYc126EYSSJa14L1wI999vEwRlxuOPw//9n/v/rYgdGXn/fVsd76abvLxQ9xSYHriiBBJLl8LDD8Mup5jb0FA7hD5sWGD7WgUsf/0FHTvap6IBA/xtTeCwapUV7wcftP8bH364DpSwIrzRTSba/5sPj/0GhdI9U0Qug9Mhtlebq+IN1skNPHicuxfvSd9C04MwtHNaWtcW++DDedDksBXwVIyxQ2QffWQjHc6ft+s8PUgNGOBZvE+fhgcegIMH7bBcZpn0/IQKuHJJc/KkrVo5aZLr+vbtYeJElzTGSnbYsMHOd7/1lh16LKh88on3bUVsOMPLL1sv5ttu86kpmyKgS084UNJ1/U277Xz3E6vd77e2Mtx3rw1ZS0/Fs3A4+1O9WeOFp/kt/8An38H/3QADboekICgfA28ttDHqQQ5NTk3QcviwHS57+mk7B3bZZbB6te2BOzutTJlihfk//7HpTt2J95YtNiVq+/YwY0bAzpvpELpyyTJrFgwe7OooXLq0fSDv1y9gprnyH7/+autljx9vfwQLKu+/b4dfCxVyLT2XgrMXunOBi2++gTp1cnZODx/KefXgvv/AOSedKXkB3l4I/X93P+sswHvXw7M3Q4KTnoYk2qH2syHue/J5RdQ38N+O9gEiKBkGrYVXfoLSFzzs0Lq1/Z//9put7vbVV7b37InkZPf/zy++gCFDbEnBvn19ci0p6BC6olwkhw/b7+c337iuv+ceG90UCIWw8i0//WQz2kybBrfe6m9rco/Ro61HY4kSsGaN7e15wrnAxapVGQpcZAs36VjHN4MhnV3LZt6+HcZ/D1XOuj/MiVDodxfMbeC6/q6tVvTrDrPvTTKIn6L9et1j/1Y9Dd/NgKuzisjbvt3m1E+pLPT88/aL7on04p2QYPedM8fOn1999cWYnycUkEBMRckaERv9cfnlruJdsaJ9//XXKt4Xxbx5dm73q68KrninlD19910IDoapUzMX77lzoUULW9xi6tSLE29wGS5KNraHOui2NPEuFwMzvoZvZ3gW75XVbC5zZ/G+LBoWfAZXHYF3nUab/SXeYK/l0zmw9z0vxBtsesT33rNf5K5d7fCatxw+bIfLt22zKVHzgXiD9sCVS4Rdu+wI5uLFrusffNCOlJVxM/+nZIOvv7Y/mN99B9df729rcgcReOIJ6/FYsaJ1gOra1X3bXC5w8UI72FoeZjvlEemxGd6fD+U85KZMNvBmSxjezs4ngx1mj1wGQ9bAq61zVm7U1wQl2weSHWOgjKfhcnf88IOtJFS7th0h8ZaVK+2DZ//+1qkwHyUYUgFXCjRJSfDBBzb8+LzTD1vt2tZJrX0WFZkUL5g2zQ49Llhgh4kLIklJtm7sH3/Y7F7//mud0dxx/Dj06GEzAOW0wEVsrD3OsWOuf48f50gxGN06rWmVMzDhe5s73RNP3wybI2Bh3bR1D2yA1xZDhCM9cL3j2TfT11z/r/Uu/66BG/EuXBjOnk3LnX/iRFr4XdmyNuIhhenTsz6ZiK1ANGqUHZrr3Nkn15CXqIArBZY//7TOqGucKjoFBVm/o5dfhmK+r2J46TF+vO3tLF2a7bSS+Yb0qVJXO9y5U2rGukujGhZmw5AKFYJz51wEOIMouxFpkpKsOJUr5/L3YHgRWg4wpBQMGbgO3lgEpeI8m/9TTXjbqZ538/0wZr6h+b822UH6POz+oFwMtPgXZn9hvctTU6KCnatOcU5LEe+U/w/Yh6qcJGlw7mk/+GCe5r73FeqFrhQ44uKsprz2mvVLSaFRIxv107y5/2wrULzzju3BLFlScOPt4uNzHkJUubIV5cKFMwixO3F22VasWAYnK09C65y/PD07wuGKIYYkI1QoVoE3OrxBn6v6EGTSDRMbQ83HYW/pnF1qTjECj6yDUUuhbPpKGCK2BOB119kkKu3apa1PEd8dO+wDVZ8+F29MHmiheqErSib8+qudyvrrr7R1RYrYIfRnn7WvlYtExA5hfP65LepQrZq/LcodYmNtaEJO+e03K8ahoT4xJ/L+CYw4Ar9VhRv6Z8xfnqF925Q5bStMR2OO8sC3D7Dn1B4i27runBhehr2lT/rETm9pvt8OlzdLH+mVIqSxsdZ7/+mnXcW7Xj37etMmK+4n89buQEIFXCkQnDtnnYPHjHF9kL7hBtvrvuIK/9lWoBCxRR8WLLDi7YcayHnCuXO2vOTFhCX4OnPXkSMY4HrPxclciFzm6JmLZCiQAtg46HnzeGROfz4amvciWDQxnXhfuJA22iFifQ7q109LwZuUZGO9d+60nz+RS1q8QQVcKQAsXGgdgvfuTVtXrJgdQh80SNOg+ozkZOtpvn49LFtmHYcKIqdOWYemK6+0mbo+/9zfFmUgNftYCp7ShQYF2Tn8R8kwJJ8QHMSd3Q0/1naX1tT3GAExcOwNCHdXONp5qmL8ePj9dzukZoydF7v99rS6vrfckic2Bzr5x19eUdJx/LhNlHTLLa7ifcstNhPi0KEq3j4jMdGmp9uyxcbiFVTxPnbMDtdee61NBhIIH6CKFd3Mh6drs2uXrWZ2333WU1vELklJcORIBsH/qSYUeSHZRbzvvjz3suZdewDWfGxfuxVvZ8LD7YPiH39A8eL22osWhUWLcs2+/Ir2wJV8h4jNFTJ0qC3nm0LZsjaPQ69emgbVp8THQ8+ecOYMzJ9/8clIApVDh6BDB1tD+tVX7Yfo7FkrIufOZWyfMn3gzgvdl1ML7o6fnuuus/Vuhw1z++FPEfzhN8H0xrDHKe9BlRJVuOfye/hgzQe+sdeJognwwY/w0AbrXd5mTxY7HDxow8Pymnw6FaQ9cCVfceCATbN9332u4n3ffbB1qy05reLtQ2JjbbKShASbpKWgive+fXZ+tUcPG8IQHW09H2vXtsPp69en9WpTlsOH7ZJ+fcq2vOTrr218ZCYf/umN4NU2ruK9uPdiDpw94FG8K3rI5gbQsEJDmkQ0SX0fUiiEUvFWUgyGAcXbsv+b6jw8/yhBh+1DyLIpmVxDfDzce28mDXyIv++Xj1ABV/IFyck28coVV1gdSaFKFZvoauZMqFDBf/YVSM6dgy5doFQpO+QRoBWZLpp//rHiPXiwFfDBg2161OPH7RzsF1/Y4elApXx5aNUq0ybrKqflFgd46HdIjoTpf3hOeNKmRhtCqtbIsL5FtRbM7T6XH3r8wMYjGwEILRxKXFIcp4vY2HJBmHhuGWNevg1++SVrh76ICPsAUq5c5u0UF3QIXQl4/vnH1upetsx1/cCB8MYbVl8UH5PekSsQ5oJ9QfqkLCmEhtqMP6NGWY/Iv/6ybf3N8SzSo8XH25zsmZAWTpbGpGvswsbJGdoPvnYw5xPOMzndtlvr3kpEsQg+vfNTjDG8ufJNAOqVrce8hG7U/ewHWLkS81YxZEJFmy/+ux9g5X/TEjK8/74d4Uh/D44csY5rSrbwWyIXY0wIMA7oAJQFdgLPiciPHtrXBj4A2gBxwKci8kxW59FELvmXxERb2nPECBthkkLdujY0rE0b/9lWoImOtmkp27SxP8IFaU4is2t58037VFiypOc2eUliYpbi7FXyEaeHFhNp48ePFIORt4YyoeEFhLRj/NT3J9rWbEuj8Y348+ifBJkgul3ZjWdbPkuTik2ATBLKNH6MyHYvY94r7T5GvWRJm50uED5P/tM9nyZy8ecQemHgX6wglwKGA18aY2qmb2iMKQIsApYCFYGqQFSeWarkORs3Wr+cZ59NE+9Chez7zZtVvHONgwftP7dLl4In3lnx9NP+Fe8Ub/OUJSvx9tbxynmeHoj8aQR1ni/G+IaxGcR72Z5lmJGGP4/+CUCyJDPzz5nM2TYntV1k20hkhKTGlctHlZAbFhB5+zvQpUvGELcUzpzxzt6LITERXnzR9zH4AUpApVI1xmwGRorIN+nWDwB6i0jmEz1u0B54/uLCBXjlFTs0nuQUntqkCUyaFNhTkfmePXusF/ZDD1mP5oJIZg8k/v4t9OZh6eRJKF06R4efvGEyD373oNtts7rNouvlrpXV3CZ/Abc9eq8Ryd2HwltusTHjM2fCVVd5jhDwk9NaQeqBu2CMiQDqA1vcbL4e2GOM+dEYc8wYs8wY4zF7vTFmgDFmnTFmXXR0dG6ZrPiI6dOhZk2bc6JECTtFliLeISE2IcuaNSreucqOHbbn/dhjBVe8CwI5FO9DZw95FG+Au7+8m8hlkVkfKJ0Pgcfetr9o1MjGi6eIdCBECOQiAdEDN8YEAz8CO0VkoJvtC4GbgDuAJcAwbG6hy0QkPrNjaw88sJk+3TqoxbpJ7tCqFXz8MTRokPd2XVL88Qd06mSHPh70/CNfIMjvPfAc2OhpzrpNjTYs37vcfS/bsV/6nOkX3XuOi8u9aAZjbLhKAOPrHrjfBdwYEwR8DpQE7hSRBDdtvgVKishNjvcGOAW0FpFNmR1fBTyw8eQUXLas9aUKCpgxogLKunVw2202A8799/vbmtzH0wfOH8OqnmzJjIv8vU4/LO5xmNzjAfzsE+F8/XFxdsRo+XKYPTtflLMtUEPoDiGeBEQA97gTbwebAf8PFSg+48IF+O9/Pf9+nTyp4p3rrFhhQ8U++ujSEG8IrGHV7Ip3LjCizQjvGrpJ5+pX/v3XDtEdP27n1/KBeOcG/v6JHA9cDtwuIpllyI0CrjfGdDDGFAIeB44BW3PfRMXXrFtn57Pfecdzm+rV886eS5JFi2yGtenTbepQJfDxQbrP9IKdYYjcGWev+Ow+bNSqZev6+rIQTMr1L1kCzZvbrG1ffRU4YX9+wJ9x4DWAPdiY7kSnTQOBX4C/gCtEZJ+j/d3Am0AF4HdgsIi4c3hzQYfQA4f4eJti+tVXXT3Mg4Jcp67CwmzWtZ49897GS4K5c62n+TffZJnBS8kF/DB0niMupsftbK+veu7JyTZW/7337IPBTTf55rh5iK+H0P2WiU1E9gKZ3dni6drPAmblqlFKrvHnn9CnD2zYkLauWDHbCy9e3Nby3rfP9rxffVXFO9f44gtb8OKHH2zFLSXvya5459NCG4AtEOMr7rnH5ilYu/aSifPOCk2lquQqSUlWpF980fbAU2jVCqZMsbUiQAU7T/j0U1ugY9EiG26jBC7+9oj3BRERrhWHLpaKFWHGjIKbkz8HqIArucY//9h63atWpa0LCbFx3sOGFZz02vmCMWPgrbdsQvn69f1tjZIZ+bnHnYKvHd5KloRx43x7zAKACrjic5KTbV2CZ56B8+fT1jdtCtOm2YpiSh7y+us2oP7nn23GHCVwKQg9b1/z++9w9dX+tiIg8bcXulLA2LfPZjMcMiRNvAsXhpEjbWVGFe88RMQOmU+bZks6qngrmZE+F7snIiIgJsamKn3//bRQvNwaOVDx9oj2wBWfIAJTp9qhceeaBVdeafVD06DmMSLwxBM2ycXy5bZmtBIYRER4TibjT7x1rjt0CHr1sn4UQ4dmf//s4O//SYCjAq5cNIcP2yqM332Xts4YW9zp5ZfV5yTPSUqCRx6xrv8//ZTj/NlKLpHfc3G/956tl75ypf2i5yQszlvy+/8ql1EBVy6Kr7+2WnH8eNq6unVtb7xFC//ZdcmSkAD9+tlwm4ULbXUYRfElr78Ov/1mQ0hyM5uc9r6zROfAlRxx4gT06GGTITmL9+DBtpa3ircfiIuDbt3g1CmYN0/FW8kcb+e80xMVZf0pfC3eMTH+T2+bz1ABV7LNvHnQsKENyUyhWjUbXjx2rE3QouQx58/DHXfY2LzZsyE01N8WKYFOTgV4wgRbetbXhIX5/pgFHB1CV7zm7Fl48kn45BPX9f362WmxUqX8YZXCmTO2oljNmjZZS2H9Wiu5yCxNiBko6Ddd8Yply+CBB2DPnrR1ERE2Z/kdd/jLKoUTJ+DWW62b/4cfagk3RbmE0G+7kimxsfD447ZugLN4/+c/1slZxduPHDlib0yrVjZLlYq3kl9Rh7UcoT1wxSO//WZToW7fnrauTBnb0bv//sAqD3zJsX8/dOhgb8SIEXozlPyJZp67KPSRXclAfLytDtaihat433qr7XV376564Vd27YLWrW295chIvRlKzvDU682r3rCOGF002gNXXNi82Zb93LQpbV3x4vDuu7aEtGqFn9m2DW6+GZ5/Hh591N/WKPmZzMK0cvJF97YGuPa6fYY+AikAJCbCa69Bs2au4t22Lfzxh+3sqXj7mY0b7Zz3qFEq3krukt1euM5h+wXtgSts327nun/7LW1d0aI24dLQoTrSFRD89pv1GPzwQ+tBqCi5SUrvPKun9ogITbjiR/Sn+RImORk++MAW+3EW7+bNYcMGW5hExTsAWL4cbr/dxnireCt5SWbz5JllS/P3/Polgl9/no0xIcaYScaYvcaYs8aYjcaYW73Yb4kxRowxOoKQQ/butU7Mw4bZUDGA4GB49VVbo+Cyy/xrn+Jg/nybr3bmTOjSxd/WKJcahw+7pjf1Ns1pTvdTsoW/BbAw8C/QBtgHdAa+NMY0EpE97nYwxvQEgvPMwgKGiO3IPfGEzayWQuPGtuznVVf5zzYlHbNn2zJvc+ZocnlFUTLg1x64iMSISKSI7BGRZBH5HtgNNHXX3hhTChgBPJOXdhYUDh2yI7H9+6eJd1CQdWhes0bFO6CIioJBg2wPXMVbURQ3+LsH7oIxJgKoD2zx0GQ0MB7IdBzGGDMAGABQvXp1X5qYb5k50+rByZNp6+rXt2U/r7/ef3Ypbpg40RZSX7IErrjC39YoihKgBIyLkjEmGJgOTBWRbW62NwNaAmOyOpaITBSRZiLSrHz58r43Nh9x7Bjcd59NvuIs3o89Zh3VVLwDjHffhdGjbfJ5FW9FUTIhIHrgxpgg4DMgHhjiYfs4YJiIJBoNSPaKuXPh4YddqwbWqAGTJ9twYiWAELEehNOmwc8/g44cKYqSBX7vgRurxpOACOAeEUlw06wk0Az4whhzGFjrWL/fGNMqbyzNP5w+DQ8+aMOGncX7oYdspjUV7wBDBJ57Dr74QsVbURSvCYQe+HjgcqCDiMR6aHMaqOz0vhqwBuvsFp275uUvliyx4r1vX9q6ihVtDW+NQgpAkpPtfMbq1XbYPDzc3xYpipJP8KuAG2NqAAOBOOCw09D4QOAX4C/gChHZh5PjmjGmqOPlERFJzDuLA5fz5+HZZ2HsWNf1999v16kuBCBJSTYk4O+/7ZNXqVL+tkhRlHyEXwVcRPYCmU1oF/ew354s9ruk+PVXmwr177/T1oWH2xLR3br5zy4lE+LjoXdvOHECFiyAYsX8bZGiKPkMv8+BKzknLs5Ond54o6t433abLfup4h2gXLgA99xjU+DNnavirShKjgiEOXAlB2zYYMt+/vln2rqSJeH9921vXB31A5SYGLjzTihXDj77zOavVRRFyQHaA89nJCbaapLNm7uKd7t2tuxnv34q3gHL6dNwyy3Wy3z6dBVvRVEuChXwfMS2bTar5osvWiEHCA2FMWNg0SKNPgpojh2zT1lXX21DAgoV8rdFiqLkc1TA8wHJyTZB19VXw9q1aetvuAE2bYIhQ7TsZ0Bz6BC0bQsdO9r6rXqzFEXxAfpLEuDs3m0Trzz5pPV9AihSBF5/HX75BerV8699Shbs2wetW9tctq+9pvMbiqL4DHViC1BE4OOPrXDHxKStb9LEZtts1Mhvpine8s8/tuj644/bRVEUxYcYEfG3DbmKMeYssN3fdviQcsAxfxvhYwraNRW06wG9pvxAQbseKHjX1EBESvjqYJdCD3y7iDTztxG+whizriBdDxS8aypo1wN6TfmBgnY9UPCuyRizzpfH0zlwRVEURcmHqIAriqIoSj7kUhDwif42wMcUtOuBgndNBe16QK8pP1DQrgcK3jX59HoKvBOboiiKohRELoUeuKIoiqIUOFTAFUVRFCUfkq8E3BgTYoyZZIzZa4w5a4zZaIy51UPbfsaYJGPMOaelrdP2msaYn4wx540x24wxHfLqOtLZmZ1rmpDueuIcce4p25cZYy44bfdL/LsxJsoYc8gYc8YYs8MY0z+Ttk8YYw472n5qjAlx2hYQ98hhi1fXZIzpa4xZ72i33xjzpjGmsNP2gLhHDlu8vab88l3y9nryxffIGWNMPYdNUR62G2PMG8aY447lDWPS0v4ZY5o4PpfnHX+b5JnxbvDiep42xvzp+E3cbYx5Ot32PcaYWKd7tDBvLPeMF9cUaYxJSPfZq+20Pfv3SETyzQIUAyKBmtiHj9uAs0BNN237ASsyOdavwP8BocA9wCmgfCBfk5t9pwCfOr1fBvQPgPt0JRDieH0ZcBho6qbdLcARR/syDvtfD7R7lM1rehRoBRQBqgDrgf8F2j3K5jXll++SV9fjZr+A/B6ls3Eh8AsQ5WH7QGzCqqqOz91fwCOObUWAvcATQAjwmON9kQC+nmeAa7C5Sho47L3fafseoIO/70s2rykyk205ukf5qgcuIjEiEikie0QkWUS+B3YDTbNzHGNMfeyHY4SIxIrIN8Af2B+fPCWn12SMKYa1d2pe2JkdRGSLiMSlvHUsddw07QtMcrQ/CbyCFYuAukfg/TWJyHgR+UVE4kXkADAdaJmHpnpNNu6TRwLpPuXkegL5e5SCMeZ+7EPRkkya9QXeEZH9js/dOzi+S0BbrBC+JyJxIvIBYIB2uWVzZnhzPSLypoj8LiKJIrId+JYA/R6B1/coM9qSg3uUrwQ8PcaYCKA+sMVDk6uNMcccw2kvOg1lXgnsEpGzTm03Odb7FS+uKYV7gGjg53TrX3Nc80rnYc68xhgzzhhzHtgGHALmuWl2Jfb/nsImIMIYE04A3iMvryk9rcl4LwPiHkG2rilffJdycI8C/XtUEngZeDKLpu6+S1c6bdssjq6eg8344R5l43qc9zHYUa3036PpxphoY8xCY8xVPjQzW2Tzmm43xpwwxmwxxjzqtD5H9yjfCrgxJhjbu5kqItvcNPkZaAhUwH5JuwMp8yjFgdPp2p8GfJajNid4cU3O9AWmpbvhzwK1sUNoE4G5xphs9ah8hYgMwv4/WwGzgDg3zdLfh5TXJdxsS9nut3vk5TWlYox5EGgGvO20OmDuEXh9Tfnmu5Tde0SAf4+wo1KTRGR/Fu3cfZeKO8QvkO6Rt9fjTCRWqyY7reuJnXasAfwELDDGlPaNidnG22v6ErgcKA88DLxkjOnu2Jaje5QvBdwYEwR8BsQDQ9y1EZFdIrLbMSz9B/YJ6T+OzeeAkul2KYmde/YL3lyTU9vq2CGXac7rReQ3ETnrGIKZCqwEOueOxVkjIkkisgI7L/eomybp70PK67NutqVs99s9Aq+uCQBjzF3Aa8CtIpJajCHQ7pHDpkyvKb99l7JxjwL6e+RwYuoAvOtFc3ffpXOOB5OAuEfZvJ6UfYYAfYAuTtMjiMhKx5TNeRF5DTt83cq3FntlXxO8vCYR+UtEDjo+n6uA97nI71G+E3DHE+UkIAK4R0QSvNxVsHMKYIdiahtjnJ9uriLrYetcIQfX1BtYKSK7smjnfM3+pDDu5yK3YP/vKVwFHBGR4wTYPXKDp2vCGNMJ+Bi43SF4mREo9wgyuaZ0BOx3KR1ZXU+gf4/aYnuZ+4wxh4H/AvcYY35309bdd2mL07bGzl7pQGPy/h61xfvrSRnB+h/Q3ovebX64R+lJ/z3K/j3KzMMtEBdgArAaKJ5Fu1uBCMfry4A/sY42KdtXY4c2iwJd8a+Hs1fX5NR+O/BgunWlsV7dRbE/XD2BGKB+Hl9LBeB+7JBQIYdNMcAdbtp2wnoKX+GwfymuXugBcY+yeU3tgONAazfbAuIe5eCaAv67lJ3rcdonYL9HDlvCgIpOy9vA1+7+t8AjwFbssH9l7A9/ei/0YVgP5yH4wQs9m9fT0/HbcLmbbdWxDm1FHPfpaawfQ3iA36M7sdE2BmgOHAD6Xsw9ytOL9cE/qwb2qeUCdsghZenpuKnngOqOtm9jQ5RigF3YYb9gp2PVxIaLxDq+yH4JScjONTna3+C4phLpjlMeWIsdcjmF/VG92Q/XUx5Y7rDhDNYj+WHHNnfX86TjPp3BznGFBOA98vqasPNxienu5Y+BdI9ycE0B/13KwecuoL9HHq4xEkcYEna4+JzTNgO8CZxwLG/iSJXt2H41NqQxFvgduDrAr2c3kJDuezTBse1KrINXDPZheQnQzN/X48U1zXDYew7rZPlYun2zfY80F7qiKIqi5EPy3Ry4oiiKoigq4IqiKIqSL1EBVxRFUZR8iAq4oiiKouRDVMAVRVEUJR+iAq4oiqIo+RAVcEVRFEXJh6iAK4qiKEo+RAVcUZRUjDFhxpiXjDHbjDEXjDH/GmNGOyrlKYoSQGgmNkVRADDGVAIWA/WA2cAe4DZsrvqJIjLQf9YpipIeFXBFUTDGFAFWYYuV3CIiKx3ri2MLY1QFqojIYf9ZqSiKMzqErigK2DKITYFnU8QbQETOYXvjQfih3rKiKJ5RAVeUSxxjTCi2JOMhYKKbJscdfyvmmVGKomSJCriiKF2xdbA/F5EEN9uLOv7G55lFiqJkSWF/G6Aoit/p4vhbxRgT6WZ7B8fff/PGHEVRvEGd2BTlEscYsxeo7kXTWiKyJ5fNURTFS3QIXVEuYYwxxbDivUVETPoFKAkkAP86i7cxZpAxZrcjVny9MUYd3BQlj1EBV5RLmyqOvwc8bO8IBAPzUlYYY+4D3gdGA1djw89+NMZ404tXFMVHqIAryqVNEcffOA/bH3D8/dRp3ZPAFBH5WES2ishQrAf7o7lko6IoblABV5RLm5TELBlCxIwx1wOdgR9FZI1jXRFsvPjCdM0XAi1y0U5FUdKhAq4olzAicgzYCjQ1xjROWW+MqQHMAE4Dg5x2KQcUAo6kO9QRNE5cUfIUDSNTFGUUMB1YYoyJAooB3QABuqjnuaIEJtoDV5RLHBH5HOgHHMXOY3cGvgQaisiqdM2PAUlARLr1EaQNxyuKkgdoHLiiKNnCGPMbsElEBjit2wF8IyLP+c8yRbm00CF0RVGyy/8Bnxlj1gArgUeAysAEv1qlKJcYKuCKomQLEfnCGBMODAcqAX8CnUVkr38tU5RLCx1CVxRFUZR8iDqxKYqiKEo+RAVcURRFUfIhKuCKoiiKkg9RAVcURVGUfIgKuKIoiqLkQ1TAFUVRFCUfogKuKIqiKPkQFXBFURRFyYf8P1Swr9z8w44tAAAAAElFTkSuQmCC\" width=\"600\">"
   ]
  }
 ],
 "metadata": {
  "kernelspec": {
   "display_name": "Python 3",
   "language": "python",
   "name": "python3"
  },
  "language_info": {
   "codemirror_mode": {
    "name": "ipython",
    "version": 3
   },
   "file_extension": ".py",
   "mimetype": "text/x-python",
   "name": "python",
   "nbconvert_exporter": "python",
   "pygments_lexer": "ipython3",
   "version": "3.7.7"
  }
 },
 "nbformat": 4,
 "nbformat_minor": 4
}
