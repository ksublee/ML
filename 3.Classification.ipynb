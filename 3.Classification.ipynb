{
 "cells": [
  {
   "cell_type": "markdown",
   "metadata": {},
   "source": [
    "## Classification\n",
    "\n",
    "반응변수가 질적 변수인 경우들이 많이 있다.\n",
    "\n",
    "질적 변수들의 예:\n",
    "\n",
    "\\begin{align*}\n",
    "&\\textrm{eye color} \\in \\{ \\textrm{brown}, \\textrm{blue}, \\textrm{green} \\}  \\\\\n",
    "&\\textrm{email} \\in \\{\\textrm{spam}, \\textrm{ham} \\} \n",
    "\\end{align*}\n",
    "\n",
    "질적 반응변수를 예측하는 분류 (classfication)에 대해 알아보자. 크게 두 가지 방법이 있다.\n",
    "\n",
    "* 주어진 입력 변수 $X$에 대해 클래스를 결정하는 함수 $C(X)$를 찾는 방법  \n",
    "* 입력 변수 $X$가 어떤 클래스에 속하는 확률을 구하는 방법\n",
    "\n",
    "질적 반응 변수가 두 개의 클래스로 이루어진 경우 선형회귀 방법 또한 잘 작동한다. 하나의 클래스를 0으로 다른 하나를 1로 설정한다.\n",
    "\n",
    "이는 나중에 살펴볼 linear discriminat analysis와 동치이다.\n",
    "\n",
    "하지만, 클래스의 숫자가 늘어나면 선형회귀 방법은 적용하기 어렵다. \n",
    "\n",
    "예를 들어, 응급실에 환자가 도착한 경우, 증상에 따른 분류를 다음의 숫자들로 치환하여 선형회귀를 진행할 수 있다.\n",
    "\n",
    "$$\n",
    "    Y = \n",
    "\\begin{cases}\n",
    "    1, & \\text{if stroke;} \\\\\n",
    "    2, & \\text{if drug overdose;} \\\\\n",
    "    3, & \\text{if epileptic seizure.}\n",
    "\\end{cases}\n",
    "$$\n",
    "\n",
    "하지만, 위 코딩은 $Y$에 순서 구조와 거리 구조를 강제하며, 이는 질적 변수의 특징이 아니다.\n",
    "\n",
    "따라서 분류를 위해 특별히 고안된 방법들을 사용하는 것이 좋겠다."
   ]
  },
  {
   "cell_type": "markdown",
   "metadata": {},
   "source": [
    "### Logistic regression\n",
    "\n",
    "balance라는 입력 변수를 이용하여 default의 여부를 예측하는 문제를 생각해 보자. Default에 대한 반응변수 $Y$는 다음과 같이 코딩한다.\n",
    "\n",
    "$$\n",
    "    Y = \n",
    "\\begin{cases}\n",
    "    0, & \\text{if No;} \\\\\n",
    "    1, & \\text{if Yes.} \n",
    "\\end{cases}\n",
    "$$\n",
    "\n",
    "주어진 $X$에 대해 default가 발생할 확률을 다음과 같이 표현하자.\n",
    "\n",
    "$$ p(X) = \\mathbb P (Y = 1 | X)$$\n",
    "\n",
    "Logistic regression에서는 다음의 식을 가정한다.\n",
    "\n",
    "$$ p(X) = \\frac{e^{\\theta_0 + \\theta_1 X}}{1 + e^{\\theta_0 + \\theta_1 X}} $$\n",
    "\n",
    "위와 같이 가정하면 $\\theta$나 $X$의 값에 상관없이 $p(X)$는 항상 0과 1 사이의 값을 취한다.\n",
    "\n",
    "또한, 위 식은 다음으로도 표현되며, $p(X)$의 log odds 혹은 logit transformation이라고도 불리운다.\n",
    "\n",
    "$$ \\log \\left( \\frac{p(X)}{1 - p(X)}\\right)  = \\theta_0 + \\theta_1 X $$"
   ]
  },
  {
   "cell_type": "markdown",
   "metadata": {},
   "source": [
    "### Maximum likelihood\n",
    "\n",
    "관찰값 $\\{x_i, y_i \\}$가 주어졌을 때, logistic regression의 모수 $\\theta_0, \\theta_1$을 추정하기 위해, likelihood 함수를 정의하자.\n",
    "\n",
    "$$ \\ell (\\theta_0, \\theta_1) = \\prod_{i:y_i=1} p(x_i) \\prod_{i:y_i=0}(1-p(x_i)) $$\n",
    "\n",
    "여기서 $p(x_i) = \\frac{e^{\\theta_0 + \\theta_1 x_i}}{1 + e^{\\theta_0 + \\theta_1 x_i}}$ 이므로 위 식의 우변은 $\\theta_0, \\theta_1$의 함수이다.\n",
    "\n",
    "추정량 $\\hat \\theta_0, \\hat \\theta_1$은 $\\ell (\\theta_0, \\theta_1)$를 최대화하는 값들로 다음으로 표현된다.\n",
    "\n",
    "$$ \\hat \\theta_0, \\hat \\theta_1 = \\arg \\max_{\\theta_0, \\theta_1} \\ell (\\theta_0, \\theta_1) $$\n",
    "\n",
    "$\\hat \\theta_0, \\hat \\theta_1$의 추정치가 결정되면 이를 이용하여 주어진 $X$에 대해 default 확률을 추정할 수 있다.\n",
    "\n",
    "$$ \\hat p(X) = \\frac{e^{\\hat \\theta_0 + \\hat \\theta_1 X}}{1 + e^{\\hat \\theta_0 + \\hat \\theta_1 X}} $$"
   ]
  },
  {
   "cell_type": "markdown",
   "metadata": {},
   "source": [
    "### 여러 입력변수로 확장\n",
    "\n",
    "로지스틱 회귀는 자연스럽게 여러 입력변수를 가지는 모형으로도 확장 가능하다.\n",
    "\n",
    "$$ \\log \\left( \\frac{p(X)}{1 - p(X)}\\right)  = \\theta_0 + \\theta_1 X_1 + \\cdots + \\theta_p X_p  $$\n",
    "\n",
    "혹은,\n",
    "\n",
    "$$ p(X) = \\frac{e^{\\theta_0 + \\theta_1 X_1 + \\cdots + \\theta_p X_p}}{1 + e^{\\theta_0 + \\theta_1 X_1 + \\cdots + \\theta_p X_p}} $$\n"
   ]
  },
  {
   "cell_type": "markdown",
   "metadata": {},
   "source": [
    "### 로지스틱 회귀의 gradient vector\n",
    "\n",
    "앞서 공부한 경사하강법은 로지스틱 회귀방법에도 적용 가능하다.\n",
    "\n",
    "훈련 샘플 하나에 대한 손실 함수를 다음으로 두자.\n",
    "\n",
    "$$ c(\\boldsymbol{\\theta}) = \\left\\{\\begin{array}{lr}\n",
    "        -\\log(p), & \\text{if } y = 1\\\\\n",
    "        -\\log(1 - p), & \\text{if } y = 0\\\\\n",
    "        \\end{array}\\right.\n",
    "$$\n",
    "\n",
    "이를 전체 샘플에 평균으로 적용하여 확장하면, 비용함수는\n",
    "$$ J(\\boldsymbol{\\theta}) = -\\frac{1}{N} \\sum_{i=1}^{N} \\left[ y_i \\log(p_i) + (1 - y_i)\\log(1- p_i) \\right]$$\n",
    "이며, 여기서\n",
    "$$ \\ p_i = \\sigma(\\boldsymbol{\\theta} \\cdot x_i) = \\frac{1}{1 + \\exp( - \\boldsymbol{\\theta} \\cdot x_i)} = \\frac{1}{1 + \\exp( - \\theta_0 - x_{i1} \\theta_1 - \\cdots -  x_{ip} \\theta_p )}. $$\n",
    "\n",
    "다음에 대해\n",
    "$$ \\sigma(t) = \\frac{1}{1 + \\exp(-t)} $$\n",
    "미분은\n",
    "$$ \\frac{d}{d t}\\sigma(t) = \\sigma(t) (1 - \\sigma(t))$$\n",
    "와 같이 주어지므로, 비용함수의 편미분을 다음과 같이 계산할 수 있다.\n",
    "\n",
    "\\begin{align*}\n",
    "\\frac{\\partial }{\\partial \\theta_j} J(\\theta) &= -\\frac{1}{N} \\sum_{i=1}^{N} \n",
    "\\left[ y_i  \\frac{ \\frac{\\partial }{\\partial \\theta_j} \\sigma(\\theta \\cdot x_i)}{\\sigma(\\theta \\cdot x_i)} + (1 - y_i)  \\frac{ \\frac{\\partial }{\\partial \\theta_j} \\left\\{ 1 - \\sigma(\\theta \\cdot x_i) \\right\\} }{1 - \\sigma(\\theta \\cdot x_i)} \\right]\\\\\n",
    "&= -\\frac{1}{N} \\sum_{i=1}^{N} \n",
    "\\left[ y_i  \\frac{\\sigma(\\theta \\cdot x_i)(1 - \\sigma(\\theta \\cdot x_i)) }{\\sigma(\\theta \\cdot x_i)}x_{ij} + (1 - y_i)  \\frac{ \\sigma(\\theta \\cdot x_i)(1 - \\sigma(\\theta \\cdot x_i)) } {1 - \\sigma(\\theta \\cdot x_i)}x_{ij} \\right] \\\\\n",
    "&= - \\frac{1}{N}  \\sum_{i=1}^{N} \\left[ y_i - \\sigma(\\theta \\cdot x_i) y_i - \\sigma(\\theta \\cdot x_i) + \\sigma(\\theta \\cdot x_i) y_i \\right] x_{ij} \\\\\n",
    "& = \\frac{1}{N}  \\sum_{i=1}^{N} \\left[ \\sigma(\\theta \\cdot x_i) - y_i\\right] x_{ij} \\\\\n",
    "& = \\frac{1}{N}  \\mathbf x_j^{\\top} ( \\sigma(\\mathbf X \\theta) - \\mathbf y).\n",
    "\\end{align*}\n",
    "\n",
    "따라서 비용함수의 gradient vector는\n",
    "\\begin{equation*}\n",
    "\\nabla_\\theta J (\\theta) =  \\frac{1}{N} \\mathbf X^{\\top} ( \\sigma(\\mathbf X \\theta) - \\mathbf y).\n",
    "\\end{equation*}"
   ]
  },
  {
   "cell_type": "code",
   "execution_count": 1,
   "metadata": {},
   "outputs": [],
   "source": [
    "from sklearn import datasets\n",
    "iris = datasets.load_iris()"
   ]
  },
  {
   "cell_type": "code",
   "execution_count": 2,
   "metadata": {},
   "outputs": [
    {
     "data": {
      "text/plain": [
       "['data',\n",
       " 'target',\n",
       " 'frame',\n",
       " 'target_names',\n",
       " 'DESCR',\n",
       " 'feature_names',\n",
       " 'filename']"
      ]
     },
     "execution_count": 2,
     "metadata": {},
     "output_type": "execute_result"
    }
   ],
   "source": [
    "list(iris.keys())"
   ]
  },
  {
   "cell_type": "code",
   "execution_count": 3,
   "metadata": {},
   "outputs": [
    {
     "data": {
      "text/plain": [
       "['sepal length (cm)',\n",
       " 'sepal width (cm)',\n",
       " 'petal length (cm)',\n",
       " 'petal width (cm)']"
      ]
     },
     "execution_count": 3,
     "metadata": {},
     "output_type": "execute_result"
    }
   ],
   "source": [
    "iris[\"feature_names\"]"
   ]
  },
  {
   "cell_type": "code",
   "execution_count": 4,
   "metadata": {},
   "outputs": [
    {
     "data": {
      "text/plain": [
       "array(['setosa', 'versicolor', 'virginica'], dtype='<U10')"
      ]
     },
     "execution_count": 4,
     "metadata": {},
     "output_type": "execute_result"
    }
   ],
   "source": [
    "iris[\"target_names\"]"
   ]
  },
  {
   "cell_type": "code",
   "execution_count": 5,
   "metadata": {},
   "outputs": [
    {
     "data": {
      "text/html": [
       "<div>\n",
       "<style scoped>\n",
       "    .dataframe tbody tr th:only-of-type {\n",
       "        vertical-align: middle;\n",
       "    }\n",
       "\n",
       "    .dataframe tbody tr th {\n",
       "        vertical-align: top;\n",
       "    }\n",
       "\n",
       "    .dataframe thead th {\n",
       "        text-align: right;\n",
       "    }\n",
       "</style>\n",
       "<table border=\"1\" class=\"dataframe\">\n",
       "  <thead>\n",
       "    <tr style=\"text-align: right;\">\n",
       "      <th></th>\n",
       "      <th>0</th>\n",
       "      <th>1</th>\n",
       "      <th>2</th>\n",
       "      <th>3</th>\n",
       "    </tr>\n",
       "  </thead>\n",
       "  <tbody>\n",
       "    <tr>\n",
       "      <th>0</th>\n",
       "      <td>5.1</td>\n",
       "      <td>3.5</td>\n",
       "      <td>1.4</td>\n",
       "      <td>0.2</td>\n",
       "    </tr>\n",
       "    <tr>\n",
       "      <th>1</th>\n",
       "      <td>4.9</td>\n",
       "      <td>3.0</td>\n",
       "      <td>1.4</td>\n",
       "      <td>0.2</td>\n",
       "    </tr>\n",
       "    <tr>\n",
       "      <th>2</th>\n",
       "      <td>4.7</td>\n",
       "      <td>3.2</td>\n",
       "      <td>1.3</td>\n",
       "      <td>0.2</td>\n",
       "    </tr>\n",
       "    <tr>\n",
       "      <th>3</th>\n",
       "      <td>4.6</td>\n",
       "      <td>3.1</td>\n",
       "      <td>1.5</td>\n",
       "      <td>0.2</td>\n",
       "    </tr>\n",
       "    <tr>\n",
       "      <th>4</th>\n",
       "      <td>5.0</td>\n",
       "      <td>3.6</td>\n",
       "      <td>1.4</td>\n",
       "      <td>0.2</td>\n",
       "    </tr>\n",
       "    <tr>\n",
       "      <th>...</th>\n",
       "      <td>...</td>\n",
       "      <td>...</td>\n",
       "      <td>...</td>\n",
       "      <td>...</td>\n",
       "    </tr>\n",
       "    <tr>\n",
       "      <th>145</th>\n",
       "      <td>6.7</td>\n",
       "      <td>3.0</td>\n",
       "      <td>5.2</td>\n",
       "      <td>2.3</td>\n",
       "    </tr>\n",
       "    <tr>\n",
       "      <th>146</th>\n",
       "      <td>6.3</td>\n",
       "      <td>2.5</td>\n",
       "      <td>5.0</td>\n",
       "      <td>1.9</td>\n",
       "    </tr>\n",
       "    <tr>\n",
       "      <th>147</th>\n",
       "      <td>6.5</td>\n",
       "      <td>3.0</td>\n",
       "      <td>5.2</td>\n",
       "      <td>2.0</td>\n",
       "    </tr>\n",
       "    <tr>\n",
       "      <th>148</th>\n",
       "      <td>6.2</td>\n",
       "      <td>3.4</td>\n",
       "      <td>5.4</td>\n",
       "      <td>2.3</td>\n",
       "    </tr>\n",
       "    <tr>\n",
       "      <th>149</th>\n",
       "      <td>5.9</td>\n",
       "      <td>3.0</td>\n",
       "      <td>5.1</td>\n",
       "      <td>1.8</td>\n",
       "    </tr>\n",
       "  </tbody>\n",
       "</table>\n",
       "<p>150 rows × 4 columns</p>\n",
       "</div>"
      ],
      "text/plain": [
       "       0    1    2    3\n",
       "0    5.1  3.5  1.4  0.2\n",
       "1    4.9  3.0  1.4  0.2\n",
       "2    4.7  3.2  1.3  0.2\n",
       "3    4.6  3.1  1.5  0.2\n",
       "4    5.0  3.6  1.4  0.2\n",
       "..   ...  ...  ...  ...\n",
       "145  6.7  3.0  5.2  2.3\n",
       "146  6.3  2.5  5.0  1.9\n",
       "147  6.5  3.0  5.2  2.0\n",
       "148  6.2  3.4  5.4  2.3\n",
       "149  5.9  3.0  5.1  1.8\n",
       "\n",
       "[150 rows x 4 columns]"
      ]
     },
     "execution_count": 5,
     "metadata": {},
     "output_type": "execute_result"
    }
   ],
   "source": [
    "import pandas as pd\n",
    "pd.DataFrame(iris[\"data\"])"
   ]
  },
  {
   "cell_type": "code",
   "execution_count": 6,
   "metadata": {},
   "outputs": [
    {
     "data": {
      "text/plain": [
       "array([0, 0, 0, 0, 0, 0, 0, 0, 0, 0, 0, 0, 0, 0, 0, 0, 0, 0, 0, 0, 0, 0,\n",
       "       0, 0, 0, 0, 0, 0, 0, 0, 0, 0, 0, 0, 0, 0, 0, 0, 0, 0, 0, 0, 0, 0,\n",
       "       0, 0, 0, 0, 0, 0, 0, 0, 0, 0, 0, 0, 0, 0, 0, 0, 0, 0, 0, 0, 0, 0,\n",
       "       0, 0, 0, 0, 0, 0, 0, 0, 0, 0, 0, 0, 0, 0, 0, 0, 0, 0, 0, 0, 0, 0,\n",
       "       0, 0, 0, 0, 0, 0, 0, 0, 0, 0, 0, 0, 1, 1, 1, 1, 1, 1, 1, 1, 1, 1,\n",
       "       1, 1, 1, 1, 1, 1, 1, 1, 1, 1, 1, 1, 1, 1, 1, 1, 1, 1, 1, 1, 1, 1,\n",
       "       1, 1, 1, 1, 1, 1, 1, 1, 1, 1, 1, 1, 1, 1, 1, 1, 1, 1])"
      ]
     },
     "execution_count": 6,
     "metadata": {},
     "output_type": "execute_result"
    }
   ],
   "source": [
    "import numpy as np\n",
    "X = iris[\"data\"][:, 3:] # petal width\n",
    "y = (iris[\"target\"] == 2).astype(np.int)\n",
    "y"
   ]
  },
  {
   "cell_type": "code",
   "execution_count": 7,
   "metadata": {},
   "outputs": [
    {
     "data": {
      "text/plain": [
       "LogisticRegression()"
      ]
     },
     "execution_count": 7,
     "metadata": {},
     "output_type": "execute_result"
    }
   ],
   "source": [
    "from sklearn.linear_model import LogisticRegression\n",
    "\n",
    "log_reg = LogisticRegression()\n",
    "log_reg.fit(X, y)"
   ]
  },
  {
   "cell_type": "code",
   "execution_count": 8,
   "metadata": {},
   "outputs": [],
   "source": [
    "X_new = np.linspace(0, 3, 1000).reshape(-1, 1)\n",
    "y_proba = log_reg.predict_proba(X_new)"
   ]
  },
  {
   "cell_type": "code",
   "execution_count": 9,
   "metadata": {
    "scrolled": true
   },
   "outputs": [
    {
     "data": {
      "text/html": [
       "<div>\n",
       "<style scoped>\n",
       "    .dataframe tbody tr th:only-of-type {\n",
       "        vertical-align: middle;\n",
       "    }\n",
       "\n",
       "    .dataframe tbody tr th {\n",
       "        vertical-align: top;\n",
       "    }\n",
       "\n",
       "    .dataframe thead th {\n",
       "        text-align: right;\n",
       "    }\n",
       "</style>\n",
       "<table border=\"1\" class=\"dataframe\">\n",
       "  <thead>\n",
       "    <tr style=\"text-align: right;\">\n",
       "      <th></th>\n",
       "      <th>0</th>\n",
       "      <th>0</th>\n",
       "      <th>1</th>\n",
       "    </tr>\n",
       "  </thead>\n",
       "  <tbody>\n",
       "    <tr>\n",
       "      <th>0</th>\n",
       "      <td>0.000000</td>\n",
       "      <td>0.999250</td>\n",
       "      <td>0.000750</td>\n",
       "    </tr>\n",
       "    <tr>\n",
       "      <th>1</th>\n",
       "      <td>0.003003</td>\n",
       "      <td>0.999240</td>\n",
       "      <td>0.000760</td>\n",
       "    </tr>\n",
       "    <tr>\n",
       "      <th>2</th>\n",
       "      <td>0.006006</td>\n",
       "      <td>0.999230</td>\n",
       "      <td>0.000770</td>\n",
       "    </tr>\n",
       "    <tr>\n",
       "      <th>3</th>\n",
       "      <td>0.009009</td>\n",
       "      <td>0.999220</td>\n",
       "      <td>0.000780</td>\n",
       "    </tr>\n",
       "    <tr>\n",
       "      <th>4</th>\n",
       "      <td>0.012012</td>\n",
       "      <td>0.999210</td>\n",
       "      <td>0.000790</td>\n",
       "    </tr>\n",
       "    <tr>\n",
       "      <th>...</th>\n",
       "      <td>...</td>\n",
       "      <td>...</td>\n",
       "      <td>...</td>\n",
       "    </tr>\n",
       "    <tr>\n",
       "      <th>995</th>\n",
       "      <td>2.987988</td>\n",
       "      <td>0.003165</td>\n",
       "      <td>0.996835</td>\n",
       "    </tr>\n",
       "    <tr>\n",
       "      <th>996</th>\n",
       "      <td>2.990991</td>\n",
       "      <td>0.003124</td>\n",
       "      <td>0.996876</td>\n",
       "    </tr>\n",
       "    <tr>\n",
       "      <th>997</th>\n",
       "      <td>2.993994</td>\n",
       "      <td>0.003084</td>\n",
       "      <td>0.996916</td>\n",
       "    </tr>\n",
       "    <tr>\n",
       "      <th>998</th>\n",
       "      <td>2.996997</td>\n",
       "      <td>0.003044</td>\n",
       "      <td>0.996956</td>\n",
       "    </tr>\n",
       "    <tr>\n",
       "      <th>999</th>\n",
       "      <td>3.000000</td>\n",
       "      <td>0.003005</td>\n",
       "      <td>0.996995</td>\n",
       "    </tr>\n",
       "  </tbody>\n",
       "</table>\n",
       "<p>1000 rows × 3 columns</p>\n",
       "</div>"
      ],
      "text/plain": [
       "            0         0         1\n",
       "0    0.000000  0.999250  0.000750\n",
       "1    0.003003  0.999240  0.000760\n",
       "2    0.006006  0.999230  0.000770\n",
       "3    0.009009  0.999220  0.000780\n",
       "4    0.012012  0.999210  0.000790\n",
       "..        ...       ...       ...\n",
       "995  2.987988  0.003165  0.996835\n",
       "996  2.990991  0.003124  0.996876\n",
       "997  2.993994  0.003084  0.996916\n",
       "998  2.996997  0.003044  0.996956\n",
       "999  3.000000  0.003005  0.996995\n",
       "\n",
       "[1000 rows x 3 columns]"
      ]
     },
     "execution_count": 9,
     "metadata": {},
     "output_type": "execute_result"
    }
   ],
   "source": [
    "pd.concat([pd.DataFrame(X_new), pd.DataFrame(y_proba)], axis=1)"
   ]
  },
  {
   "cell_type": "code",
   "execution_count": 10,
   "metadata": {},
   "outputs": [],
   "source": [
    "import matplotlib.pyplot as plt"
   ]
  },
  {
   "cell_type": "code",
   "execution_count": 11,
   "metadata": {},
   "outputs": [],
   "source": [
    "%matplotlib inline"
   ]
  },
  {
   "cell_type": "code",
   "execution_count": 12,
   "metadata": {
    "scrolled": true
   },
   "outputs": [
    {
     "data": {
      "image/png": "[encoded data removed]",
      "text/plain": [
       "<Figure size 432x288 with 1 Axes>"
      ]
     },
     "metadata": {
      "needs_background": "light"
     },
     "output_type": "display_data"
    }
   ],
   "source": [
    "plt.plot(X_new, y_proba[:, 1], \"g-\", label = \"virginica\")\n",
    "plt.plot(X_new, y_proba[:, 0], \"b--\", label = \"Not virginica\")\n",
    "plt.show()"
   ]
  },
  {
   "cell_type": "markdown",
   "metadata": {},
   "source": [
    "<img src=\"data:image/png;base64,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\" width=\"700\">"
   ]
  },
  {
   "cell_type": "markdown",
   "metadata": {},
   "source": [
    "### 여러 클래스에 대한 모형\n",
    "\n",
    "반응변수가 여러 클래스를 가질 때에도 확장 가능하다.\n",
    "\n",
    "$$ \\mathbb P (Y = k | X) = \\frac{e^{\\theta^{(k)}_0 + \\theta^{(k)}_1 X_1 + \\cdots + \\theta^{(k)}_p X_p}}{\\sum_{\\ell=1}^{K}e^{\\theta^{(\\ell)}_0 + \\theta^{(\\ell)}_1 X_1 + \\cdots + \\theta^{(\\ell)}_p X_p}} $$\n",
    "\n",
    "(각 클래스에 대한 총 $K$개의 식이 생성되지만, 실제로는 이 중 $K-1$개의 식이면 충분하다.)\n",
    "\n",
    "모수들은 각 클래스 $k$에 대해 $\\theta^{(k)}_0, \\theta^{(k)}_1, \\cdots, \\theta^{(k)}_p$의 총 $1+p$개가 존재한다.\n",
    "\n",
    "이를 multinomial regression 혹은 softmax regression이라고 부르기도 한다.\n",
    "\n",
    "(여러 클래스를 가지는 경우 다음에 살펴볼 discriminant analysis를 사용하는 방법도 있다.)"
   ]
  },
  {
   "cell_type": "markdown",
   "metadata": {},
   "source": [
    "#### gradient for softmax\n",
    "\n",
    "소프트맥스 회귀의 경우도 그레디언트 벡터를 구할 수 있다.\n",
    "\n",
    "$K$개의 클래스가 있다고 하자. 다시 말해, $ y_i \\in \\{ 1, \\cdots, K \\}$.\n",
    "\n",
    "편의를 위해 $p_{i}^{(k)}$를 다음으로 정의하자.\n",
    "\n",
    "$$ p_{i}^{(k)} =  P(y_i = k | x_i, \\Theta ) = \\frac{\\exp(\\theta^{(k)} \\cdot x_i)}{\\sum_{\\ell=1}^{K} \\exp(\\theta^{(\\ell)} \\cdot x_i)} $$\n",
    "\n",
    "여기서\n",
    "\n",
    "$$\\Theta = \\begin{bmatrix} \\theta^{(1)} & \\theta^{(2)} & \\cdots & \\theta^{(K)} \\end{bmatrix}$$\n",
    "\n",
    "이고,\n",
    "\n",
    "$$ \\theta^{(k)} = \\begin{bmatrix} \\theta^{(k)}_0 & \\theta^{(k)}_1 & \\cdots & \\theta^{(k)}_p \\end{bmatrix}^{\\top} $$\n",
    "\n",
    "이다.\n",
    "\n",
    "\n",
    "비용 함수에 대한 cross entropy는 \n",
    "\n",
    "$$ J(\\Theta) = -\\frac{1}{N} \\sum_{i=1}^{N} \\sum_{\\ell = 1}^{K} y_i^{(\\ell)} \\log p_{i}^{(\\ell)} $$\n",
    "\n",
    "이며, 여기서\n",
    "\n",
    "$$ y_i^{(\\ell)} = \\mathbb {I}_{\\{ y_i=\\ell \\}}. $$\n",
    "\n",
    "\n",
    "$J$의 $\\theta^{(k)}$에 대한 그레디언트 벡터는 \n",
    "\n",
    "$$ \\nabla_{\\theta^{(k)}} J (\\Theta) = \\begin{bmatrix} \\frac{\\partial J(\\Theta)}{\\partial \\theta_0^{(k)}} \\\\ \\frac{\\partial J(\\Theta)}{\\partial \\theta_1^{(k)}} \\\\ \\vdots \\\\ \\frac{\\partial J(\\Theta)}{\\partial \\theta_p^{(k)}}  \\end{bmatrix} = \\frac{1}{N} \\sum_{i=1}^{N} ( p_i^{(k)} - y_i^{(k)} ) x_i .$$\n",
    "\n",
    "위 식을 유도하기 위해\n",
    "\n",
    "\\begin{align*}\n",
    "\\frac{\\partial J(\\Theta)}{\\partial \\theta_j^{(k)}}  &= -\\frac{1}{N} \\sum_{i=1}^{N} \\sum_{\\ell = 1}^{K} \\frac{\\partial}{\\partial \\theta_j^{(k)}}  y_i^{(\\ell)} \\log p_{(i)}^{(\\ell)} \\\\\n",
    "&= -\\frac{1}{N} \\sum_{i=1}^{N} \\sum_{\\ell = 1}^{K} y_i^{(\\ell)} \\frac{\\partial \\log p^{(\\ell)}_i }{\\partial p^{(\\ell)}_i}  \\frac{\\partial p^{(\\ell)}_i}{\\partial a^{(k)}} \\frac{\\partial a^{(k)}}{\\partial \\theta_{j}^{(k)}}\n",
    "\\end{align*}\n",
    "\n",
    "여기서\n",
    "\n",
    "$$ a^{(k)} = \\theta^{(k)} \\cdot x_i $$ \n",
    "\n",
    "이고\n",
    "\n",
    "$$ \\frac{{\\partial a^{(k)}}}{\\partial \\theta_{j}^{(k)}} = x_{ij}. $$\n",
    "\n",
    "따라서\n",
    "\n",
    "$$\\frac{\\partial J(\\Theta)}{\\partial \\theta_j^{(k)}} = -\\frac{1}{N} \\sum_{i=1}^{N} \\sum_{\\ell = 1}^{K} \\frac{y^{(\\ell)}_i}{p^{(\\ell)}_i}  \\frac{\\partial p^{(\\ell)}_i}{\\partial a^{(k)}}  x_{ij}.$$\n",
    "\n",
    "또한, 만약 $\\ell = k$ 이면,\n",
    "$$ \\frac{\\partial p^{(\\ell)}_i}{\\partial a^{(k)}} = \\frac{\\partial p^{(\\ell)}_i}{\\partial a^{(\\ell)}} = \\frac{\\partial}{\\partial a^{(\\ell)}} \\frac{\\exp(a^{(\\ell)})}{\\sum_{m=1}^{K} \\exp(a^{(m)})} = \\frac{\\exp(a^{(\\ell)})\\sum_{m=1}^{K} \\exp(a^{(m)}) -  \\exp(a^{(\\ell)}) \\exp(a^{(\\ell)})}{ (\\sum_{m=1}^{K} \\exp(a^{(m)}) )^2 } = p^{(\\ell)}_i \\left( 1 - p^{(\\ell)}_i \\right) $$\n",
    "이고, 만약 $\\ell \\neq k$ 이면\n",
    "$$ \\frac{\\partial p^{(\\ell)}_i}{\\partial a^{(k)}} =  - \\frac{ \\exp(a^{(\\ell)}) \\exp(a^{(k)})}{ (\\sum_{m=1}^{K} \\exp(a^{(m)}) )^2 } = -  p^{(k)}_i p^{(\\ell)}_i$$\n",
    "이다.\n",
    "\n",
    "그러므로,\n",
    "\\begin{align*}\n",
    "\\frac{\\partial J(\\Theta)}{\\partial \\theta_j^{(k)}} &= -\\frac{1}{N} \\sum_{i=1}^{N} \\left( y_i^{(k)} (1 - p_i^{(k)} )  - \\sum_{\\ell \\neq k} p_i^{(k)} y_i^{(\\ell)} \\right) x_{ij} \\\\\n",
    "&=  -\\frac{1}{N} \\sum_{i=1}^{N} \\left(y_i^{(k)} - p_i^{(k)} \\left(y_i^{(k)}  + \\sum_{\\ell \\neq k} y_i^{(\\ell)}\\right) \\right) x_{ij}  \\\\\n",
    "& = \\frac{1}{N} \\sum_{i=1}^N (p_i^{(k)} - y_i^{(k)} ) x_{ij}.\n",
    "\\end{align*}\n",
    "이다.\n",
    "\n",
    "위 식에서 $p_i^{(k)}$가 $\\theta^{(k)}$에 대한 함수이며, $x_{ij}$와 $y_i^{(k)}$는 관찰값들이다.\n",
    "\n",
    "다른 클래스들에 대하여도 위와 같은 그레디언트 벡터가 필요하다."
   ]
  },
  {
   "cell_type": "code",
   "execution_count": 13,
   "metadata": {},
   "outputs": [],
   "source": [
    "import numpy as np"
   ]
  },
  {
   "cell_type": "code",
   "execution_count": 14,
   "metadata": {},
   "outputs": [],
   "source": [
    "X = iris[\"data\"][:, (2, 3)]  # petal length, petal width\n",
    "y = iris[\"target\"]"
   ]
  },
  {
   "cell_type": "code",
   "execution_count": 15,
   "metadata": {},
   "outputs": [],
   "source": [
    "from sklearn.linear_model import LogisticRegression"
   ]
  },
  {
   "cell_type": "code",
   "execution_count": 16,
   "metadata": {},
   "outputs": [
    {
     "data": {
      "text/plain": [
       "LogisticRegression(multi_class='multinomial')"
      ]
     },
     "execution_count": 16,
     "metadata": {},
     "output_type": "execute_result"
    }
   ],
   "source": [
    "softmax_reg = LogisticRegression(multi_class = \"multinomial\", solver=\"lbfgs\")\n",
    "softmax_reg.fit(X, y)"
   ]
  },
  {
   "cell_type": "code",
   "execution_count": 17,
   "metadata": {},
   "outputs": [
    {
     "data": {
      "text/plain": [
       "array([0])"
      ]
     },
     "execution_count": 17,
     "metadata": {},
     "output_type": "execute_result"
    }
   ],
   "source": [
    "softmax_reg.predict([[2, 2]]) # petal length 5, petal width 2"
   ]
  },
  {
   "cell_type": "code",
   "execution_count": 18,
   "metadata": {},
   "outputs": [
    {
     "data": {
      "text/plain": [
       "array([[0.01485895, 0.77182184, 0.2133192 ]])"
      ]
     },
     "execution_count": 18,
     "metadata": {},
     "output_type": "execute_result"
    }
   ],
   "source": [
    "softmax_reg.predict_proba([[4, 2]])"
   ]
  },
  {
   "cell_type": "markdown",
   "metadata": {},
   "source": [
    "<img src=\"data:image/png;base64,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\" width=\"700\">"
   ]
  },
  {
   "cell_type": "markdown",
   "metadata": {},
   "source": [
    "### Linear discriminant analysis\n",
    "\n",
    "이전의 방법은 $\\mathbb P (Y=k | X=x)$의 확률을 계산하는 것이었다.\n",
    "\n",
    "Linear distcriminat analysis에서는 주어진 $Y$에 대해 $X$의 분포를 추정한다.\n",
    "\n",
    "만약 $X$의 분포가 정규분포라고 하면, 이 방법은 logistic regression과 매우 흡사하다.\n",
    "\n",
    "다음의 상황에서 linear discriminant analysis가 유용하게 사용될 수 있다.\n",
    "\n",
    "* 클래스들이 잘 분리되어 있을 때, logistic regression의 모수 추정은 불안정한 경우가 많다. 이 경우 LDA가 더 좋다.\n",
    "\n",
    "* 데이터의 개수가 상대적으로 작고, $X$의 분포가 정규분포와 흡사할 때, LDA가 logistic regression 보다 잘 작동하는 경우가 많다.\n",
    "\n",
    "* 2개 이상의 클래스가 있을 때, LDA는 유용하게 사용될 수 있다."
   ]
  },
  {
   "cell_type": "markdown",
   "metadata": {},
   "source": [
    "LDA는 Bayes 정리를 기반으로 한다.\n",
    "\n",
    "$Y$가 $K$개의 클래스를 가질 수 있다고 하자.\n",
    "\n",
    "$\\pi_k$를 임의로 선택한 관찰 결과가 $k$에 속하게 될, 사전 확률 (prior probability)이라고 하자.\n",
    "\n",
    "* 즉, 이 확률은 $X$에 대한 정보 없이 결정된 확률이다.\n",
    "\n",
    "$Y$가 $k$의 클래스에 속할 때, $X$의 확률밀도함수를 다음과 같이 정의하자.\n",
    "\n",
    "$$ f_k(X) = \\mathbb P (X=x | Y=k) $$\n",
    "\n",
    "Bayes 정리에 따르면,\n",
    "\n",
    "$$ \\mathbb P(Y = k | X = x) = \\frac{\\pi_k f_k(x)}{\\sum_{l=1}^{K} \\pi_l f_l(x)} $$\n",
    "\n",
    "한편, $p_k(x) = \\mathbb P(Y = k | X = x)$라고 하겠다. 이를 사후 확률, posterior probability 라고도 한다.\n",
    "\n",
    "이전에는 $p_k$를 직접 계산하는 것이 목표였다면, LDA에서는 $\\pi$들과 $f$들을 추정하여, $p_k$를 추정한다.\n",
    "\n",
    "* $\\pi_k$는 추정이 쉽다.\n",
    "\n",
    "* 반면, $f_k$의 추정은 더 어려운 문제이다.\n",
    "\n"
   ]
  },
  {
   "cell_type": "markdown",
   "metadata": {},
   "source": [
    "### Linear Discriminant Analysis when p = 1\n",
    "\n",
    "$Y$가 $k$의 클래스에 속할 때, $X$의 확률밀도함수 $f_k$를 정규분포로 가정해 보자.\n",
    "\n",
    "$$ f_k(x) = \\frac{1}{\\sqrt{2 \\pi} \\sigma_k} e^{ -\\frac{1}{2} \\left( \\frac{x - \\mu_k}{\\sigma_k} \\right)^2 } $$\n",
    "\n",
    "여기서 $\\mu_k$는 평균, $\\sigma_k^2$은 분산이다.\n",
    "\n",
    "편의를 위해 $\\sigma_k = \\sigma$로 가정하겠다.\n",
    "\n",
    "Bayes 정리 식에 따르면 $p_k(x) = \\mathbb P (Y = k | X = x)$에 대한 다음의 다소 복잡한 식을 얻는다.\n",
    "\n",
    "$$ p_k (x) = \\frac{\\pi_k \\frac{1}{\\sqrt{2 \\pi} \\sigma} e^{-\\frac{1}{2}\\left( \\frac{x - \\mu_k}{\\sigma} \\right)^2}}{\\sum_{l=1}^{K} \\pi_l \\frac{1}{\\sqrt{2 \\pi} \\sigma} e^{-\\frac{1}{2}\\left( \\frac{x - \\mu_l}{\\sigma} \\right)^2}} $$\n",
    "\n",
    "$X=x$에서의 분류를 위하여 어떤 $p_k (x)$가 가장 큰지 알아봐야 한다.\n",
    "\n",
    "위 식에 로그를 취하고, 불필요한 항을 제거하면, discriminant score라 불리우는 다음의 값을 얻는다.\n",
    "\n",
    "$$ \\delta_k (x) = x \\frac{\\mu_k}{\\sigma^2} - \\frac{\\mu_k^2}{2 \\sigma^2} + \\log (\\pi_k) $$\n",
    "\n",
    "$p_k$ 중 어느 것이 가장 큰지를 찾는 것과 $\\delta_k$ 중 어느 것이 가장 큰지 찾는 문제는 동치이다.\n",
    "\n",
    "$\\delta_k$는 $x$의 선형 함수임을 주목하라.\n",
    "\n",
    "예들들어 만약 $K=2$이고, $\\pi_1 = \\pi_2 = 0.5$이면 결정 경계는 다음과 같다.\n",
    "\n",
    "$$ x = \\frac{\\mu_1 + \\mu_2}{2} $$\n",
    "\n",
    "실제로는 모수의 값들을 알지 못하기 때문에 다음으로 추정하여 사용한다.\n",
    "\n",
    "\\begin{align*}\n",
    "\\hat \\pi_k &= \\frac{n_k}{n} \\\\\n",
    "\\hat \\mu_k &= \\frac{1}{n_k} \\sum_{i:y_i=k} x_i \\\\\n",
    "\\hat \\sigma^2 &= \\frac{1}{n-K} \\sum_{k=1}^{K} \\sum_{i:y_i=k}(x_i - \\hat \\mu_k)^2\n",
    "\\end{align*}\n"
   ]
  },
  {
   "cell_type": "markdown",
   "metadata": {},
   "source": [
    "### Linear Discriminant Analysis when p > 1\n",
    "\n",
    "다변량 정규분포를 이용하여 $p>1$인 경우로 확장가능하다.\n",
    "\n",
    "다변량 정규분포의 확률밀도함수는 다음으로 정의된다.\n",
    "\n",
    "$$ f(X) = \\frac{1}{(2\\pi)^{p/2} |\\Sigma|^{1/2}} \\exp \\left(-\\frac{1}{2} (x - \\mu)^{\\top} \\Sigma^{-1} (x - \\mu) \\right) $$\n",
    "\n",
    "여기서 $\\mu$는 평균으로 이루어진 벡터, $\\Sigma$는 공분산 행렬, $|\\Sigma|$는 행렬식 (determinant)을 의미한다. \n",
    "\n",
    "LDA에서는 $k$번째 클래스에 대응되는 $X$의 분포가 $N(\\mu_k, \\Sigma)$를 따른다고 가정한다. $X$의 크기에 따라 $\\mu_k$ 또한 벡터로 표현됨을 주목하라.\n",
    "\n",
    "이를 이용하여 discriminant score를 계산하면,\n",
    "\n",
    "$$ \\delta_k (x) = x^{\\top} \\Sigma^{-1} \\mu_k - \\frac{1}{2} \\mu_k^{\\top} \\Sigma^{-1} \\mu_k + \\log \\pi_k $$\n",
    "\n",
    "이며, 따라서, $X=x$의 관찰값에 대해 $\\delta_k$의 값이 가장 큰 클래스를 선정한다.\n",
    "\n",
    "비록 $\\delta_k$는 복잡해 보여도 $x$들에 대한 선형함수이다.\n",
    "\n",
    "아래는 $\\pi_1 = \\pi_2 = \\pi_3 = 1/3$에 대한 LDA 경계선의 예제이다.\n",
    "\n",
    "점선은 Bayes decision boundary 이고, 실선이 정규분포를 바탕으로 한 LDA boundary이다. \n",
    "\n",
    "<img src=\"image/LDA3.png\" width=\"700\">\n",
    "\n",
    "데이터로부터 $\\hat \\delta_k (x)$가 추정되면, 이 추정치를 각 클래스에 대한 확률 추정에 사용할 수 있다.\n",
    "\n",
    "$$ \\hat{\\mathbb P} (Y=k | X=x) = \\frac{e^{\\hat \\delta_k (x)}}{\\sum_{l = 1}^{K} e^{\\hat \\delta_{l}(x)}} $$"
   ]
  },
  {
   "cell_type": "code",
   "execution_count": 19,
   "metadata": {},
   "outputs": [],
   "source": [
    "from sklearn import datasets\n",
    "import pandas as pd\n",
    "raw_wine = datasets.load_wine()"
   ]
  },
  {
   "cell_type": "code",
   "execution_count": 20,
   "metadata": {},
   "outputs": [
    {
     "data": {
      "text/plain": [
       "{'data': array([[1.423e+01, 1.710e+00, 2.430e+00, ..., 1.040e+00, 3.920e+00,\n",
       "         1.065e+03],\n",
       "        [1.320e+01, 1.780e+00, 2.140e+00, ..., 1.050e+00, 3.400e+00,\n",
       "         1.050e+03],\n",
       "        [1.316e+01, 2.360e+00, 2.670e+00, ..., 1.030e+00, 3.170e+00,\n",
       "         1.185e+03],\n",
       "        ...,\n",
       "        [1.327e+01, 4.280e+00, 2.260e+00, ..., 5.900e-01, 1.560e+00,\n",
       "         8.350e+02],\n",
       "        [1.317e+01, 2.590e+00, 2.370e+00, ..., 6.000e-01, 1.620e+00,\n",
       "         8.400e+02],\n",
       "        [1.413e+01, 4.100e+00, 2.740e+00, ..., 6.100e-01, 1.600e+00,\n",
       "         5.600e+02]]),\n",
       " 'target': array([0, 0, 0, 0, 0, 0, 0, 0, 0, 0, 0, 0, 0, 0, 0, 0, 0, 0, 0, 0, 0, 0,\n",
       "        0, 0, 0, 0, 0, 0, 0, 0, 0, 0, 0, 0, 0, 0, 0, 0, 0, 0, 0, 0, 0, 0,\n",
       "        0, 0, 0, 0, 0, 0, 0, 0, 0, 0, 0, 0, 0, 0, 0, 1, 1, 1, 1, 1, 1, 1,\n",
       "        1, 1, 1, 1, 1, 1, 1, 1, 1, 1, 1, 1, 1, 1, 1, 1, 1, 1, 1, 1, 1, 1,\n",
       "        1, 1, 1, 1, 1, 1, 1, 1, 1, 1, 1, 1, 1, 1, 1, 1, 1, 1, 1, 1, 1, 1,\n",
       "        1, 1, 1, 1, 1, 1, 1, 1, 1, 1, 1, 1, 1, 1, 1, 1, 1, 1, 1, 1, 2, 2,\n",
       "        2, 2, 2, 2, 2, 2, 2, 2, 2, 2, 2, 2, 2, 2, 2, 2, 2, 2, 2, 2, 2, 2,\n",
       "        2, 2, 2, 2, 2, 2, 2, 2, 2, 2, 2, 2, 2, 2, 2, 2, 2, 2, 2, 2, 2, 2,\n",
       "        2, 2]),\n",
       " 'frame': None,\n",
       " 'target_names': array(['class_0', 'class_1', 'class_2'], dtype='<U7'),\n",
       " 'DESCR': '.. _wine_dataset:\\n\\nWine recognition dataset\\n------------------------\\n\\n**Data Set Characteristics:**\\n\\n    :Number of Instances: 178 (50 in each of three classes)\\n    :Number of Attributes: 13 numeric, predictive attributes and the class\\n    :Attribute Information:\\n \\t\\t- Alcohol\\n \\t\\t- Malic acid\\n \\t\\t- Ash\\n\\t\\t- Alcalinity of ash  \\n \\t\\t- Magnesium\\n\\t\\t- Total phenols\\n \\t\\t- Flavanoids\\n \\t\\t- Nonflavanoid phenols\\n \\t\\t- Proanthocyanins\\n\\t\\t- Color intensity\\n \\t\\t- Hue\\n \\t\\t- OD280/OD315 of diluted wines\\n \\t\\t- Proline\\n\\n    - class:\\n            - class_0\\n            - class_1\\n            - class_2\\n\\t\\t\\n    :Summary Statistics:\\n    \\n    ============================= ==== ===== ======= =====\\n                                   Min   Max   Mean     SD\\n    ============================= ==== ===== ======= =====\\n    Alcohol:                      11.0  14.8    13.0   0.8\\n    Malic Acid:                   0.74  5.80    2.34  1.12\\n    Ash:                          1.36  3.23    2.36  0.27\\n    Alcalinity of Ash:            10.6  30.0    19.5   3.3\\n    Magnesium:                    70.0 162.0    99.7  14.3\\n    Total Phenols:                0.98  3.88    2.29  0.63\\n    Flavanoids:                   0.34  5.08    2.03  1.00\\n    Nonflavanoid Phenols:         0.13  0.66    0.36  0.12\\n    Proanthocyanins:              0.41  3.58    1.59  0.57\\n    Colour Intensity:              1.3  13.0     5.1   2.3\\n    Hue:                          0.48  1.71    0.96  0.23\\n    OD280/OD315 of diluted wines: 1.27  4.00    2.61  0.71\\n    Proline:                       278  1680     746   315\\n    ============================= ==== ===== ======= =====\\n\\n    :Missing Attribute Values: None\\n    :Class Distribution: class_0 (59), class_1 (71), class_2 (48)\\n    :Creator: R.A. Fisher\\n    :Donor: Michael Marshall (MARSHALL%PLU@io.arc.nasa.gov)\\n    :Date: July, 1988\\n\\nThis is a copy of UCI ML Wine recognition datasets.\\nhttps://archive.ics.uci.edu/ml/machine-learning-databases/wine/wine.data\\n\\nThe data is the results of a chemical analysis of wines grown in the same\\nregion in Italy by three different cultivators. There are thirteen different\\nmeasurements taken for different constituents found in the three types of\\nwine.\\n\\nOriginal Owners: \\n\\nForina, M. et al, PARVUS - \\nAn Extendible Package for Data Exploration, Classification and Correlation. \\nInstitute of Pharmaceutical and Food Analysis and Technologies,\\nVia Brigata Salerno, 16147 Genoa, Italy.\\n\\nCitation:\\n\\nLichman, M. (2013). UCI Machine Learning Repository\\n[https://archive.ics.uci.edu/ml]. Irvine, CA: University of California,\\nSchool of Information and Computer Science. \\n\\n.. topic:: References\\n\\n  (1) S. Aeberhard, D. Coomans and O. de Vel, \\n  Comparison of Classifiers in High Dimensional Settings, \\n  Tech. Rep. no. 92-02, (1992), Dept. of Computer Science and Dept. of  \\n  Mathematics and Statistics, James Cook University of North Queensland. \\n  (Also submitted to Technometrics). \\n\\n  The data was used with many others for comparing various \\n  classifiers. The classes are separable, though only RDA \\n  has achieved 100% correct classification. \\n  (RDA : 100%, QDA 99.4%, LDA 98.9%, 1NN 96.1% (z-transformed data)) \\n  (All results using the leave-one-out technique) \\n\\n  (2) S. Aeberhard, D. Coomans and O. de Vel, \\n  \"THE CLASSIFICATION PERFORMANCE OF RDA\" \\n  Tech. Rep. no. 92-01, (1992), Dept. of Computer Science and Dept. of \\n  Mathematics and Statistics, James Cook University of North Queensland. \\n  (Also submitted to Journal of Chemometrics).\\n',\n",
       " 'feature_names': ['alcohol',\n",
       "  'malic_acid',\n",
       "  'ash',\n",
       "  'alcalinity_of_ash',\n",
       "  'magnesium',\n",
       "  'total_phenols',\n",
       "  'flavanoids',\n",
       "  'nonflavanoid_phenols',\n",
       "  'proanthocyanins',\n",
       "  'color_intensity',\n",
       "  'hue',\n",
       "  'od280/od315_of_diluted_wines',\n",
       "  'proline']}"
      ]
     },
     "execution_count": 20,
     "metadata": {},
     "output_type": "execute_result"
    }
   ],
   "source": [
    "raw_wine"
   ]
  },
  {
   "cell_type": "code",
   "execution_count": 21,
   "metadata": {},
   "outputs": [
    {
     "data": {
      "text/plain": [
       "['alcohol',\n",
       " 'malic_acid',\n",
       " 'ash',\n",
       " 'alcalinity_of_ash',\n",
       " 'magnesium',\n",
       " 'total_phenols',\n",
       " 'flavanoids',\n",
       " 'nonflavanoid_phenols',\n",
       " 'proanthocyanins',\n",
       " 'color_intensity',\n",
       " 'hue',\n",
       " 'od280/od315_of_diluted_wines',\n",
       " 'proline']"
      ]
     },
     "execution_count": 21,
     "metadata": {},
     "output_type": "execute_result"
    }
   ],
   "source": [
    "raw_wine[\"feature_names\"]"
   ]
  },
  {
   "cell_type": "code",
   "execution_count": 22,
   "metadata": {},
   "outputs": [
    {
     "data": {
      "text/html": [
       "<div>\n",
       "<style scoped>\n",
       "    .dataframe tbody tr th:only-of-type {\n",
       "        vertical-align: middle;\n",
       "    }\n",
       "\n",
       "    .dataframe tbody tr th {\n",
       "        vertical-align: top;\n",
       "    }\n",
       "\n",
       "    .dataframe thead th {\n",
       "        text-align: right;\n",
       "    }\n",
       "</style>\n",
       "<table border=\"1\" class=\"dataframe\">\n",
       "  <thead>\n",
       "    <tr style=\"text-align: right;\">\n",
       "      <th></th>\n",
       "      <th>alcohol</th>\n",
       "      <th>malic_acid</th>\n",
       "      <th>ash</th>\n",
       "      <th>alcalinity_of_ash</th>\n",
       "      <th>magnesium</th>\n",
       "      <th>total_phenols</th>\n",
       "      <th>flavanoids</th>\n",
       "      <th>nonflavanoid_phenols</th>\n",
       "      <th>proanthocyanins</th>\n",
       "      <th>color_intensity</th>\n",
       "      <th>hue</th>\n",
       "      <th>od280/od315_of_diluted_wines</th>\n",
       "      <th>proline</th>\n",
       "    </tr>\n",
       "  </thead>\n",
       "  <tbody>\n",
       "    <tr>\n",
       "      <th>0</th>\n",
       "      <td>14.23</td>\n",
       "      <td>1.71</td>\n",
       "      <td>2.43</td>\n",
       "      <td>15.6</td>\n",
       "      <td>127.0</td>\n",
       "      <td>2.80</td>\n",
       "      <td>3.06</td>\n",
       "      <td>0.28</td>\n",
       "      <td>2.29</td>\n",
       "      <td>5.64</td>\n",
       "      <td>1.04</td>\n",
       "      <td>3.92</td>\n",
       "      <td>1065.0</td>\n",
       "    </tr>\n",
       "    <tr>\n",
       "      <th>1</th>\n",
       "      <td>13.20</td>\n",
       "      <td>1.78</td>\n",
       "      <td>2.14</td>\n",
       "      <td>11.2</td>\n",
       "      <td>100.0</td>\n",
       "      <td>2.65</td>\n",
       "      <td>2.76</td>\n",
       "      <td>0.26</td>\n",
       "      <td>1.28</td>\n",
       "      <td>4.38</td>\n",
       "      <td>1.05</td>\n",
       "      <td>3.40</td>\n",
       "      <td>1050.0</td>\n",
       "    </tr>\n",
       "    <tr>\n",
       "      <th>2</th>\n",
       "      <td>13.16</td>\n",
       "      <td>2.36</td>\n",
       "      <td>2.67</td>\n",
       "      <td>18.6</td>\n",
       "      <td>101.0</td>\n",
       "      <td>2.80</td>\n",
       "      <td>3.24</td>\n",
       "      <td>0.30</td>\n",
       "      <td>2.81</td>\n",
       "      <td>5.68</td>\n",
       "      <td>1.03</td>\n",
       "      <td>3.17</td>\n",
       "      <td>1185.0</td>\n",
       "    </tr>\n",
       "    <tr>\n",
       "      <th>3</th>\n",
       "      <td>14.37</td>\n",
       "      <td>1.95</td>\n",
       "      <td>2.50</td>\n",
       "      <td>16.8</td>\n",
       "      <td>113.0</td>\n",
       "      <td>3.85</td>\n",
       "      <td>3.49</td>\n",
       "      <td>0.24</td>\n",
       "      <td>2.18</td>\n",
       "      <td>7.80</td>\n",
       "      <td>0.86</td>\n",
       "      <td>3.45</td>\n",
       "      <td>1480.0</td>\n",
       "    </tr>\n",
       "    <tr>\n",
       "      <th>4</th>\n",
       "      <td>13.24</td>\n",
       "      <td>2.59</td>\n",
       "      <td>2.87</td>\n",
       "      <td>21.0</td>\n",
       "      <td>118.0</td>\n",
       "      <td>2.80</td>\n",
       "      <td>2.69</td>\n",
       "      <td>0.39</td>\n",
       "      <td>1.82</td>\n",
       "      <td>4.32</td>\n",
       "      <td>1.04</td>\n",
       "      <td>2.93</td>\n",
       "      <td>735.0</td>\n",
       "    </tr>\n",
       "    <tr>\n",
       "      <th>...</th>\n",
       "      <td>...</td>\n",
       "      <td>...</td>\n",
       "      <td>...</td>\n",
       "      <td>...</td>\n",
       "      <td>...</td>\n",
       "      <td>...</td>\n",
       "      <td>...</td>\n",
       "      <td>...</td>\n",
       "      <td>...</td>\n",
       "      <td>...</td>\n",
       "      <td>...</td>\n",
       "      <td>...</td>\n",
       "      <td>...</td>\n",
       "    </tr>\n",
       "    <tr>\n",
       "      <th>173</th>\n",
       "      <td>13.71</td>\n",
       "      <td>5.65</td>\n",
       "      <td>2.45</td>\n",
       "      <td>20.5</td>\n",
       "      <td>95.0</td>\n",
       "      <td>1.68</td>\n",
       "      <td>0.61</td>\n",
       "      <td>0.52</td>\n",
       "      <td>1.06</td>\n",
       "      <td>7.70</td>\n",
       "      <td>0.64</td>\n",
       "      <td>1.74</td>\n",
       "      <td>740.0</td>\n",
       "    </tr>\n",
       "    <tr>\n",
       "      <th>174</th>\n",
       "      <td>13.40</td>\n",
       "      <td>3.91</td>\n",
       "      <td>2.48</td>\n",
       "      <td>23.0</td>\n",
       "      <td>102.0</td>\n",
       "      <td>1.80</td>\n",
       "      <td>0.75</td>\n",
       "      <td>0.43</td>\n",
       "      <td>1.41</td>\n",
       "      <td>7.30</td>\n",
       "      <td>0.70</td>\n",
       "      <td>1.56</td>\n",
       "      <td>750.0</td>\n",
       "    </tr>\n",
       "    <tr>\n",
       "      <th>175</th>\n",
       "      <td>13.27</td>\n",
       "      <td>4.28</td>\n",
       "      <td>2.26</td>\n",
       "      <td>20.0</td>\n",
       "      <td>120.0</td>\n",
       "      <td>1.59</td>\n",
       "      <td>0.69</td>\n",
       "      <td>0.43</td>\n",
       "      <td>1.35</td>\n",
       "      <td>10.20</td>\n",
       "      <td>0.59</td>\n",
       "      <td>1.56</td>\n",
       "      <td>835.0</td>\n",
       "    </tr>\n",
       "    <tr>\n",
       "      <th>176</th>\n",
       "      <td>13.17</td>\n",
       "      <td>2.59</td>\n",
       "      <td>2.37</td>\n",
       "      <td>20.0</td>\n",
       "      <td>120.0</td>\n",
       "      <td>1.65</td>\n",
       "      <td>0.68</td>\n",
       "      <td>0.53</td>\n",
       "      <td>1.46</td>\n",
       "      <td>9.30</td>\n",
       "      <td>0.60</td>\n",
       "      <td>1.62</td>\n",
       "      <td>840.0</td>\n",
       "    </tr>\n",
       "    <tr>\n",
       "      <th>177</th>\n",
       "      <td>14.13</td>\n",
       "      <td>4.10</td>\n",
       "      <td>2.74</td>\n",
       "      <td>24.5</td>\n",
       "      <td>96.0</td>\n",
       "      <td>2.05</td>\n",
       "      <td>0.76</td>\n",
       "      <td>0.56</td>\n",
       "      <td>1.35</td>\n",
       "      <td>9.20</td>\n",
       "      <td>0.61</td>\n",
       "      <td>1.60</td>\n",
       "      <td>560.0</td>\n",
       "    </tr>\n",
       "  </tbody>\n",
       "</table>\n",
       "<p>178 rows × 13 columns</p>\n",
       "</div>"
      ],
      "text/plain": [
       "     alcohol  malic_acid   ash  alcalinity_of_ash  magnesium  total_phenols  \\\n",
       "0      14.23        1.71  2.43               15.6      127.0           2.80   \n",
       "1      13.20        1.78  2.14               11.2      100.0           2.65   \n",
       "2      13.16        2.36  2.67               18.6      101.0           2.80   \n",
       "3      14.37        1.95  2.50               16.8      113.0           3.85   \n",
       "4      13.24        2.59  2.87               21.0      118.0           2.80   \n",
       "..       ...         ...   ...                ...        ...            ...   \n",
       "173    13.71        5.65  2.45               20.5       95.0           1.68   \n",
       "174    13.40        3.91  2.48               23.0      102.0           1.80   \n",
       "175    13.27        4.28  2.26               20.0      120.0           1.59   \n",
       "176    13.17        2.59  2.37               20.0      120.0           1.65   \n",
       "177    14.13        4.10  2.74               24.5       96.0           2.05   \n",
       "\n",
       "     flavanoids  nonflavanoid_phenols  proanthocyanins  color_intensity   hue  \\\n",
       "0          3.06                  0.28             2.29             5.64  1.04   \n",
       "1          2.76                  0.26             1.28             4.38  1.05   \n",
       "2          3.24                  0.30             2.81             5.68  1.03   \n",
       "3          3.49                  0.24             2.18             7.80  0.86   \n",
       "4          2.69                  0.39             1.82             4.32  1.04   \n",
       "..          ...                   ...              ...              ...   ...   \n",
       "173        0.61                  0.52             1.06             7.70  0.64   \n",
       "174        0.75                  0.43             1.41             7.30  0.70   \n",
       "175        0.69                  0.43             1.35            10.20  0.59   \n",
       "176        0.68                  0.53             1.46             9.30  0.60   \n",
       "177        0.76                  0.56             1.35             9.20  0.61   \n",
       "\n",
       "     od280/od315_of_diluted_wines  proline  \n",
       "0                            3.92   1065.0  \n",
       "1                            3.40   1050.0  \n",
       "2                            3.17   1185.0  \n",
       "3                            3.45   1480.0  \n",
       "4                            2.93    735.0  \n",
       "..                            ...      ...  \n",
       "173                          1.74    740.0  \n",
       "174                          1.56    750.0  \n",
       "175                          1.56    835.0  \n",
       "176                          1.62    840.0  \n",
       "177                          1.60    560.0  \n",
       "\n",
       "[178 rows x 13 columns]"
      ]
     },
     "execution_count": 22,
     "metadata": {},
     "output_type": "execute_result"
    }
   ],
   "source": [
    "pd.DataFrame(raw_wine[\"data\"], columns = raw_wine[\"feature_names\"])"
   ]
  },
  {
   "cell_type": "code",
   "execution_count": 23,
   "metadata": {},
   "outputs": [],
   "source": [
    "X, y  = raw_wine.data[:,:2], raw_wine.target"
   ]
  },
  {
   "cell_type": "code",
   "execution_count": 24,
   "metadata": {},
   "outputs": [],
   "source": [
    "# 트레이닝 테스트 데이터 분할\n",
    "from sklearn.model_selection import train_test_split\n",
    "X_tn, X_te, y_tn, y_te = train_test_split(X, y, random_state=1)"
   ]
  },
  {
   "cell_type": "code",
   "execution_count": 25,
   "metadata": {},
   "outputs": [],
   "source": [
    "# 표준화\n",
    "from sklearn.preprocessing import StandardScaler\n",
    "std_scale = StandardScaler()\n",
    "X_tn_std = std_scale.fit(X).transform(X_tn)\n",
    "X_te_std = std_scale.fit(X).transform(X_te)"
   ]
  },
  {
   "cell_type": "code",
   "execution_count": 27,
   "metadata": {},
   "outputs": [
    {
     "data": {
      "text/plain": [
       "LinearDiscriminantAnalysis()"
      ]
     },
     "execution_count": 27,
     "metadata": {},
     "output_type": "execute_result"
    }
   ],
   "source": [
    "from sklearn.discriminant_analysis import LinearDiscriminantAnalysis\n",
    "lda = LinearDiscriminantAnalysis()\n",
    "lda.fit(X_tn, y_tn)"
   ]
  },
  {
   "cell_type": "code",
   "execution_count": 28,
   "metadata": {},
   "outputs": [],
   "source": [
    "xx1, xx2 = np.meshgrid(np.linspace(11, 15, 1000),\n",
    "                         np.linspace(0, 6, 1000))"
   ]
  },
  {
   "cell_type": "code",
   "execution_count": 29,
   "metadata": {},
   "outputs": [
    {
     "data": {
      "text/plain": [
       "array([[7.69457463e-05, 9.99809843e-01, 1.13211495e-04],\n",
       "       [7.83921354e-05, 9.99807085e-01, 1.14522994e-04],\n",
       "       [7.98657096e-05, 9.99804285e-01, 1.15849680e-04],\n",
       "       ...,\n",
       "       [1.44024013e-01, 2.04954165e-05, 8.55955492e-01],\n",
       "       [1.44902190e-01, 2.02398699e-05, 8.55077570e-01],\n",
       "       [1.45784811e-01, 1.99873845e-05, 8.54195202e-01]])"
      ]
     },
     "execution_count": 29,
     "metadata": {},
     "output_type": "execute_result"
    }
   ],
   "source": [
    "import numpy as np\n",
    "from matplotlib import colors\n",
    "\n",
    "xx1, xx2 = np.meshgrid(np.linspace(11, 15, 1000),\n",
    "                         np.linspace(0, 6, 1000))\n",
    "\n",
    "\n",
    "Z = lda.predict_proba(np.c_[xx1.ravel(), xx2.ravel()])\n",
    "Z"
   ]
  },
  {
   "cell_type": "code",
   "execution_count": 30,
   "metadata": {},
   "outputs": [
    {
     "data": {
      "text/plain": [
       "array([[1, 1, 1, ..., 0, 0, 0],\n",
       "       [1, 1, 1, ..., 0, 0, 0],\n",
       "       [1, 1, 1, ..., 0, 0, 0],\n",
       "       ...,\n",
       "       [1, 1, 1, ..., 2, 2, 2],\n",
       "       [1, 1, 1, ..., 2, 2, 2],\n",
       "       [1, 1, 1, ..., 2, 2, 2]], dtype=int64)"
      ]
     },
     "execution_count": 30,
     "metadata": {},
     "output_type": "execute_result"
    }
   ],
   "source": [
    "clss = np.argmax(Z, axis=1).reshape(xx1.shape)\n",
    "clss"
   ]
  },
  {
   "cell_type": "code",
   "execution_count": 31,
   "metadata": {},
   "outputs": [
    {
     "data": {
      "image/png": "[encoded data removed]",
      "text/plain": [
       "<Figure size 432x288 with 1 Axes>"
      ]
     },
     "metadata": {
      "needs_background": "light"
     },
     "output_type": "display_data"
    }
   ],
   "source": [
    "plt.pcolormesh(xx1, xx2, clss, cmap=\"Pastel1\")\n",
    "\n",
    "df = pd.DataFrame(X_tn, columns = raw_wine[\"feature_names\"][:2])\n",
    "df['target'] = y_tn\n",
    "markers = ['o', 'x', '^']\n",
    "\n",
    "for i, mark in enumerate(markers):\n",
    "    X_i = df[df['target'] == i]\n",
    "    class_i = raw_wine.target_names[i]\n",
    "    plt.scatter(X_i[[\"alcohol\"]], X_i[[\"malic_acid\"]], marker = mark, label = class_i)\n",
    "    plt.legend()\n",
    "    \n",
    "plt.show()"
   ]
  },
  {
   "cell_type": "markdown",
   "metadata": {},
   "source": [
    "### Confusion matrix\n",
    "\n",
    "\n",
    "|            |          | True  status   |                |\n",
    "|------------|----------|----------------|----------------|\n",
    "|            |          | Positive       | Negative       |\n",
    "| Prediction | Positive | True Positive  | False Positive |\n",
    "|            | Negative | False Negative | True Negative  |\n",
    "|            |          |                |                |\n",
    "\n",
    "\n",
    "Types of errors\n",
    "\n",
    "* False positive rate : 실제 negative 중 positive로 잘못 예상된 False positive에 해당하는 비율   \n",
    "* False negative rate : 실제 positive 중 negative로 잘못 예상된 False negative에 해당하는 비율\n",
    "\n",
    "그 외의 용어들:\n",
    "\n",
    "* 민감도, 재현율, Sensitivity, Recall (True positive rate) : 실제 positive 중 True positive에 해당하는 비율, 실제 postive 중 올바르게 positive로 예측된 비율\n",
    "  * 1 - FNR\n",
    "* 특이도, Specificity (True negative rate) : 실제 negative 중 True negative에 해당하는 비율, 실제 negative 중 올바르게 negative로 예측된 비율\n",
    "  * 1 - FPR\n",
    "* 정밀도, Precision (Positive predictive rate) : 양성 예측 중 실제 양성의 비율\n",
    "* Negative predictive rate : 음성 예축 중 실제 음성의 비율\n",
    "* 정확도, Accuracy : 전체 데이터 중 정답으로 분류되는 비율\n",
    "* 에러율, Error rate : 전체 데이터 중 오답으로 분류되는 비율\n",
    "\n",
    "정밀도와 재현율은 트레이드오프를 지닌다. \n",
    "\n",
    "정밀도를 올리면 재현율 (민감도)이 줄고, 재현율을 높이면 정밀도가 낮아지는 경향이 있다.\n",
    "\n",
    "양성으로 판정되는 기준을 높이면 정밀도가 올라가나, 민감도 (재현율)은 떨어진다.\n",
    "\n",
    "양성으로 판정되는 기준을 낮추면 재현율은 올라가나, 정밀도는 떨어진다.\n"
   ]
  },
  {
   "cell_type": "markdown",
   "metadata": {},
   "source": [
    "<img src=\"image/trade_off.png\" width=\"600\">"
   ]
  },
  {
   "cell_type": "markdown",
   "metadata": {},
   "source": [
    "### ROC (receiver operating characteristic) curve\n",
    "\n",
    "x-축에 FPR (False positive rate)을 놓고, y-축에 민감도 (재현율)의 값을 놓고 비교하는 것\n",
    "\n",
    "모형마다 ROC가 다르며, ROC 아래의 면적 (AUC)이 클 수록 좋은 분류기라고 할 수 있다.\n",
    "\n",
    "<img src=\"image/roc.png\" width=\"400\">\n",
    "\n",
    "한편, 위 ROC 곡선에서 FPR은 낮으면서, 재현율은 높은 지점에 해당하는 적절한 모형을 선택하는 것이 중요할 것이다."
   ]
  },
  {
   "cell_type": "code",
   "execution_count": 32,
   "metadata": {},
   "outputs": [
    {
     "name": "stdout",
     "output_type": "stream",
     "text": [
      "[2 1 2 1 0 2 1 0 2 1 0 2 1 0 1 1 0 0 1 0 0 1 1 1 0 2 0 0 0 2 1 0 1 0 1 1 1\n",
      " 1 1 0 0 1 2 2 0]\n"
     ]
    }
   ],
   "source": [
    "pred_by_LDA = lda.predict(X_te)\n",
    "print(pred_by_LDA)"
   ]
  },
  {
   "cell_type": "code",
   "execution_count": 33,
   "metadata": {},
   "outputs": [
    {
     "name": "stdout",
     "output_type": "stream",
     "text": [
      "              precision    recall  f1-score   support\n",
      "\n",
      "           0       0.88      0.83      0.86        18\n",
      "           1       0.89      1.00      0.94        17\n",
      "           2       0.67      0.60      0.63        10\n",
      "\n",
      "    accuracy                           0.84        45\n",
      "   macro avg       0.81      0.81      0.81        45\n",
      "weighted avg       0.84      0.84      0.84        45\n",
      "\n"
     ]
    }
   ],
   "source": [
    "from sklearn.metrics import classification_report\n",
    "class_report = classification_report(y_te, pred_by_LDA)\n",
    "print(class_report)"
   ]
  },
  {
   "cell_type": "markdown",
   "metadata": {},
   "source": [
    "### 다른 형태의 discriminant analysis\n",
    "\n",
    "* $f_k(x)$가 Gaussian이며 $\\Sigma_{k}$가 각 클래스 별로 다를 경우, quadratic discriminant analysis라고 한다.\n",
    "\n",
    "* $f_k(x) = \\prod_{j=1}^{p} f_{jk}(x_j)$, 즉, $x$들이 조건부 독립일 때, 이를 naive Bayes라고 한다.\n",
    "\n",
    "* 그 외에, $f_k$를 어떻게 정의하느냐에 따라 다양한 discriminant analysis form이 존재할 수 있다."
   ]
  },
  {
   "cell_type": "markdown",
   "metadata": {},
   "source": [
    "### Quadratic discriminant analysis\n",
    "\n",
    "$$ \\delta_k(x) = -\\frac{1}{2} (x - \\mu_k)^{\\top} \\Sigma_{k}^{-1} (x - \\mu_k) + \\log \\pi_k $$\n",
    "\n",
    "$k$에 따라 $\\Sigma_{k}$가 다르기 때문에, quadratic 형태의 라인이 경계선으로 나타난다.\n",
    "\n",
    "<img src=\"image/QDA.png\" width=\"700\">"
   ]
  },
  {
   "cell_type": "markdown",
   "metadata": {},
   "source": [
    "### Naive Bayes\n",
    "\n",
    "$x$들이 모두 독립이라고 가정한 경우를 Naive Bayes라고 부른다.\n",
    "\n",
    "$p$가 클 경우 유용하다.\n",
    "\n",
    "Gaussian naive Bayes에서는 $\\Sigma_k$가 대각 행렬이 된다. 따라서\n",
    "\n",
    "$$ \\delta_k(x) \\propto \\log \\left[ \\pi_k \\prod_{j=1}^{p} f_{kj}(x_j) \\right] = -\\frac{1}{2} \\sum_{j=1}^{p} \\frac{(x_j - \\mu_{kj})^2}{\\sigma_{kj}^2} + \\log \\pi_k $$\n",
    "\n",
    "이 방법은 $x$가 질적 변수, 양적 변수가 섞여 있을 때에도 적용할 수 있다.\n",
    "\n",
    "만약 $X_j$가 질적 변수라면, $f_{kj}(x_j)$ 대신 prabability mass function을 적용한다.\n",
    "\n",
    "Naive Bayes는 강한 조건을 가정하지만, 비교적 좋은 분류 결과를 얻는 경향이 있다고 한다."
   ]
  },
  {
   "cell_type": "code",
   "execution_count": 34,
   "metadata": {},
   "outputs": [
    {
     "data": {
      "text/plain": [
       "GaussianNB()"
      ]
     },
     "execution_count": 34,
     "metadata": {},
     "output_type": "execute_result"
    }
   ],
   "source": [
    "from sklearn.naive_bayes import GaussianNB\n",
    "gnb = GaussianNB()\n",
    "gnb.fit(X_tn, y_tn)"
   ]
  },
  {
   "cell_type": "code",
   "execution_count": 35,
   "metadata": {},
   "outputs": [
    {
     "name": "stdout",
     "output_type": "stream",
     "text": [
      "[2 1 2 1 0 2 1 0 1 1 0 0 1 0 1 1 0 0 1 0 0 1 1 1 0 2 0 0 0 2 1 0 1 0 1 1 1\n",
      " 1 1 0 0 1 2 2 0]\n"
     ]
    }
   ],
   "source": [
    "pred_by_gnb = gnb.predict(X_te)\n",
    "print(pred_by_gnb)"
   ]
  },
  {
   "cell_type": "code",
   "execution_count": 36,
   "metadata": {},
   "outputs": [
    {
     "name": "stdout",
     "output_type": "stream",
     "text": [
      "              precision    recall  f1-score   support\n",
      "\n",
      "           0       0.89      0.89      0.89        18\n",
      "           1       0.85      1.00      0.92        17\n",
      "           2       0.71      0.50      0.59        10\n",
      "\n",
      "    accuracy                           0.84        45\n",
      "   macro avg       0.82      0.80      0.80        45\n",
      "weighted avg       0.84      0.84      0.83        45\n",
      "\n"
     ]
    }
   ],
   "source": [
    "class_report_gnb = classification_report(y_te, pred_by_gnb)\n",
    "print(class_report_gnb)"
   ]
  }
 ],
 "metadata": {
  "kernelspec": {
   "display_name": "Python 3",
   "language": "python",
   "name": "python3"
  },
  "language_info": {
   "codemirror_mode": {
    "name": "ipython",
    "version": 3
   },
   "file_extension": ".py",
   "mimetype": "text/x-python",
   "name": "python",
   "nbconvert_exporter": "python",
   "pygments_lexer": "ipython3",
   "version": "3.7.7"
  }
 },
 "nbformat": 4,
 "nbformat_minor": 4
}
